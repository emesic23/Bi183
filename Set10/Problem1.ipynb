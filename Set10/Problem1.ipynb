{
  "cells": [
    {
      "cell_type": "markdown",
      "metadata": {
        "colab_type": "text",
        "id": "view-in-github"
      },
      "source": [
        "<a href=\"https://colab.research.google.com/github/pachterlab/BI-BE-CS-183-2023/blob/main/HW10/HW10Final.ipynb\" target=\"_parent\"><img src=\"https://colab.research.google.com/assets/colab-badge.svg\" alt=\"Open In Colab\"/></a>"
      ]
    },
    {
      "cell_type": "markdown",
      "metadata": {
        "id": "MozW3XxY8ezr"
      },
      "source": [
        "Bi/Be/Cs 183 2022-2023: Intro to Computational Biology\n",
        "TAs: Meichen Fang, Tara Chari, Zitong (Jerry) Wang\n",
        "\n",
        "**Submit your notebooks by sharing a clickable link with Viewer access. Link must be accessible from submitted assignment document.**\n",
        "\n",
        "Make sure Runtime $\\rightarrow$ Restart and run all works without error"
      ]
    },
    {
      "cell_type": "markdown",
      "metadata": {
        "id": "Mu4obGyqS8fh"
      },
      "source": [
        "**HW 10 Final Problem**\n",
        "\n",
        "In this problem you will process a single-cell dataset from the raw fastqs (sequencing reads of the cDNA library) to produce the cell x gene count matrix we usually work with. Given this count matrix you will additionally investigate the impact of various normalization techniques and dimensionality reduction on clustering of the cells (i.e. looking for cell types). With the metadata for this dataset, the cell types and ages of the mice used, you will then compare the efficacy of logistic regression vs neural network based techniques for classifying the age of the mouse a cell came from.\n"
      ]
    },
    {
      "cell_type": "markdown",
      "metadata": {
        "id": "fJ8J92ntz2rk"
      },
      "source": [
        "##**Install packages**"
      ]
    },
    {
      "cell_type": "markdown",
      "metadata": {
        "id": "X5QduXCj1tLC"
      },
      "source": [
        "Install kb-python\n",
        "\n",
        "This package is used to do transcript quantification (as shown in HW 4 Problem 2), aligning sequencing reads to a provided transcriptome to estimate transcript abundances. This produces the gene count matrices we have been working with. kb takes in the raw FASTQ files (the cDNA sequences from the generated cDNA library), aligns the transcript sequences to a reference file for the organism (the kallisto index below), and generates a count matrix of the transcripts (or genes) per cell."
      ]
    },
    {
      "cell_type": "code",
      "execution_count": 1,
      "metadata": {
        "colab": {
          "base_uri": "https://localhost:8080/"
        },
        "id": "uwDBoJ3Q1ss8",
        "outputId": "91b37e3e-97c4-4171-f7ae-3ef171569622"
      },
      "outputs": [
        {
          "name": "stdout",
          "output_type": "stream",
          "text": [
            "Requirement already satisfied: kb-python in /home/fucko/anaconda3/envs/bi183/lib/python3.10/site-packages (0.27.3)\n",
            "Requirement already satisfied: numpy>=1.17.2 in /home/fucko/anaconda3/envs/bi183/lib/python3.10/site-packages (from kb-python) (1.23.5)\n",
            "Requirement already satisfied: plotly>=4.5.0 in /home/fucko/anaconda3/envs/bi183/lib/python3.10/site-packages (from kb-python) (5.13.1)\n",
            "Requirement already satisfied: h5py>=2.10.0 in /home/fucko/anaconda3/envs/bi183/lib/python3.10/site-packages (from kb-python) (3.7.0)\n",
            "Requirement already satisfied: nbconvert>=5.6.0 in /home/fucko/anaconda3/envs/bi183/lib/python3.10/site-packages (from kb-python) (7.2.9)\n",
            "Requirement already satisfied: anndata>=0.6.22.post1 in /home/fucko/anaconda3/envs/bi183/lib/python3.10/site-packages (from kb-python) (0.8.0)\n",
            "Requirement already satisfied: nbformat>=4.4.0 in /home/fucko/anaconda3/envs/bi183/lib/python3.10/site-packages (from kb-python) (5.7.3)\n",
            "Requirement already satisfied: Jinja2>2.10.1 in /home/fucko/anaconda3/envs/bi183/lib/python3.10/site-packages (from kb-python) (3.1.2)\n",
            "Requirement already satisfied: pandas>=1.0.0 in /home/fucko/anaconda3/envs/bi183/lib/python3.10/site-packages (from kb-python) (1.5.2)\n",
            "Requirement already satisfied: scanpy>=1.4.4.post1 in /home/fucko/anaconda3/envs/bi183/lib/python3.10/site-packages (from kb-python) (1.7.0rc1)\n",
            "Requirement already satisfied: scikit-learn>=0.21.3 in /home/fucko/anaconda3/envs/bi183/lib/python3.10/site-packages (from kb-python) (1.2.0)\n",
            "Requirement already satisfied: typing-extensions>=3.7.4 in /home/fucko/anaconda3/envs/bi183/lib/python3.10/site-packages (from kb-python) (4.4.0)\n",
            "Requirement already satisfied: loompy>=3.0.6 in /home/fucko/anaconda3/envs/bi183/lib/python3.10/site-packages (from kb-python) (3.0.7)\n",
            "Requirement already satisfied: ngs-tools>=1.7.3 in /home/fucko/anaconda3/envs/bi183/lib/python3.10/site-packages (from kb-python) (1.8.3)\n",
            "Requirement already satisfied: requests>=2.22.0 in /home/fucko/anaconda3/envs/bi183/lib/python3.10/site-packages (from kb-python) (2.28.1)\n",
            "Requirement already satisfied: natsort in /home/fucko/anaconda3/envs/bi183/lib/python3.10/site-packages (from anndata>=0.6.22.post1->kb-python) (8.2.0)\n",
            "Requirement already satisfied: scipy>1.4 in /home/fucko/anaconda3/envs/bi183/lib/python3.10/site-packages (from anndata>=0.6.22.post1->kb-python) (1.9.3)\n",
            "Requirement already satisfied: packaging>=20 in /home/fucko/anaconda3/envs/bi183/lib/python3.10/site-packages (from anndata>=0.6.22.post1->kb-python) (23.0)\n",
            "Requirement already satisfied: MarkupSafe>=2.0 in /home/fucko/anaconda3/envs/bi183/lib/python3.10/site-packages (from Jinja2>2.10.1->kb-python) (2.1.1)\n",
            "Requirement already satisfied: setuptools in /home/fucko/anaconda3/envs/bi183/lib/python3.10/site-packages (from loompy>=3.0.6->kb-python) (61.2.0)\n",
            "Requirement already satisfied: numpy-groupies in /home/fucko/anaconda3/envs/bi183/lib/python3.10/site-packages (from loompy>=3.0.6->kb-python) (0.9.20)\n",
            "Requirement already satisfied: numba in /home/fucko/anaconda3/envs/bi183/lib/python3.10/site-packages (from loompy>=3.0.6->kb-python) (0.56.4)\n",
            "Requirement already satisfied: click in /home/fucko/anaconda3/envs/bi183/lib/python3.10/site-packages (from loompy>=3.0.6->kb-python) (8.1.3)\n",
            "Requirement already satisfied: pygments>=2.4.1 in /home/fucko/anaconda3/envs/bi183/lib/python3.10/site-packages (from nbconvert>=5.6.0->kb-python) (2.11.2)\n",
            "Requirement already satisfied: tinycss2 in /home/fucko/anaconda3/envs/bi183/lib/python3.10/site-packages (from nbconvert>=5.6.0->kb-python) (1.2.1)\n",
            "Requirement already satisfied: jupyterlab-pygments in /home/fucko/anaconda3/envs/bi183/lib/python3.10/site-packages (from nbconvert>=5.6.0->kb-python) (0.2.2)\n",
            "Requirement already satisfied: pandocfilters>=1.4.1 in /home/fucko/anaconda3/envs/bi183/lib/python3.10/site-packages (from nbconvert>=5.6.0->kb-python) (1.5.0)\n",
            "Requirement already satisfied: bleach in /home/fucko/anaconda3/envs/bi183/lib/python3.10/site-packages (from nbconvert>=5.6.0->kb-python) (6.0.0)\n",
            "Requirement already satisfied: beautifulsoup4 in /home/fucko/anaconda3/envs/bi183/lib/python3.10/site-packages (from nbconvert>=5.6.0->kb-python) (4.11.2)\n",
            "Requirement already satisfied: mistune<3,>=2.0.3 in /home/fucko/anaconda3/envs/bi183/lib/python3.10/site-packages (from nbconvert>=5.6.0->kb-python) (2.0.5)\n",
            "Requirement already satisfied: traitlets>=5.0 in /home/fucko/anaconda3/envs/bi183/lib/python3.10/site-packages (from nbconvert>=5.6.0->kb-python) (5.9.0)\n",
            "Requirement already satisfied: defusedxml in /home/fucko/anaconda3/envs/bi183/lib/python3.10/site-packages (from nbconvert>=5.6.0->kb-python) (0.7.1)\n",
            "Requirement already satisfied: jupyter-core>=4.7 in /home/fucko/anaconda3/envs/bi183/lib/python3.10/site-packages (from nbconvert>=5.6.0->kb-python) (5.2.0)\n",
            "Requirement already satisfied: nbclient>=0.5.0 in /home/fucko/anaconda3/envs/bi183/lib/python3.10/site-packages (from nbconvert>=5.6.0->kb-python) (0.7.2)\n",
            "Requirement already satisfied: jsonschema>=2.6 in /home/fucko/anaconda3/envs/bi183/lib/python3.10/site-packages (from nbformat>=4.4.0->kb-python) (4.17.3)\n",
            "Requirement already satisfied: fastjsonschema in /home/fucko/anaconda3/envs/bi183/lib/python3.10/site-packages (from nbformat>=4.4.0->kb-python) (2.16.3)\n",
            "Requirement already satisfied: pysam>=0.16.0.1 in /home/fucko/anaconda3/envs/bi183/lib/python3.10/site-packages (from ngs-tools>=1.7.3->kb-python) (0.20.0)\n",
            "Requirement already satisfied: shortuuid>=1.0.1 in /home/fucko/anaconda3/envs/bi183/lib/python3.10/site-packages (from ngs-tools>=1.7.3->kb-python) (1.0.11)\n",
            "Requirement already satisfied: joblib>=1.0.1 in /home/fucko/anaconda3/envs/bi183/lib/python3.10/site-packages (from ngs-tools>=1.7.3->kb-python) (1.2.0)\n",
            "Requirement already satisfied: tqdm>=4.50.0 in /home/fucko/anaconda3/envs/bi183/lib/python3.10/site-packages (from ngs-tools>=1.7.3->kb-python) (4.64.1)\n",
            "Requirement already satisfied: python-dateutil>=2.8.1 in /home/fucko/anaconda3/envs/bi183/lib/python3.10/site-packages (from pandas>=1.0.0->kb-python) (2.8.2)\n",
            "Requirement already satisfied: pytz>=2020.1 in /home/fucko/anaconda3/envs/bi183/lib/python3.10/site-packages (from pandas>=1.0.0->kb-python) (2022.7)\n",
            "Requirement already satisfied: tenacity>=6.2.0 in /home/fucko/anaconda3/envs/bi183/lib/python3.10/site-packages (from plotly>=4.5.0->kb-python) (8.2.2)\n",
            "Requirement already satisfied: idna<4,>=2.5 in /home/fucko/anaconda3/envs/bi183/lib/python3.10/site-packages (from requests>=2.22.0->kb-python) (3.4)\n",
            "Requirement already satisfied: charset-normalizer<3,>=2 in /home/fucko/anaconda3/envs/bi183/lib/python3.10/site-packages (from requests>=2.22.0->kb-python) (2.1.1)\n",
            "Requirement already satisfied: urllib3<1.27,>=1.21.1 in /home/fucko/anaconda3/envs/bi183/lib/python3.10/site-packages (from requests>=2.22.0->kb-python) (1.26.13)\n",
            "Requirement already satisfied: certifi>=2017.4.17 in /home/fucko/anaconda3/envs/bi183/lib/python3.10/site-packages (from requests>=2.22.0->kb-python) (2022.6.15)\n",
            "Requirement already satisfied: patsy in /home/fucko/anaconda3/envs/bi183/lib/python3.10/site-packages (from scanpy>=1.4.4.post1->kb-python) (0.5.3)\n",
            "Requirement already satisfied: tables in /home/fucko/anaconda3/envs/bi183/lib/python3.10/site-packages (from scanpy>=1.4.4.post1->kb-python) (3.8.0)\n",
            "Requirement already satisfied: sinfo in /home/fucko/anaconda3/envs/bi183/lib/python3.10/site-packages (from scanpy>=1.4.4.post1->kb-python) (0.3.4)\n",
            "Requirement already satisfied: networkx>=2.3 in /home/fucko/anaconda3/envs/bi183/lib/python3.10/site-packages (from scanpy>=1.4.4.post1->kb-python) (3.0)\n",
            "Requirement already satisfied: matplotlib>=3.1.2 in /home/fucko/anaconda3/envs/bi183/lib/python3.10/site-packages (from scanpy>=1.4.4.post1->kb-python) (3.6.2)\n",
            "Requirement already satisfied: statsmodels>=0.10.0rc2 in /home/fucko/anaconda3/envs/bi183/lib/python3.10/site-packages (from scanpy>=1.4.4.post1->kb-python) (0.13.5)\n",
            "Requirement already satisfied: seaborn in /home/fucko/anaconda3/envs/bi183/lib/python3.10/site-packages (from scanpy>=1.4.4.post1->kb-python) (0.12.2)\n",
            "Requirement already satisfied: umap-learn<0.5,>=0.3.10 in /home/fucko/anaconda3/envs/bi183/lib/python3.10/site-packages (from scanpy>=1.4.4.post1->kb-python) (0.4.6)\n",
            "Requirement already satisfied: legacy-api-wrap in /home/fucko/anaconda3/envs/bi183/lib/python3.10/site-packages (from scanpy>=1.4.4.post1->kb-python) (1.2)\n",
            "Requirement already satisfied: threadpoolctl>=2.0.0 in /home/fucko/anaconda3/envs/bi183/lib/python3.10/site-packages (from scikit-learn>=0.21.3->kb-python) (3.1.0)\n",
            "Requirement already satisfied: pyrsistent!=0.17.0,!=0.17.1,!=0.17.2,>=0.14.0 in /home/fucko/anaconda3/envs/bi183/lib/python3.10/site-packages (from jsonschema>=2.6->nbformat>=4.4.0->kb-python) (0.19.3)\n",
            "Requirement already satisfied: attrs>=17.4.0 in /home/fucko/anaconda3/envs/bi183/lib/python3.10/site-packages (from jsonschema>=2.6->nbformat>=4.4.0->kb-python) (22.2.0)\n",
            "Requirement already satisfied: platformdirs>=2.5 in /home/fucko/anaconda3/envs/bi183/lib/python3.10/site-packages (from jupyter-core>=4.7->nbconvert>=5.6.0->kb-python) (3.1.1)\n",
            "Requirement already satisfied: cycler>=0.10 in /home/fucko/anaconda3/envs/bi183/lib/python3.10/site-packages (from matplotlib>=3.1.2->scanpy>=1.4.4.post1->kb-python) (0.11.0)\n",
            "Requirement already satisfied: kiwisolver>=1.0.1 in /home/fucko/anaconda3/envs/bi183/lib/python3.10/site-packages (from matplotlib>=3.1.2->scanpy>=1.4.4.post1->kb-python) (1.4.4)\n",
            "Requirement already satisfied: contourpy>=1.0.1 in /home/fucko/anaconda3/envs/bi183/lib/python3.10/site-packages (from matplotlib>=3.1.2->scanpy>=1.4.4.post1->kb-python) (1.0.6)\n",
            "Requirement already satisfied: fonttools>=4.22.0 in /home/fucko/anaconda3/envs/bi183/lib/python3.10/site-packages (from matplotlib>=3.1.2->scanpy>=1.4.4.post1->kb-python) (4.38.0)\n",
            "Requirement already satisfied: pillow>=6.2.0 in /home/fucko/anaconda3/envs/bi183/lib/python3.10/site-packages (from matplotlib>=3.1.2->scanpy>=1.4.4.post1->kb-python) (9.4.0)\n",
            "Requirement already satisfied: pyparsing>=2.2.1 in /home/fucko/anaconda3/envs/bi183/lib/python3.10/site-packages (from matplotlib>=3.1.2->scanpy>=1.4.4.post1->kb-python) (3.0.9)\n",
            "Requirement already satisfied: jupyter-client>=6.1.12 in /home/fucko/anaconda3/envs/bi183/lib/python3.10/site-packages (from nbclient>=0.5.0->nbconvert>=5.6.0->kb-python) (7.2.2)\n",
            "Requirement already satisfied: llvmlite<0.40,>=0.39.0dev0 in /home/fucko/anaconda3/envs/bi183/lib/python3.10/site-packages (from numba->loompy>=3.0.6->kb-python) (0.39.1)\n",
            "Requirement already satisfied: six>=1.5 in /home/fucko/anaconda3/envs/bi183/lib/python3.10/site-packages (from python-dateutil>=2.8.1->pandas>=1.0.0->kb-python) (1.16.0)\n",
            "Requirement already satisfied: soupsieve>1.2 in /home/fucko/anaconda3/envs/bi183/lib/python3.10/site-packages (from beautifulsoup4->nbconvert>=5.6.0->kb-python) (2.4)\n",
            "Requirement already satisfied: webencodings in /home/fucko/anaconda3/envs/bi183/lib/python3.10/site-packages (from bleach->nbconvert>=5.6.0->kb-python) (0.5.1)\n",
            "Requirement already satisfied: get-version>=2.0.4 in /home/fucko/anaconda3/envs/bi183/lib/python3.10/site-packages (from legacy-api-wrap->scanpy>=1.4.4.post1->kb-python) (3.5.4)\n",
            "Requirement already satisfied: stdlib-list in /home/fucko/anaconda3/envs/bi183/lib/python3.10/site-packages (from sinfo->scanpy>=1.4.4.post1->kb-python) (0.8.0)\n",
            "Requirement already satisfied: cython>=0.29.21 in /home/fucko/anaconda3/envs/bi183/lib/python3.10/site-packages (from tables->scanpy>=1.4.4.post1->kb-python) (0.29.33)\n",
            "Requirement already satisfied: numexpr>=2.6.2 in /home/fucko/anaconda3/envs/bi183/lib/python3.10/site-packages (from tables->scanpy>=1.4.4.post1->kb-python) (2.8.4)\n",
            "Requirement already satisfied: blosc2~=2.0.0 in /home/fucko/anaconda3/envs/bi183/lib/python3.10/site-packages (from tables->scanpy>=1.4.4.post1->kb-python) (2.0.0)\n",
            "Requirement already satisfied: py-cpuinfo in /home/fucko/anaconda3/envs/bi183/lib/python3.10/site-packages (from tables->scanpy>=1.4.4.post1->kb-python) (9.0.0)\n",
            "Requirement already satisfied: msgpack in /home/fucko/anaconda3/envs/bi183/lib/python3.10/site-packages (from blosc2~=2.0.0->tables->scanpy>=1.4.4.post1->kb-python) (1.0.5)\n",
            "Requirement already satisfied: dunamai in /home/fucko/anaconda3/envs/bi183/lib/python3.10/site-packages (from get-version>=2.0.4->legacy-api-wrap->scanpy>=1.4.4.post1->kb-python) (1.16.0)\n",
            "Requirement already satisfied: pyzmq>=22.3 in /home/fucko/anaconda3/envs/bi183/lib/python3.10/site-packages (from jupyter-client>=6.1.12->nbclient>=0.5.0->nbconvert>=5.6.0->kb-python) (23.2.0)\n",
            "Requirement already satisfied: entrypoints in /home/fucko/anaconda3/envs/bi183/lib/python3.10/site-packages (from jupyter-client>=6.1.12->nbclient>=0.5.0->nbconvert>=5.6.0->kb-python) (0.4)\n",
            "Requirement already satisfied: tornado>=6.0 in /home/fucko/anaconda3/envs/bi183/lib/python3.10/site-packages (from jupyter-client>=6.1.12->nbclient>=0.5.0->nbconvert>=5.6.0->kb-python) (6.1)\n",
            "Requirement already satisfied: nest-asyncio>=1.5.4 in /home/fucko/anaconda3/envs/bi183/lib/python3.10/site-packages (from jupyter-client>=6.1.12->nbclient>=0.5.0->nbconvert>=5.6.0->kb-python) (1.5.5)\n"
          ]
        }
      ],
      "source": [
        "# Install kb. This package runs kallisto and bustools. \n",
        "# These are programs used to process the single-cell RNA-seq reads to produce count matrices.\n",
        "!pip3 install kb-python "
      ]
    },
    {
      "cell_type": "code",
      "execution_count": 2,
      "metadata": {
        "colab": {
          "base_uri": "https://localhost:8080/"
        },
        "id": "IgmwCBzctnDD",
        "outputId": "1882526f-db2e-429b-b4d1-6169d2d15472"
      },
      "outputs": [],
      "source": [
        "!pip3 install --quiet anndata\n",
        "!pip install --quiet scanpy==1.7.0rc1"
      ]
    },
    {
      "cell_type": "code",
      "execution_count": 2,
      "metadata": {
        "id": "rjy8W5hly24q"
      },
      "outputs": [],
      "source": [
        "import numpy as np\n",
        "import scipy.io as sio\n",
        "import pandas as pd\n",
        "import matplotlib.pyplot as plt #Can use other plotting packages like seaborn\n",
        "\n",
        "import anndata\n",
        "import scanpy as sc"
      ]
    },
    {
      "cell_type": "code",
      "execution_count": 3,
      "metadata": {
        "id": "0Ep8gQNCNLHr"
      },
      "outputs": [],
      "source": [
        "import time\n",
        "t=time.time()"
      ]
    },
    {
      "cell_type": "markdown",
      "metadata": {
        "id": "PpeuucqgiDPx"
      },
      "source": [
        "## **Read in data for Part a) analysis**\n",
        "#### Running the code for data downloading and count matrix generation may take ~20mins total."
      ]
    },
    {
      "cell_type": "code",
      "execution_count": 4,
      "metadata": {
        "colab": {
          "base_uri": "https://localhost:8080/"
        },
        "id": "IUWXJ6GJ2ZbY",
        "outputId": "532b859c-d49a-497a-ce39-f8807426088c"
      },
      "outputs": [
        {
          "name": "stdout",
          "output_type": "stream",
          "text": [
            "--2023-03-14 12:44:29--  ftp://ftp.sra.ebi.ac.uk/vol1/fastq/SRR842/002/SRR8426372/SRR8426372_1.fastq.gz\n",
            "           => ‘SRR8426372_1.fastq.gz’\n",
            "Resolving ftp.sra.ebi.ac.uk (ftp.sra.ebi.ac.uk)... 193.62.193.138\n",
            "Connecting to ftp.sra.ebi.ac.uk (ftp.sra.ebi.ac.uk)|193.62.193.138|:21... connected.\n",
            "Logging in as anonymous ... Logged in!\n",
            "==> SYST ... done.    ==> PWD ... done.\n",
            "==> TYPE I ... done.  ==> CWD (1) /vol1/fastq/SRR842/002/SRR8426372 ... done.\n",
            "==> SIZE SRR8426372_1.fastq.gz ... 2389120304\n",
            "File has already been retrieved.\n",
            "2023-03-14 12:44:32 (0.00 B/s) - ‘SRR8426372_1.fastq.gz’ saved [2389120304]\n",
            "\n",
            "--2023-03-14 12:44:32--  ftp://ftp.sra.ebi.ac.uk/vol1/fastq/SRR842/002/SRR8426372/SRR8426372_2.fastq.gz\n",
            "           => ‘SRR8426372_2.fastq.gz’\n",
            "Resolving ftp.sra.ebi.ac.uk (ftp.sra.ebi.ac.uk)... 193.62.193.138\n",
            "Connecting to ftp.sra.ebi.ac.uk (ftp.sra.ebi.ac.uk)|193.62.193.138|:21... connected.\n",
            "Logging in as anonymous ... Logged in!\n",
            "==> SYST ... done.    ==> PWD ... done.\n",
            "==> TYPE I ... done.  ==> CWD (1) /vol1/fastq/SRR842/002/SRR8426372 ... done.\n",
            "==> SIZE SRR8426372_2.fastq.gz ... 3208503807\n",
            "File has already been retrieved.\n",
            "2023-03-14 12:44:34 (0.00 B/s) - ‘SRR8426372_2.fastq.gz’ saved [3208503807]\n",
            "\n"
          ]
        }
      ],
      "source": [
        "# Download the data from the ENA for a 3-month mouse\n",
        "# This step should take 5-10mins\n",
        "!wget --continue ftp://ftp.sra.ebi.ac.uk/vol1/fastq/SRR842/002/SRR8426372/SRR8426372_1.fastq.gz\n",
        "!wget --continue ftp://ftp.sra.ebi.ac.uk/vol1/fastq/SRR842/002/SRR8426372/SRR8426372_2.fastq.gz"
      ]
    },
    {
      "cell_type": "markdown",
      "metadata": {
        "id": "48o3Q_8v2o72"
      },
      "source": [
        "Download a kallisto index \n"
      ]
    },
    {
      "cell_type": "code",
      "execution_count": 6,
      "metadata": {
        "colab": {
          "base_uri": "https://localhost:8080/"
        },
        "id": "HDmVMTbs3BSV",
        "outputId": "1e2db385-78b3-4868-f108-fc039f9d6f8a"
      },
      "outputs": [
        {
          "name": "stdout",
          "output_type": "stream",
          "text": [
            "[2023-03-14 12:39:29,472]    INFO [download] Skipping download because some files already exist. Use the --overwrite flag to overwrite.\n"
          ]
        }
      ],
      "source": [
        "!kb ref -d mouse -i index.idx -g t2g.txt -f1 transcriptome.fasta"
      ]
    },
    {
      "cell_type": "markdown",
      "metadata": {
        "id": "Yoezewx53Os4"
      },
      "source": [
        "Generate the cell x gene count matrix"
      ]
    },
    {
      "cell_type": "code",
      "execution_count": 5,
      "metadata": {
        "colab": {
          "base_uri": "https://localhost:8080/"
        },
        "id": "RtJ_aet53CE8",
        "outputId": "1882825e-c78b-439e-f84d-8ee88e1f8336"
      },
      "outputs": [
        {
          "name": "stdout",
          "output_type": "stream",
          "text": [
            "[2023-03-14 12:44:44,681]    INFO [count] Skipping kallisto bus because output files already exist. Use the --overwrite flag to overwrite.\n",
            "[2023-03-14 12:44:44,681]    INFO [count] Sorting BUS file output/output.bus to output/tmp/output.s.bus\n",
            "[2023-03-14 12:45:08,605]    INFO [count] Whitelist not provided\n",
            "[2023-03-14 12:45:08,605]    INFO [count] Generating whitelist output/whitelist.txt from BUS file output/tmp/output.s.bus\n",
            "[2023-03-14 12:45:09,910]    INFO [count] Inspecting BUS file output/tmp/output.s.bus\n",
            "[2023-03-14 12:45:11,716]    INFO [count] Correcting BUS records in output/tmp/output.s.bus to output/tmp/output.s.c.bus with whitelist output/whitelist.txt\n",
            "[2023-03-14 12:45:18,434]    INFO [count] Sorting BUS file output/tmp/output.s.c.bus to output/output.unfiltered.bus\n",
            "[2023-03-14 12:45:25,858]    INFO [count] Generating count matrix output/counts_unfiltered/cells_x_genes from BUS file output/output.unfiltered.bus\n",
            "[2023-03-14 12:45:31,253]    INFO [count] Reading matrix output/counts_unfiltered/cells_x_genes.mtx\n",
            "[2023-03-14 12:45:32,822]    INFO [count] Writing matrix to h5ad output/counts_unfiltered/adata.h5ad\n",
            "[2023-03-14 12:45:32,970]    INFO [count] Filtering with bustools\n",
            "[2023-03-14 12:45:32,970]    INFO [count] Generating whitelist output/filter_barcodes.txt from BUS file output/output.unfiltered.bus\n",
            "[2023-03-14 12:45:34,075]    INFO [count] Correcting BUS records in output/output.unfiltered.bus to output/tmp/output.unfiltered.c.bus with whitelist output/filter_barcodes.txt\n",
            "[2023-03-14 12:45:38,787]    INFO [count] Sorting BUS file output/tmp/output.unfiltered.c.bus to output/output.filtered.bus\n",
            "[2023-03-14 12:45:44,808]    INFO [count] Generating count matrix output/counts_filtered/cells_x_genes from BUS file output/output.filtered.bus\n",
            "[2023-03-14 12:45:49,097]    INFO [count] Reading matrix output/counts_filtered/cells_x_genes.mtx\n",
            "[2023-03-14 12:45:50,744]    INFO [count] Writing matrix to h5ad output/counts_filtered/adata.h5ad\n"
          ]
        }
      ],
      "source": [
        "# This command processes previously downloaded data\n",
        "# This step should take ~11mins\n",
        "!kb count --h5ad -i index.idx -g t2g.txt -x Dropseq -o output --filter bustools -t 2 \\\n",
        "SRR8426372_1.fastq.gz \\\n",
        "SRR8426372_2.fastq.gz\n"
      ]
    },
    {
      "cell_type": "markdown",
      "metadata": {
        "id": "swY2nSDukmXg"
      },
      "source": [
        "**The dataset**"
      ]
    },
    {
      "cell_type": "markdown",
      "metadata": {
        "id": "NKSN3bu8cQ3O"
      },
      "source": [
        "This is a Drop-seq based single-cell RNA-seq dataset produced from tissue extracted from the whole mouse lung, published by [Ilias Angelidis, Lukas M. Simon et al. 2019](https://www.nature.com/articles/s41467-019-08831-9). In the study single-cell suspensions were generated from eight 3-month old mice and seven 24-month old mice and looked for cell type specific effects of aging between the mice i.e. to create a single-cell atlas of the aging lung. \n",
        "\n",
        "For Part a we will only be working with one sample from a 3-month old mouse (though in Parts b-d you will work with the full dataset across both ages and all mice)."
      ]
    },
    {
      "cell_type": "markdown",
      "metadata": {
        "id": "Q1E4wbXtSsJN"
      },
      "source": [
        "<center><img src=\"https://drive.google.com/uc?export=view&id=1O_x3hmDDes7foQVVLcoZVasrVED1L0Al\" alt=\"EMFigure\" width=\"900\" height=\"150\"><center>"
      ]
    },
    {
      "cell_type": "markdown",
      "metadata": {
        "id": "58nQkH9eko4-"
      },
      "source": [
        "**The count matrix**\n",
        "\n",
        "This matrix is 3,839 cells by 55,421 genes for one lung sample from a 3-month old mouse.\n",
        "\n",
        "\n"
      ]
    },
    {
      "cell_type": "code",
      "execution_count": 6,
      "metadata": {
        "id": "3_s_MyJp3dj9"
      },
      "outputs": [],
      "source": [
        "# load the raw cell x gene count matrix\n",
        "adata = anndata.read_h5ad(\"output/counts_unfiltered/adata.h5ad\") #This is the output from kb\n",
        "adata.var[\"gene_id\"] = adata.var.index.values\n",
        "\n",
        "t2g = pd.read_csv(\"t2g.txt\", header=None, names=[\"tid\", \"gene_id\", \"gene_name\"], sep=\"\\t\") #Load the transcipt-to-gene name mapping (t2g)\n",
        "t2g.index = t2g.gene_id\n",
        "t2g = t2g.loc[~t2g.index.duplicated(keep='first')]\n",
        "\n",
        "adata.var[\"gene_name\"] = adata.var.gene_id.map(t2g[\"gene_name\"])\n",
        "adata.var.index = adata.var[\"gene_name\"]"
      ]
    },
    {
      "cell_type": "code",
      "execution_count": 7,
      "metadata": {
        "colab": {
          "base_uri": "https://localhost:8080/"
        },
        "id": "5tLkEyK3z0GX",
        "outputId": "8fdc790d-1de2-4041-9aab-8dbb7a0cef62"
      },
      "outputs": [
        {
          "data": {
            "text/plain": [
              "AnnData object with n_obs × n_vars = 3839 × 55421\n",
              "    var: 'gene_name', 'gene_id'"
            ]
          },
          "execution_count": 7,
          "metadata": {},
          "output_type": "execute_result"
        }
      ],
      "source": [
        "adata"
      ]
    },
    {
      "cell_type": "code",
      "execution_count": 8,
      "metadata": {
        "colab": {
          "base_uri": "https://localhost:8080/"
        },
        "id": "tegjqi-7rsoq",
        "outputId": "82f38d00-b2c1-4522-b6ba-a624cd7eaf41"
      },
      "outputs": [
        {
          "data": {
            "text/plain": [
              "(3839, 55421)"
            ]
          },
          "execution_count": 8,
          "metadata": {},
          "output_type": "execute_result"
        }
      ],
      "source": [
        "count_mat = adata.X #Get the count matrix from this anndata object\n",
        "count_mat.shape"
      ]
    },
    {
      "cell_type": "markdown",
      "metadata": {
        "id": "beHUeEQ0PYnj"
      },
      "source": [
        "**Use this count_mat for Part a.**"
      ]
    },
    {
      "attachments": {},
      "cell_type": "markdown",
      "metadata": {
        "id": "ICnf8oOmNTOy"
      },
      "source": [
        "# **a) Pre-processing: Select real/valid cells i.e. cells that pass a UMI count threshold based on the commonly used 'Knee plot'. (10 points)**"
      ]
    },
    {
      "attachments": {},
      "cell_type": "markdown",
      "metadata": {
        "id": "HTIoUbKGN5UD"
      },
      "source": [
        "Knee plots (described below) are commonly used to filter out cell barcodes that likely correspond to empty droplets that were captured or noisy samples that may be just ra\n",
        "ndom transcripts that were picked up in the droplet. We want to only keep cell barcodes that seem to have high enough UMI counts (i.e. molecules detected) which suggest that a real cell was captured in that droplet."
      ]
    },
    {
      "cell_type": "markdown",
      "metadata": {
        "id": "ufFe0UnuOZt9"
      },
      "source": [
        "**To construct a knee plot** we (1) rank cells in *descending* order of their total UMI counts (UMI counts summed across genes). The cell rankings are plotted on the x axis (1 to n cells). On the y-axis we (2) plot the total UMI count of each cell. Thus as we move across the x-axis from left to right, the right end of the plot displays cells with very few UMI counts (noisy/empty droplets to possibly remove from analysis). Often the x and y axis are plotted in a log-log plot."
      ]
    },
    {
      "cell_type": "markdown",
      "metadata": {
        "id": "iQgUATd4O2dT"
      },
      "source": [
        "The inflection point of the graph denotes a separation/drop between the lefthand side of the plot where cell barcodes have high UMI counts and the righthand side where cell barcodes have low associated UMI counts (and are thus considered to have had failure in capture and/or to be too noisy for further analysis.)"
      ]
    },
    {
      "cell_type": "markdown",
      "metadata": {
        "id": "ffP0IA4wQKYQ"
      },
      "source": [
        "**(1) Make one knee plot for the 3,839 cells (which are the cell barcodes) and their total UMI counts across the 55,421 genes (in a log-log plot). (2) Describe what UMI threshold you might use to filter out noisy cell barcodes based on the plot.**"
      ]
    },
    {
      "cell_type": "code",
      "execution_count": 9,
      "metadata": {
        "id": "wjOR_hLaPqyx"
      },
      "outputs": [
        {
          "data": {
            "image/png": "[encoded data removed]",
            "text/plain": [
              "<Figure size 432x288 with 1 Axes>"
            ]
          },
          "metadata": {
            "needs_background": "light"
          },
          "output_type": "display_data"
        }
      ],
      "source": [
        "\n",
        "# calculate the total UMI count for each cell\n",
        "total_counts = np.sum(count_mat, axis=1)\n",
        "\n",
        "# sort cells by their total UMI counts\n",
        "sorted_counts = np.sort(total_counts, axis=0)[::-1]\n",
        "\n",
        "# plot the sorted UMI counts\n",
        "fig, ax = plt.subplots()\n",
        "ax.plot(np.array(range(len(sorted_counts))) + 1, sorted_counts, 'b-', linewidth=1)\n",
        "ax.set_xscale('log')\n",
        "ax.set_yscale('log')\n",
        "ax.set_xlabel('Cells (sorted by UMI counts)')\n",
        "ax.set_ylabel('UMI counts')\n",
        "plt.show()"
      ]
    },
    {
      "attachments": {},
      "cell_type": "markdown",
      "metadata": {},
      "source": [
        "elbow around 50ish"
      ]
    },
    {
      "cell_type": "markdown",
      "metadata": {
        "id": "OQDAIuPCQze5"
      },
      "source": [
        "# **Read in data for Parts b-d analysis**"
      ]
    },
    {
      "cell_type": "markdown",
      "metadata": {
        "id": "XGPCUCKaTt0R"
      },
      "source": [
        "For Parts b-d you will be using the full gene count matrix across the 3-month and 24-month mouse cells combined, as provided in the original paper, which is 14,813 cells × 21,969 genes. We will filter for the top 2000 highly variable genes, so that you can use this matrix within the Colab environment. (Downloaded below)"
      ]
    },
    {
      "cell_type": "code",
      "execution_count": 12,
      "metadata": {
        "colab": {
          "base_uri": "https://localhost:8080/"
        },
        "id": "luQCozWsMUVI",
        "outputId": "af3d1c3d-c2a6-4eb7-f52f-4fda03d4d01b"
      },
      "outputs": [
        {
          "name": "stdout",
          "output_type": "stream",
          "text": [
            "--2023-03-14 12:40:45--  https://ftp.ncbi.nlm.nih.gov/geo/series/GSE124nnn/GSE124872/suppl/GSE124872_raw_counts_single_cell.mtx.gz\n",
            "Resolving ftp.ncbi.nlm.nih.gov (ftp.ncbi.nlm.nih.gov)... 165.112.9.228, 165.112.9.230, 2607:f220:41f:250::228, ...\n",
            "Connecting to ftp.ncbi.nlm.nih.gov (ftp.ncbi.nlm.nih.gov)|165.112.9.228|:443... connected.\n",
            "HTTP request sent, awaiting response... 200 OK\n",
            "Length: 20074662 (19M) [application/x-gzip]\n",
            "Saving to: ‘GSE124872_raw_counts_single_cell.mtx.gz.1’\n",
            "\n",
            "GSE124872_raw_count 100%[===================>]  19.14M  8.79MB/s    in 2.2s    \n",
            "\n",
            "2023-03-14 12:40:47 (8.79 MB/s) - ‘GSE124872_raw_counts_single_cell.mtx.gz.1’ saved [20074662/20074662]\n",
            "\n"
          ]
        }
      ],
      "source": [
        "#Read in full cell x gene count matrix for 3 and 24 month old mice lung samples\n",
        "!wget --content-disposition https://ftp.ncbi.nlm.nih.gov/geo/series/GSE124nnn/GSE124872/suppl/GSE124872_raw_counts_single_cell.mtx.gz"
      ]
    },
    {
      "cell_type": "code",
      "execution_count": 13,
      "metadata": {
        "colab": {
          "base_uri": "https://localhost:8080/"
        },
        "id": "PQsw10rIMUVI",
        "outputId": "b57007e2-bc1f-4121-ad79-eb20fb4498b3"
      },
      "outputs": [
        {
          "name": "stdout",
          "output_type": "stream",
          "text": [
            "--2023-03-14 12:40:48--  https://ftp.ncbi.nlm.nih.gov/geo/series/GSE124nnn/GSE124872/suppl/GSE124872_Angelidis_2018_metadata.csv.gz\n",
            "Resolving ftp.ncbi.nlm.nih.gov (ftp.ncbi.nlm.nih.gov)... 165.112.9.228, 165.112.9.230, 2607:f220:41f:250::228, ...\n",
            "Connecting to ftp.ncbi.nlm.nih.gov (ftp.ncbi.nlm.nih.gov)|165.112.9.228|:443... connected.\n",
            "HTTP request sent, awaiting response... 200 OK\n",
            "Length: 188271 (184K) [application/x-gzip]\n",
            "Saving to: ‘GSE124872_Angelidis_2018_metadata.csv.gz.1’\n",
            "\n",
            "GSE124872_Angelidis 100%[===================>] 183.86K   999KB/s    in 0.2s    \n",
            "\n",
            "2023-03-14 12:40:49 (999 KB/s) - ‘GSE124872_Angelidis_2018_metadata.csv.gz.1’ saved [188271/188271]\n",
            "\n"
          ]
        }
      ],
      "source": [
        "#Read in cell metadata\n",
        "!wget --content-disposition https://ftp.ncbi.nlm.nih.gov/geo/series/GSE124nnn/GSE124872/suppl/GSE124872_Angelidis_2018_metadata.csv.gz"
      ]
    },
    {
      "cell_type": "code",
      "execution_count": 14,
      "metadata": {
        "id": "X0H4GbBIMUVJ"
      },
      "outputs": [
        {
          "name": "stdout",
          "output_type": "stream",
          "text": [
            "gzip: GSE124872_Angelidis_2018_metadata.csv already exists; do you wish to overwrite (y or n)? ^C\n",
            "gzip: GSE124872_raw_counts_single_cell.mtx already exists; do you wish to overwrite (y or n)? "
          ]
        }
      ],
      "source": [
        "!gunzip GSE124872_Angelidis_2018_metadata.csv.gz\n",
        "!gunzip GSE124872_raw_counts_single_cell.mtx.gz"
      ]
    },
    {
      "cell_type": "markdown",
      "metadata": {
        "id": "6XidblsX0BcX"
      },
      "source": [
        "Read in metadata of cells: \"grouping\" denotes the age (3m - 3 month, 24m - 24 month) and \"celltype\" denotes the cell type e.g. Plasma_cells"
      ]
    },
    {
      "cell_type": "code",
      "execution_count": 10,
      "metadata": {
        "colab": {
          "base_uri": "https://localhost:8080/",
          "height": 270
        },
        "id": "00wWx2nxqZat",
        "outputId": "2dd213a7-1994-4c37-a706-3ce02e2a0308"
      },
      "outputs": [
        {
          "data": {
            "text/html": [
              "<div>\n",
              "<style scoped>\n",
              "    .dataframe tbody tr th:only-of-type {\n",
              "        vertical-align: middle;\n",
              "    }\n",
              "\n",
              "    .dataframe tbody tr th {\n",
              "        vertical-align: top;\n",
              "    }\n",
              "\n",
              "    .dataframe thead th {\n",
              "        text-align: right;\n",
              "    }\n",
              "</style>\n",
              "<table border=\"1\" class=\"dataframe\">\n",
              "  <thead>\n",
              "    <tr style=\"text-align: right;\">\n",
              "      <th></th>\n",
              "      <th>Unnamed: 0</th>\n",
              "      <th>nGene</th>\n",
              "      <th>nUMI</th>\n",
              "      <th>orig.ident</th>\n",
              "      <th>identifier</th>\n",
              "      <th>res.2</th>\n",
              "      <th>identifier.1</th>\n",
              "      <th>name</th>\n",
              "      <th>grouping</th>\n",
              "      <th>batch</th>\n",
              "      <th>cells</th>\n",
              "      <th>cluster</th>\n",
              "      <th>celltype</th>\n",
              "    </tr>\n",
              "  </thead>\n",
              "  <tbody>\n",
              "    <tr>\n",
              "      <th>0</th>\n",
              "      <td>muc3838:muc3838:TTCCGTGCCCCT</td>\n",
              "      <td>4255</td>\n",
              "      <td>10691</td>\n",
              "      <td>merged</td>\n",
              "      <td>muc3838</td>\n",
              "      <td>2</td>\n",
              "      <td>muc3838</td>\n",
              "      <td>NaN</td>\n",
              "      <td>24m</td>\n",
              "      <td>good</td>\n",
              "      <td>800</td>\n",
              "      <td>cluster2</td>\n",
              "      <td>Ciliated_cells</td>\n",
              "    </tr>\n",
              "    <tr>\n",
              "      <th>1</th>\n",
              "      <td>muc3838:muc3838:TTGCCCAATTAA</td>\n",
              "      <td>3178</td>\n",
              "      <td>6860</td>\n",
              "      <td>merged</td>\n",
              "      <td>muc3838</td>\n",
              "      <td>2</td>\n",
              "      <td>muc3838</td>\n",
              "      <td>NaN</td>\n",
              "      <td>24m</td>\n",
              "      <td>good</td>\n",
              "      <td>800</td>\n",
              "      <td>cluster2</td>\n",
              "      <td>Ciliated_cells</td>\n",
              "    </tr>\n",
              "    <tr>\n",
              "      <th>2</th>\n",
              "      <td>muc3838:muc3838:AAGCCCAGCTAT</td>\n",
              "      <td>1470</td>\n",
              "      <td>6127</td>\n",
              "      <td>merged</td>\n",
              "      <td>muc3838</td>\n",
              "      <td>24</td>\n",
              "      <td>muc3838</td>\n",
              "      <td>NaN</td>\n",
              "      <td>24m</td>\n",
              "      <td>good</td>\n",
              "      <td>800</td>\n",
              "      <td>cluster24</td>\n",
              "      <td>Plasma_cells</td>\n",
              "    </tr>\n",
              "    <tr>\n",
              "      <th>3</th>\n",
              "      <td>muc3838:muc3838:GCACTTTAGAAT</td>\n",
              "      <td>2348</td>\n",
              "      <td>4359</td>\n",
              "      <td>merged</td>\n",
              "      <td>muc3838</td>\n",
              "      <td>2</td>\n",
              "      <td>muc3838</td>\n",
              "      <td>NaN</td>\n",
              "      <td>24m</td>\n",
              "      <td>good</td>\n",
              "      <td>800</td>\n",
              "      <td>cluster2</td>\n",
              "      <td>Ciliated_cells</td>\n",
              "    </tr>\n",
              "    <tr>\n",
              "      <th>4</th>\n",
              "      <td>muc3838:muc3838:TCCTGCTCCCTT</td>\n",
              "      <td>2439</td>\n",
              "      <td>5293</td>\n",
              "      <td>merged</td>\n",
              "      <td>muc3838</td>\n",
              "      <td>2</td>\n",
              "      <td>muc3838</td>\n",
              "      <td>NaN</td>\n",
              "      <td>24m</td>\n",
              "      <td>good</td>\n",
              "      <td>800</td>\n",
              "      <td>cluster2</td>\n",
              "      <td>Ciliated_cells</td>\n",
              "    </tr>\n",
              "  </tbody>\n",
              "</table>\n",
              "</div>"
            ],
            "text/plain": [
              "                     Unnamed: 0  nGene   nUMI orig.ident identifier  res.2  \\\n",
              "0  muc3838:muc3838:TTCCGTGCCCCT   4255  10691     merged    muc3838      2   \n",
              "1  muc3838:muc3838:TTGCCCAATTAA   3178   6860     merged    muc3838      2   \n",
              "2  muc3838:muc3838:AAGCCCAGCTAT   1470   6127     merged    muc3838     24   \n",
              "3  muc3838:muc3838:GCACTTTAGAAT   2348   4359     merged    muc3838      2   \n",
              "4  muc3838:muc3838:TCCTGCTCCCTT   2439   5293     merged    muc3838      2   \n",
              "\n",
              "  identifier.1  name grouping batch  cells    cluster        celltype  \n",
              "0      muc3838   NaN      24m  good    800   cluster2  Ciliated_cells  \n",
              "1      muc3838   NaN      24m  good    800   cluster2  Ciliated_cells  \n",
              "2      muc3838   NaN      24m  good    800  cluster24    Plasma_cells  \n",
              "3      muc3838   NaN      24m  good    800   cluster2  Ciliated_cells  \n",
              "4      muc3838   NaN      24m  good    800   cluster2  Ciliated_cells  "
            ]
          },
          "execution_count": 10,
          "metadata": {},
          "output_type": "execute_result"
        }
      ],
      "source": [
        "meta = pd.read_csv('GSE124872_Angelidis_2018_metadata.csv')\n",
        "meta.head()"
      ]
    },
    {
      "cell_type": "markdown",
      "metadata": {
        "id": "t1yZZZYuMiEO"
      },
      "source": [
        "**The dataset**"
      ]
    },
    {
      "cell_type": "markdown",
      "metadata": {
        "id": "zZ59i_izMiEO"
      },
      "source": [
        "This is a Drop-seq based single-cell RNA-seq dataset produced from tissue extracted from the whole mouse lung, published by [Ilias Angelidis, Lukas M. Simon et al. 2019](https://www.nature.com/articles/s41467-019-08831-9). In the study single-cell suspensions were generated from eight 3-month old mice and seven 24-month old mice and looked for cell type specific effects of aging between the mice i.e. to create a single-cell atlas of the aging lung. \n",
        "\n",
        "For Parts b-c we will only be working with the full dataset across both ages and all mice."
      ]
    },
    {
      "cell_type": "markdown",
      "metadata": {
        "id": "WGSuxY1SMiEP"
      },
      "source": [
        "<center><img src=\"https://drive.google.com/uc?export=view&id=1O_x3hmDDes7foQVVLcoZVasrVED1L0Al\" alt=\"EMFigure\" width=\"900\" height=\"150\"><center>"
      ]
    },
    {
      "cell_type": "markdown",
      "metadata": {
        "id": "nAzghRuSMiEP"
      },
      "source": [
        "**The count matrix**\n",
        "\n",
        "This matrix is 14,813 cells by 21,969 genes across all mouse lung samples as provided in Ilias Angelidis, Lukas M. Simon et al. 2019.\n",
        "\n",
        "\n"
      ]
    },
    {
      "cell_type": "markdown",
      "metadata": {
        "id": "9SGWfbirV8ne"
      },
      "source": [
        "Read in count matrix"
      ]
    },
    {
      "cell_type": "code",
      "execution_count": 11,
      "metadata": {
        "colab": {
          "base_uri": "https://localhost:8080/"
        },
        "id": "h3NQrR1zWFqp",
        "outputId": "d49a6df6-1638-449d-e825-65e112645bae"
      },
      "outputs": [
        {
          "data": {
            "text/plain": [
              "(14813, 21969)"
            ]
          },
          "execution_count": 11,
          "metadata": {},
          "output_type": "execute_result"
        }
      ],
      "source": [
        "import scipy.io as sio\n",
        "count_mat = sio.mmread('GSE124872_raw_counts_single_cell.mtx')\n",
        "count_mat = count_mat.todense().T\n",
        "count_mat.shape"
      ]
    },
    {
      "cell_type": "markdown",
      "metadata": {
        "id": "I_De9ShHWJo-"
      },
      "source": [
        "Select for top 2000 highly variable genes"
      ]
    },
    {
      "cell_type": "code",
      "execution_count": 12,
      "metadata": {
        "colab": {
          "base_uri": "https://localhost:8080/"
        },
        "id": "dpOyRjceWMOd",
        "outputId": "4ffeb88a-36a3-4452-c7d8-969a85c0ea4a"
      },
      "outputs": [
        {
          "name": "stderr",
          "output_type": "stream",
          "text": [
            "/tmp/ipykernel_25702/2902434464.py:2: FutureWarning: X.dtype being converted to np.float32 from int64. In the next version of anndata (0.9) conversion will not be automatic. Pass dtype explicitly to avoid this warning. Pass `AnnData(X, dtype=X.dtype, ...)` to get the future behavour.\n",
            "  adata = anndata.AnnData(X = count_mat)\n"
          ]
        },
        {
          "data": {
            "text/plain": [
              "AnnData object with n_obs × n_vars = 14813 × 21969"
            ]
          },
          "execution_count": 12,
          "metadata": {},
          "output_type": "execute_result"
        }
      ],
      "source": [
        "#Anndata is a common data type for processing and storing single-cell count matrices\n",
        "adata = anndata.AnnData(X = count_mat)\n",
        "adata"
      ]
    },
    {
      "cell_type": "code",
      "execution_count": 13,
      "metadata": {
        "id": "uxZCUq45i_NJ"
      },
      "outputs": [],
      "source": [
        "#Select the 'highly variable' genes in the matrix so we don't use 21k genes\n",
        "sc.pp.filter_cells(adata, min_counts=0)\n",
        "sc.pp.filter_genes(adata, min_counts=0)\n",
        "\n",
        "sc.pp.normalize_per_cell(adata, counts_per_cell_after=1e4) #Cell-size normalization\n",
        "sc.pp.log1p(adata) #log-variance stabilization\n",
        "\n",
        "sc.pp.highly_variable_genes(adata,n_top_genes=2000)\n",
        "\n",
        "genesToKeep = adata.var['highly_variable']"
      ]
    },
    {
      "cell_type": "code",
      "execution_count": 14,
      "metadata": {
        "colab": {
          "base_uri": "https://localhost:8080/"
        },
        "id": "SkQSSLeoWMUm",
        "outputId": "31d9879f-afaf-475b-cc06-e2cf126d8dbe"
      },
      "outputs": [
        {
          "data": {
            "text/plain": [
              "(14813, 2000)"
            ]
          },
          "execution_count": 14,
          "metadata": {},
          "output_type": "execute_result"
        }
      ],
      "source": [
        "#Subset original count matrix\n",
        "count_mat = count_mat[:,genesToKeep]\n",
        "count_mat.shape"
      ]
    },
    {
      "cell_type": "markdown",
      "metadata": {
        "id": "fq77aUyOlNds"
      },
      "source": [
        "**Use this 14813 × 2000 count_mat matrix as your count matrix for parts b-d**"
      ]
    },
    {
      "cell_type": "code",
      "execution_count": null,
      "metadata": {
        "id": "b5cWWScjWVUP"
      },
      "outputs": [],
      "source": []
    },
    {
      "cell_type": "markdown",
      "metadata": {
        "id": "SxubBCf6NROW"
      },
      "source": [
        "# **b) Normalization (10 points)**"
      ]
    },
    {
      "cell_type": "markdown",
      "metadata": {
        "id": "9M9Gi7mki9bF"
      },
      "source": [
        "Note that we use cell size normalization and then log1p to transform data before selecting highly variable genes, and then we use the indices to subset the raw count matrix. Therefore, the count_mat matrix here is the raw count matrix. \n",
        "\n",
        "In this part, you will do size-normalization and log1p transformations yourself. For size-normalization, normalize the data matrix to 10,000 reads per cell.\n",
        "\n",
        "**Report both the raw count matrix and the normalized matrix (that is size-normalized and then log1p transformed).**"
      ]
    },
    {
      "cell_type": "code",
      "execution_count": 15,
      "metadata": {},
      "outputs": [],
      "source": [
        "raw = count_mat"
      ]
    },
    {
      "cell_type": "code",
      "execution_count": 16,
      "metadata": {
        "id": "D7Mudn5AQ647"
      },
      "outputs": [
        {
          "name": "stderr",
          "output_type": "stream",
          "text": [
            "/tmp/ipykernel_25702/3779638262.py:1: FutureWarning: X.dtype being converted to np.float32 from int64. In the next version of anndata (0.9) conversion will not be automatic. Pass dtype explicitly to avoid this warning. Pass `AnnData(X, dtype=X.dtype, ...)` to get the future behavour.\n",
            "  adata = anndata.AnnData(X = raw)\n"
          ]
        }
      ],
      "source": [
        "adata = anndata.AnnData(X = raw)\n",
        "sc.pp.normalize_per_cell(adata, counts_per_cell_after=1e4) #Cell-size normalization\n",
        "sc.pp.log1p(adata) #log-variance stabilization\n",
        "normalize = adata.X"
      ]
    },
    {
      "cell_type": "code",
      "execution_count": 17,
      "metadata": {},
      "outputs": [
        {
          "data": {
            "text/plain": [
              "matrix([[0, 0, 8, ..., 0, 0, 0],\n",
              "        [0, 0, 6, ..., 0, 0, 0],\n",
              "        [0, 0, 0, ..., 0, 0, 0],\n",
              "        ...,\n",
              "        [0, 0, 0, ..., 0, 0, 0],\n",
              "        [0, 0, 0, ..., 0, 0, 0],\n",
              "        [0, 0, 4, ..., 0, 0, 0]])"
            ]
          },
          "execution_count": 17,
          "metadata": {},
          "output_type": "execute_result"
        }
      ],
      "source": [
        "raw"
      ]
    },
    {
      "cell_type": "code",
      "execution_count": 18,
      "metadata": {},
      "outputs": [
        {
          "data": {
            "text/plain": [
              "array([[0.       , 0.       , 4.421487 , ..., 0.       , 0.       ,\n",
              "        0.       ],\n",
              "       [0.       , 0.       , 4.4555836, ..., 0.       , 0.       ,\n",
              "        0.       ],\n",
              "       [0.       , 0.       , 0.       , ..., 0.       , 0.       ,\n",
              "        0.       ],\n",
              "       ...,\n",
              "       [0.       , 0.       , 0.       , ..., 0.       , 0.       ,\n",
              "        0.       ],\n",
              "       [0.       , 0.       , 0.       , ..., 0.       , 0.       ,\n",
              "        0.       ],\n",
              "       [0.       , 0.       , 3.9964476, ..., 0.       , 0.       ,\n",
              "        0.       ]], dtype=float32)"
            ]
          },
          "execution_count": 18,
          "metadata": {},
          "output_type": "execute_result"
        }
      ],
      "source": [
        "normalize"
      ]
    },
    {
      "cell_type": "markdown",
      "metadata": {
        "id": "Fef1K_WBMmQ4"
      },
      "source": [
        "# **c) Clustering (20 points)**"
      ]
    },
    {
      "cell_type": "markdown",
      "metadata": {
        "id": "rHv-fvOcVcD9"
      },
      "source": [
        "In this part, we will do K-means clustering on 4 different count matrices:\n",
        "1. Raw count matix\n",
        "2. Raw count matrix transformed by the first 15 principal components\n",
        "3. Normalized count matix\n",
        "4. Normalized count matix transformed by the first 15 principal components"
      ]
    },
    {
      "cell_type": "markdown",
      "metadata": {
        "id": "nkSjyzITVzTf"
      },
      "source": [
        "You will use sklearn for PCA and [KMeans](https://scikit-learn.org/stable/modules/generated/sklearn.cluster.KMeans.html#sklearn.cluster.KMeans.fit_predict) clustering. **Set the cluster number k to 10 and random_state to 0 when using KMeans.**\n",
        "\n",
        "Below is an example from sklearn"
      ]
    },
    {
      "cell_type": "code",
      "execution_count": 19,
      "metadata": {
        "colab": {
          "base_uri": "https://localhost:8080/"
        },
        "id": "SVDZrPjVVjH1",
        "outputId": "18d03ca4-3534-4eb6-9aac-7250615eacf9"
      },
      "outputs": [
        {
          "name": "stderr",
          "output_type": "stream",
          "text": [
            "/home/fucko/anaconda3/envs/bi183/lib/python3.10/site-packages/sklearn/cluster/_kmeans.py:870: FutureWarning: The default value of `n_init` will change from 10 to 'auto' in 1.4. Set the value of `n_init` explicitly to suppress the warning\n",
            "  warnings.warn(\n"
          ]
        },
        {
          "data": {
            "text/plain": [
              "array([1, 1, 1, 0, 0, 0], dtype=int32)"
            ]
          },
          "execution_count": 19,
          "metadata": {},
          "output_type": "execute_result"
        }
      ],
      "source": [
        "from sklearn.cluster import KMeans\n",
        "from sklearn.decomposition import PCA\n",
        "\n",
        "X = np.array([[1, 2], [1, 4], [1, 0],\n",
        "               [10, 2], [10, 4], [10, \n",
        "                                  0]])\n",
        "kmeans = KMeans(n_clusters=2, random_state=0).fit(X)\n",
        "kmeans.labels_"
      ]
    },
    {
      "cell_type": "markdown",
      "metadata": {
        "id": "2WLLcEtmhyf0"
      },
      "source": [
        "**For each of the four clustering results, compare the k-means cluster assignments to the given cell types in meta data. Report the majority, 'true' cell type in each k-means cluster, and the proportion of cells that are that majority in each k-means cluster.**\n",
        "\n",
        "**For the two clusterings done in 15 dimensional PCA space, also plot the transformed data in 2D (only the first 2 transformed coordinates) colored by corresponding k-means clusters (which was done in the 15D PCA-space). Comment on the differences between the two plots.**"
      ]
    },
    {
      "cell_type": "code",
      "execution_count": 20,
      "metadata": {},
      "outputs": [
        {
          "data": {
            "text/plain": [
              "array([[0, 0, 8, ..., 0, 0, 0],\n",
              "       [0, 0, 6, ..., 0, 0, 0],\n",
              "       [0, 0, 0, ..., 0, 0, 0],\n",
              "       ...,\n",
              "       [0, 0, 0, ..., 0, 0, 0],\n",
              "       [0, 0, 0, ..., 0, 0, 0],\n",
              "       [0, 0, 4, ..., 0, 0, 0]])"
            ]
          },
          "execution_count": 20,
          "metadata": {},
          "output_type": "execute_result"
        }
      ],
      "source": [
        "count_mat = np.array(count_mat)\n",
        "count_mat"
      ]
    },
    {
      "cell_type": "code",
      "execution_count": 21,
      "metadata": {},
      "outputs": [],
      "source": [
        "def majority_cell_type(labels):\n",
        "    majority = {}\n",
        "    for i in range(len(labels)):\n",
        "        cell_type = meta.loc[i, 'celltype']\n",
        "        if labels[i] not in majority:\n",
        "            majority[labels[i]] = {}\n",
        "        if cell_type not in majority[labels[i]]:\n",
        "            majority[labels[i]][cell_type] = 0\n",
        "        majority[labels[i]][cell_type] += 1\n",
        "    for cluster in majority:\n",
        "        total_cells = sum(1 for label in labels if label == cluster)\n",
        "        majority_type = max(majority[cluster], key=majority[cluster].get)\n",
        "        majority[cluster]['type'] = majority_type\n",
        "        majority[cluster]['proportion'] = majority[cluster][majority_type] / total_cells\n",
        "    return majority"
      ]
    },
    {
      "cell_type": "code",
      "execution_count": 22,
      "metadata": {},
      "outputs": [],
      "source": [
        "k=10\n",
        "random_state=0\n",
        "\n",
        "mats = [count_mat, PCA(n_components=15).fit_transform(count_mat), normalize, PCA(n_components=15).fit_transform(normalize)]"
      ]
    },
    {
      "cell_type": "code",
      "execution_count": 23,
      "metadata": {},
      "outputs": [
        {
          "name": "stdout",
          "output_type": "stream",
          "text": [
            "Doing majority for: raw\n",
            "Cluster 0: Type_2_pneumocytes (0.21)\n",
            "Cluster 6: Plasma_cells (1.00)\n",
            "Cluster 4: Type_2_pneumocytes (0.89)\n",
            "Cluster 8: red_blood_cells (0.98)\n",
            "Cluster 1: red_blood_cells (0.97)\n",
            "Cluster 5: Goblet_cells (1.00)\n",
            "Cluster 9: Plasma_cells (1.00)\n",
            "Cluster 7: Plasma_cells (1.00)\n",
            "Cluster 3: Plasma_cells (1.00)\n",
            "Cluster 2: Plasma_cells (1.00)\n",
            "\n",
            "\n",
            "\n",
            "\n",
            "Doing majority for: raw_pca\n",
            "Cluster 0: Type_2_pneumocytes (0.78)\n",
            "Cluster 5: Plasma_cells (1.00)\n",
            "Cluster 8: Type_2_pneumocytes (0.15)\n",
            "Cluster 3: Type_2_pneumocytes (0.92)\n",
            "Cluster 1: red_blood_cells (0.98)\n",
            "Cluster 4: red_blood_cells (0.97)\n",
            "Cluster 7: Goblet_cells (1.00)\n",
            "Cluster 9: Plasma_cells (1.00)\n",
            "Cluster 6: Plasma_cells (1.00)\n",
            "Cluster 2: Plasma_cells (1.00)\n"
          ]
        },
        {
          "data": {
            "image/png": "[encoded data removed]",
            "text/plain": [
              "<Figure size 432x288 with 1 Axes>"
            ]
          },
          "metadata": {
            "needs_background": "light"
          },
          "output_type": "display_data"
        },
        {
          "name": "stdout",
          "output_type": "stream",
          "text": [
            "\n",
            "\n",
            "\n",
            "\n",
            "Doing majority for: normalized\n",
            "Cluster 2: Ciliated_cells (0.86)\n",
            "Cluster 6: B_cells (0.80)\n",
            "Cluster 7: Club_cells (0.51)\n",
            "Cluster 5: CD8+_T_cells (0.42)\n",
            "Cluster 0: Interstitial_macrophages (0.18)\n",
            "Cluster 9: Type_2_pneumocytes (0.90)\n",
            "Cluster 1: vascular_endothelial_cells (0.55)\n",
            "Cluster 4: Mesothelial_cells (0.55)\n",
            "Cluster 3: low_quality_cells (0.69)\n",
            "Cluster 8: Alveolar_macrophage (0.86)\n",
            "\n",
            "\n",
            "\n",
            "\n",
            "Doing majority for: normalized_pca\n",
            "Cluster 4: Ciliated_cells (0.86)\n",
            "Cluster 7: B_cells (0.61)\n",
            "Cluster 9: Club_cells (0.50)\n",
            "Cluster 2: CD8+_T_cells (0.44)\n",
            "Cluster 8: Interstitial_macrophages (0.20)\n",
            "Cluster 3: Type_2_pneumocytes (0.90)\n",
            "Cluster 5: vascular_endothelial_cells (0.54)\n",
            "Cluster 0: Mesothelial_cells (0.55)\n",
            "Cluster 1: Alveolar_macrophage (0.86)\n",
            "Cluster 6: low_quality_cells (0.71)\n"
          ]
        },
        {
          "data": {
            "image/png": "[encoded data removed]",
            "text/plain": [
              "<Figure size 432x288 with 1 Axes>"
            ]
          },
          "metadata": {
            "needs_background": "light"
          },
          "output_type": "display_data"
        },
        {
          "name": "stdout",
          "output_type": "stream",
          "text": [
            "\n",
            "\n",
            "\n",
            "\n"
          ]
        }
      ],
      "source": [
        "for i, (mat, name) in enumerate(zip(mats, [\"raw\", \"raw_pca\", \"normalized\", \"normalized_pca\"])):\n",
        "    print(f\"Doing majority for: {name}\")\n",
        "    kmeans = KMeans(n_clusters=k, random_state=random_state, n_init=10).fit(mat)\n",
        "    labels = kmeans.labels_\n",
        "    maj = majority_cell_type(labels)\n",
        "    for cluster in maj:\n",
        "        print(f\"Cluster {cluster}: {maj[cluster]['type']} ({maj[cluster]['proportion']:.2f})\")\n",
        "    \n",
        "    if i == 1 or i == 3:\n",
        "        plt.figure()\n",
        "        plt.scatter(mats[i][:, 0], mats[i][:, 1], c=labels, cmap='tab10', s=10)\n",
        "        plt.title(f'{name} PCA transformed')\n",
        "        plt.xlabel('PC1')\n",
        "        plt.ylabel('PC2')\n",
        "        plt.show()\n",
        "    print(\"\\n\\n\\n\")\n"
      ]
    },
    {
      "attachments": {},
      "cell_type": "markdown",
      "metadata": {},
      "source": [
        "The normalized seems much more spatially organized vs the raw, which is more linear in nature forming a v almost. There is more overlap with the normalized as well. Also, the majority cells change between the two. "
      ]
    },
    {
      "cell_type": "markdown",
      "metadata": {
        "id": "4luzBqqrMElW"
      },
      "source": [
        "# **d) Age prediction (60 points)**\n",
        "\n",
        "In their work, [Ilias Angelidis, Lukas M. Simon et al.](https://www.nature.com/articles/s41467-019-08831-9) found that the gene expression pattern for some cell types were different between the two age groups (3 months and 24 months), as shown in the figure below. In the figure below, the x-axis represent different genes and the y-axis represent different cell types, with each color bar representing the logarithm of the fold change in expression level between old and young cells for a particular genes in a particular cell type. Inspired by this result, we will build classification models (using normalized counts) and test how well they can predict the age of a mouse based on the gene expression profile of a single cell.\n",
        "\n",
        "<center><img src=\"https://drive.google.com/uc?export=view&id=17gt0rkWzJmh11GPw6ipehM6miiGTD86e\" alt=\"EMFigure\" width=\"550\" height=\"500\"><center>"
      ]
    },
    {
      "cell_type": "markdown",
      "metadata": {
        "id": "jZVB11fIt-3P"
      },
      "source": [
        "We will compare the predictive power of two different classes of models: (1) logistic regression and (2) neural network. For each class, we will fit a model using gene expression data from a single cell type to predict the age (3m or 24m) of the mouse from which the cell was taken."
      ]
    },
    {
      "attachments": {},
      "cell_type": "markdown",
      "metadata": {
        "id": "5dqq9VguaP-J"
      },
      "source": [
        "**i) From the given information, what cell type would you choose to build a predictive model of mouse age? Explain your reasoning (10 points)**\n"
      ]
    },
    {
      "attachments": {},
      "cell_type": "markdown",
      "metadata": {
        "id": "9qHuBsWy4xhb"
      },
      "source": [
        "**Your Answer Here:** \n",
        "\n",
        "\n",
        "I would choose a cell type that has some clear distinction between old/young mice, as that would allow for clear clusters and classification. There are several options here, like type_2-pneumocytes, mki67 proliferating cells, B_cells, etc.\n"
      ]
    },
    {
      "cell_type": "markdown",
      "metadata": {
        "id": "p42bDqN0uCvA"
      },
      "source": [
        "To standardize the workflow, we will consider just two cell types: \n",
        "\n",
        "(1) 'Alveolar_macrophage' (AM)\n",
        "\n",
        "(2) 'Type_2_pneumocytes' (T2P) \n",
        "\n",
        "For the rest of the question, you will build a total of **4** models: \n",
        "\n",
        "1.   logistic regression using alveolar macrophage \n",
        "2.   logistic regression using type II pneumocytes \n",
        "3.   neural network using alveolar macrophage\n",
        "4.   neural network using type II pneumocytes"
      ]
    },
    {
      "cell_type": "markdown",
      "metadata": {
        "id": "-kY83NdUuGMg"
      },
      "source": [
        "We first subset our **normalized count matrix** to get out count data for alveolar macrophages (AM) and type II pneumocytes (T2P) sampled from 3 months and 24 months mouse, as well as the corresponding age/label for each cell. AM_3m represents alveolar macrophages from a 3 months old mouse, T2P_24m represents type II pneumocytes from a 24 months old mouse. *Note that we are representing the age class '3m' using the integer 0 and the age class '24m' using the integer 1.*"
      ]
    },
    {
      "cell_type": "code",
      "execution_count": 24,
      "metadata": {
        "id": "2174-TmsuIyg"
      },
      "outputs": [],
      "source": [
        "typename = 'Alveolar_macrophage'\n",
        "youngIndex = meta.grouping.isin(['3m'])*meta.celltype.isin([typename])\n",
        "oldIndex = meta.grouping.isin(['24m'])*meta.celltype.isin([typename])\n",
        "\n",
        "# we will assign the number 0 to the age class '3m' and 1 to the age class '24m'\n",
        "AM_3m = normalize[youngIndex,:]\n",
        "AM_3m_label = np.zeros(np.size(AM_3m,0))\n",
        "AM_24m = normalize[oldIndex,:]\n",
        "AM_24m_label = np.ones(np.size(AM_24m,0))\n",
        "\n",
        "typename = 'Type_2_pneumocytes'\n",
        "youngIndex = meta.grouping.isin(['3m'])*meta.celltype.isin([typename])\n",
        "oldIndex = meta.grouping.isin(['24m'])*meta.celltype.isin([typename])\n",
        "\n",
        "T2P_3m = normalize[youngIndex,:]\n",
        "T2P_3m_label = np.zeros(np.size(T2P_3m,0))\n",
        "T2P_24m = normalize[oldIndex,:]\n",
        "T2P_24m_label = np.ones(np.size(T2P_24m,0))"
      ]
    },
    {
      "cell_type": "markdown",
      "metadata": {
        "id": "tWvojPpluJ9c"
      },
      "source": [
        "Next, we will split our data evenly into a training set and test set. To allow for a fair comparison between the two cell types, we will use the same number of cells for alveolar macrophage as type II pneumocytes. **Use the code block below to split the data for each cell type into a train set and a test set, make sure you split both the gene expression counts and the corresponding labels.** For both cell types, the training set will consist of the first 550 cells of the 3 month old mouse and the first 250 cells of the 24 month old, the test set will consist of the subsequent 550 cells of the 3 month old mouse and the subsequent 250 cells of the 24 month old mouse."
      ]
    },
    {
      "cell_type": "code",
      "execution_count": 25,
      "metadata": {
        "id": "HHLcYdstuNR-"
      },
      "outputs": [],
      "source": [
        "\n",
        "AM_train = np.concatenate((AM_3m[:550, :], AM_24m[:250, :]), axis=0)\n",
        "AM_trainlabel = np.concatenate((AM_3m_label[:550], AM_24m_label[:250]), axis=0)\n",
        "AM_test = np.concatenate((AM_3m[550:, :], AM_24m[250:, :]), axis=0)\n",
        "AM_testlabel = np.concatenate((AM_3m_label[550:], AM_24m_label[250:]), axis=0)\n",
        "\n",
        "T2P_train = np.concatenate((T2P_3m[:550, :], T2P_24m[:250, :]), axis=0)\n",
        "T2P_trainlabel = np.concatenate((T2P_3m_label[:550], T2P_24m_label[:250]), axis=0)\n",
        "T2P_test = np.concatenate((T2P_3m[550:, :], T2P_24m[250:, :]), axis=0)\n",
        "T2P_testlabel = np.concatenate((T2P_3m_label[550:], T2P_24m_label[250:]), axis=0)\n"
      ]
    },
    {
      "cell_type": "markdown",
      "metadata": {
        "id": "22fr_rZvMJJA"
      },
      "source": [
        " **ii) Logistic regression models (10 points)**\n",
        "\n",
        " In this section, you will build a logistic regression model to classify mouse age and use it to predict the age of the mouse from the gene expression profile of a cell. Recall that with logistic regression we model a categorical variable (e.g. mouse age - 3m vs 24m) as a continuous value (i.e. the probability of being in the category). In our case, the independent variable will be the collection of count data across all 2000 genes and the dependent variable will be a binary variable, 0 or 1, representing whether the cell was from the 24 month old mouse."
      ]
    },
    {
      "cell_type": "markdown",
      "metadata": {
        "id": "3MSYvT0yuTjQ"
      },
      "source": [
        "**For each cell type (AM and T2P), complete the code block below where you will need to:**\n",
        "\n",
        "1) fit a logistic regression model using the training set you created above (hint: you may need to change certain hyperparameter to get convergence)\n",
        "\n",
        "3) evaluating your logistic regression model on the corresponding test set (make sure to use the same cell type as you used to fit the model)\n",
        "\n",
        "4) report the test accuracy of your model as the percent of cells where the age of the mouse was correctly predicted by the model"
      ]
    },
    {
      "cell_type": "code",
      "execution_count": 26,
      "metadata": {
        "id": "4JZ-4qWDbsNz"
      },
      "outputs": [
        {
          "name": "stdout",
          "output_type": "stream",
          "text": [
            "Test Accuracy: 0.8495575221238938\n"
          ]
        }
      ],
      "source": [
        "from sklearn.linear_model import LogisticRegression\n",
        "#Set up model for AM \n",
        "AM_lr = LogisticRegression(random_state=0, max_iter=10000).fit(AM_train, AM_trainlabel)\n",
        "\n",
        "\n",
        "#Evaluate logistic regression model on the AM test set\n",
        "AM_lr_score = AM_lr.score(AM_test, AM_testlabel)\n",
        "\n",
        "#Report test accuracy of AM model\n",
        "print(f'Test Accuracy: {AM_lr_score}')"
      ]
    },
    {
      "cell_type": "code",
      "execution_count": 27,
      "metadata": {
        "id": "EcNP2PfguWZL"
      },
      "outputs": [
        {
          "name": "stdout",
          "output_type": "stream",
          "text": [
            "Test Accuracy: 0.745219182112386\n"
          ]
        }
      ],
      "source": [
        "#Set up model for T2P\n",
        "T2P_lr = LogisticRegression(random_state=0, max_iter=10000).fit(T2P_train, T2P_trainlabel)\n",
        "\n",
        "\n",
        "#Evaluate logistic regression model on the T2P test set\n",
        "T2P_lr_score = T2P_lr.score(T2P_test, T2P_testlabel)\n",
        "\n",
        "#Report test accuracy of T2P model\n",
        "print(f'Test Accuracy: {T2P_lr_score}')"
      ]
    },
    {
      "cell_type": "markdown",
      "metadata": {
        "id": "TY6RN5qlMQ2B"
      },
      "source": [
        "**iii) Neural network models - use the code/function below (30 points)**\n",
        "\n",
        "In this section, we will try to predict mouse age by building a Multi-Layer Perceptron (MLP) Model using [Pytorch](https://pytorch.org/docs/stable/index.html). Our MLP will take as input the expression level of the 2000 highly variable genes for a given cell and produce a pair of values corresponding to the probability of the cell being obtain from a 3 months vs. 24 months mouse. Specifically, we will train two separate neural networks using different cell types, one using **alveolar macrophages** and another using **type II pneumocytes**"
      ]
    },
    {
      "cell_type": "markdown",
      "metadata": {
        "id": "U8X4-8_RWzkg"
      },
      "source": [
        "We will start by first importing packages and initialize the random number generator to a fixed constant to ensure reproducibility."
      ]
    },
    {
      "cell_type": "code",
      "execution_count": 28,
      "metadata": {
        "colab": {
          "base_uri": "https://localhost:8080/"
        },
        "id": "j7YMofxdbq_o",
        "outputId": "50b71d54-c3f9-46f8-a1a2-5b920f45c0a0"
      },
      "outputs": [
        {
          "data": {
            "text/plain": [
              "<torch._C.Generator at 0x7f9fa6a888f0>"
            ]
          },
          "execution_count": 28,
          "metadata": {},
          "output_type": "execute_result"
        }
      ],
      "source": [
        "import torch\n",
        "import torch.nn.functional as F\n",
        "from torch import nn\n",
        "from torch import optim\n",
        "from torch.utils.data import Dataset, DataLoader\n",
        "\n",
        "seed = 183\n",
        "torch.manual_seed(seed)"
      ]
    },
    {
      "cell_type": "markdown",
      "metadata": {
        "id": "F__TdIbQ7jnx"
      },
      "source": [
        "#### We will first construct our **neural network model for alveolar macrophages**"
      ]
    },
    {
      "cell_type": "markdown",
      "metadata": {
        "id": "5vnkRThppxDC"
      },
      "source": [
        "When we train and evaluate our model, we will require batches of data to be provided. The Dataloader class can automatically provide batches of data fetched from a `Dataset` objects (which is defined for you as a `CountDataset` class). **Complete the code block below by converting counts and labels into tensors of the appropriate type.** In order for training to run properly, you need to make sure to convert count data to [`tensor` objects](https://pytorch.org/docs/stable/tensors.html#torch.Tensor) of type Float and the labels (age) should also be `tensor` objects of type Integer. **Furthermore, set an appropriate batch size, nbatch.** The batch size represents the number of samples passed through our neural network before an error gradient is computed and the network parameters are updated."
      ]
    },
    {
      "cell_type": "code",
      "execution_count": 29,
      "metadata": {
        "id": "8WUUnh30ZH7P"
      },
      "outputs": [],
      "source": [
        "#create a custom dataset object so we can use dataloader for shuffling the data\n",
        "class CountDataset(Dataset):\n",
        "    def __init__(self, count, labels):\n",
        "        self.labels = labels\n",
        "        self.count = count\n",
        "    def __len__(self):\n",
        "        return len(self.labels)\n",
        "    def __getitem__(self, idx):\n",
        "        label = self.labels[idx]\n",
        "        count = self.count[idx]\n",
        "        sample = [count, label]\n",
        "        return sample\n",
        "\n",
        "# convert counts/label into tensors of the appropriate type\n",
        "traindata = torch.tensor(AM_train, dtype=torch.float32)\n",
        "trainlabel = torch.tensor(AM_trainlabel, dtype=torch.int64)\n",
        "testdata = torch.tensor(AM_test, dtype=torch.float32)\n",
        "testlabel = torch.tensor(AM_testlabel, dtype=torch.int64)\n",
        "\n",
        "trainset = CountDataset(count=traindata, labels=trainlabel)\n",
        "testset = CountDataset(count=testdata, labels=testlabel)\n",
        "\n",
        "# create data loaders\n",
        "nbatch = 64\n",
        "trainloader = DataLoader(trainset, batch_size=nbatch, shuffle=True)\n",
        "testloader = DataLoader(testset, batch_size=nbatch, shuffle=True)"
      ]
    },
    {
      "cell_type": "markdown",
      "metadata": {
        "id": "pRNdKS0Qkyjs"
      },
      "source": [
        "We are now ready to create our simple neural network model. We will define our model in a class that extends nn.Module. nn.Module subclasses must do a minimum of one thing: implement the forward method which takes a batch of data and performs the forward-pass. PyTorch's autograd system computes the gradients of the forward pass for us. In the code below we'll also make use of the constructor of our model to instantiate the hidden and output layers.The model is a simple neural network with one hidden layer. A rectifier linear unit (ReLU) activation function is used for the neurons in the hidden layer. The nn.Module class defines a instance variable called training that is set to True when the model is being trained and False when it is being evaluated after being trained. Since we would like our output to represent probabilities of the cell being from either of the two age groups (outputs are between 0 and 1, and sum up to 1), we can use the [softmax activation function](https://pytorch.org/docs/stable/generated/torch.nn.functional.softmax.html#torch.nn.functional.softmax) on our output layer to turn the outputs into probability-like values. **Complete the code below by implementing the softmax function on the output when the model is not being trained.** We do this because we will use PyTorch's implementation of Cross Entropy Loss (nn.CrossEntropyLoss) during training which implicitly adds a softmax before a logarithmic loss."
      ]
    },
    {
      "cell_type": "code",
      "execution_count": 30,
      "metadata": {
        "id": "oPNaLY6duzaN"
      },
      "outputs": [],
      "source": [
        "# define MLP model\n",
        "class MLPmodel(nn.Module):\n",
        "    def __init__(self, input_size, hidden_size, num_classes):\n",
        "        super(MLPmodel, self).__init__()\n",
        "        self.fc1 = nn.Linear(input_size, hidden_size) \n",
        "        self.fc2 = nn.Linear(hidden_size, num_classes)  \n",
        "    \n",
        "    def forward(self, x):\n",
        "        out = self.fc1(x)\n",
        "        out = F.relu(out)\n",
        "        out = self.fc2(out)\n",
        "        if not self.training:\n",
        "          out = F.softmax(out, dim=1)\n",
        "        return out"
      ]
    },
    {
      "cell_type": "markdown",
      "metadata": {
        "id": "iI2hmsDYu1jS"
      },
      "source": [
        "We can now fit and evaluate the model. **In the code below, complete the implementation of the training loop by**\n",
        "\n",
        "(1) Initialize an instance of our MLPmodel class using appropriate choices of the input_size, hidden_size, and num_classes.\n",
        "\n",
        "(2) Define the variables named loss_function and optimiser, we will use the [cross entropy loss](https://pytorch.org/docs/stable/generated/torch.nn.CrossEntropyLoss.html#torch.nn.CrossEntropyLoss) and the [ADAM optimiser](https://pytorch.org/docs/stable/optim.html).\n",
        "\n",
        "(3) Pick an appropriate number of epoch to train for.\n",
        "\n",
        "(4) Make a line plot showing the loss across all training epochs."
      ]
    },
    {
      "cell_type": "code",
      "execution_count": 31,
      "metadata": {
        "id": "FpXJARJceXM6"
      },
      "outputs": [
        {
          "name": "stdout",
          "output_type": "stream",
          "text": [
            "Epoch 1 loss: 7.4086606204509735\n",
            "Epoch 2 loss: 4.847661271691322\n",
            "Epoch 3 loss: 3.120287448167801\n",
            "Epoch 4 loss: 2.1503743827342987\n",
            "Epoch 5 loss: 1.6560628861188889\n",
            "Epoch 6 loss: 1.2993976101279259\n",
            "Epoch 7 loss: 0.9873489327728748\n",
            "Epoch 8 loss: 0.8055684641003609\n",
            "Epoch 9 loss: 0.6623777821660042\n",
            "Epoch 10 loss: 0.5192169342190027\n",
            "Epoch 11 loss: 0.41920996084809303\n",
            "Epoch 12 loss: 0.33845719415694475\n",
            "Epoch 13 loss: 0.2785053001716733\n",
            "Epoch 14 loss: 0.2345069288276136\n",
            "Epoch 15 loss: 0.2014786577783525\n",
            "Epoch 16 loss: 0.16505585052073002\n",
            "Epoch 17 loss: 0.13834169879555702\n",
            "Epoch 18 loss: 0.12132660113275051\n",
            "Epoch 19 loss: 0.09926860826089978\n",
            "Epoch 20 loss: 0.09039208851754665\n"
          ]
        },
        {
          "data": {
            "image/png": "[encoded data removed]",
            "text/plain": [
              "<Figure size 432x288 with 1 Axes>"
            ]
          },
          "metadata": {
            "needs_background": "light"
          },
          "output_type": "display_data"
        }
      ],
      "source": [
        "# build the model \n",
        "input_size = traindata.shape[1]\n",
        "hidden_size = 50\n",
        "num_classes = 2\n",
        "model = MLPmodel(input_size, hidden_size, num_classes)\n",
        "\n",
        "# define the loss function and the optimiser\n",
        "loss_function = nn.CrossEntropyLoss()\n",
        "optimiser = optim.Adam(model.parameters())\n",
        "\n",
        "# define number of epochs to train for\n",
        "nepoch = 20\n",
        "\n",
        "# the epoch loop\n",
        "train_losses = []\n",
        "for epoch in range(nepoch):\n",
        "    running_loss = 0.0\n",
        "    for data in trainloader:\n",
        "        # get the inputs\n",
        "        inputs, labels = data\n",
        "\n",
        "        # zero the parameter gradients\n",
        "        optimiser.zero_grad()\n",
        "\n",
        "        # forward + loss + backward + optimise (update weights)\n",
        "        outputs = model(inputs)\n",
        "        loss = loss_function(outputs, labels)\n",
        "        loss.backward()\n",
        "        optimiser.step()\n",
        "\n",
        "        # keep track of the loss this epoch\n",
        "        running_loss += loss.item()\n",
        "    train_losses.append(running_loss)\n",
        "    print(f'Epoch {epoch+1} loss: {running_loss}')\n",
        "# plot epoch vs loss\n",
        "plt.plot(train_losses)\n",
        "plt.xlabel('Epoch')\n",
        "plt.ylabel('Training Loss')\n",
        "plt.title('Training Loss vs Epoch')\n",
        "plt.show()\n"
      ]
    },
    {
      "cell_type": "markdown",
      "metadata": {
        "id": "sw_W4qN8vNT4"
      },
      "source": [
        "Let's evaluate the overall accuracy of our trained network on our test set. Use the following code block to finish implementation of the accuracy computation. Report the test accuracy as the percent of cells where the age of the mouse was correctly predicted by the trained MLP model. Note that before the code you need to implement we've made a call to model.eval() - this sets the model into evaluation mode and supresses non-training things (gradients, dropout being applied/computed, etc.)."
      ]
    },
    {
      "cell_type": "code",
      "execution_count": 32,
      "metadata": {
        "id": "LHgzcmiHvNsP"
      },
      "outputs": [
        {
          "name": "stdout",
          "output_type": "stream",
          "text": [
            "Test Accuracy: 85.95 %\n"
          ]
        }
      ],
      "source": [
        "model.eval()\n",
        "\n",
        "# Compute the model accuracy on the test set\n",
        "ncorrect = 0\n",
        "ntotal = 0\n",
        "with torch.no_grad():\n",
        "    for data in testloader:\n",
        "        inputs, labels = data\n",
        "        outputs = model(inputs)\n",
        "        _, predicted = torch.max(outputs.data, 1)\n",
        "        ncorrect += (predicted == labels).sum().item()\n",
        "        ntotal += len(labels)\n",
        "\n",
        "neural_test_acc_AM = (100.0 * ncorrect) / ntotal\n",
        "print('Test Accuracy: %2.2f %%' % ((100.0 * ncorrect) / ntotal))"
      ]
    },
    {
      "cell_type": "markdown",
      "metadata": {
        "id": "asURYZdRvRu-"
      },
      "source": [
        "**Repeat the steps above for type II pneumocytes. Use the exact same set of hyperparameters you set for training on alveolar macrophages.**\n",
        "\n",
        "**Show all your code and report the following**:\n",
        "\n",
        "(1) A loss curve showing the loss value for each epoch\n",
        "\n",
        "(2) Test accuracy on the T2P test set"
      ]
    },
    {
      "cell_type": "code",
      "execution_count": 33,
      "metadata": {
        "id": "j9NsbYcNvVRx"
      },
      "outputs": [
        {
          "name": "stdout",
          "output_type": "stream",
          "text": [
            "Epoch 1 loss: 7.539492219686508\n",
            "Epoch 2 loss: 4.839554250240326\n",
            "Epoch 3 loss: 3.2152328193187714\n",
            "Epoch 4 loss: 2.198642559349537\n",
            "Epoch 5 loss: 1.530181784182787\n",
            "Epoch 6 loss: 1.1358840055763721\n",
            "Epoch 7 loss: 0.8328085970133543\n",
            "Epoch 8 loss: 0.6337338481098413\n",
            "Epoch 9 loss: 0.5135208908468485\n",
            "Epoch 10 loss: 0.38716583512723446\n",
            "Epoch 11 loss: 0.3103238856419921\n",
            "Epoch 12 loss: 0.24823023471981287\n",
            "Epoch 13 loss: 0.19980482384562492\n",
            "Epoch 14 loss: 0.1640602145344019\n",
            "Epoch 15 loss: 0.13495927024632692\n",
            "Epoch 16 loss: 0.11365924356505275\n",
            "Epoch 17 loss: 0.09821015922352672\n",
            "Epoch 18 loss: 0.08681260189041495\n",
            "Epoch 19 loss: 0.07467197300866246\n",
            "Epoch 20 loss: 0.06953355553559959\n"
          ]
        },
        {
          "data": {
            "image/png": "[encoded data removed]",
            "text/plain": [
              "<Figure size 432x288 with 1 Axes>"
            ]
          },
          "metadata": {
            "needs_background": "light"
          },
          "output_type": "display_data"
        },
        {
          "name": "stdout",
          "output_type": "stream",
          "text": [
            "Test Accuracy: 74.49 %\n"
          ]
        }
      ],
      "source": [
        "traindata = torch.tensor(T2P_train, dtype=torch.float32)\n",
        "trainlabel = torch.tensor(T2P_trainlabel, dtype=torch.int64)\n",
        "testdata = torch.tensor(T2P_test, dtype=torch.float32)\n",
        "testlabel = torch.tensor(T2P_testlabel, dtype=torch.int64)\n",
        "\n",
        "trainset = CountDataset(count=traindata, labels=trainlabel)\n",
        "testset = CountDataset(count=testdata, labels=testlabel)\n",
        "\n",
        "# create data loaders\n",
        "nbatch = 64\n",
        "trainloader = DataLoader(trainset, batch_size=nbatch, shuffle=True)\n",
        "testloader = DataLoader(testset, batch_size=nbatch, shuffle=True)\n",
        "\n",
        "# train the same MLP model used above for T2P\n",
        "# build the model \n",
        "input_size = traindata.shape[1]\n",
        "hidden_size = 50\n",
        "num_classes = 2\n",
        "model = MLPmodel(input_size, hidden_size, num_classes)\n",
        "\n",
        "# define the loss function and the optimiser\n",
        "loss_function = nn.CrossEntropyLoss()\n",
        "optimiser = optim.Adam(model.parameters())\n",
        "\n",
        "# define number of epochs to train for\n",
        "nepoch = 20\n",
        "\n",
        "# the epoch loop\n",
        "train_losses = []\n",
        "for epoch in range(nepoch):\n",
        "    running_loss = 0.0\n",
        "    for data in trainloader:\n",
        "        # get the inputs\n",
        "        inputs, labels = data\n",
        "\n",
        "        # zero the parameter gradients\n",
        "        optimiser.zero_grad()\n",
        "\n",
        "        # forward + loss + backward + optimise (update weights)\n",
        "        outputs = model(inputs)\n",
        "        loss = loss_function(outputs, labels)\n",
        "        loss.backward()\n",
        "        optimiser.step()\n",
        "\n",
        "        # keep track of the loss this epoch\n",
        "        running_loss += loss.item()\n",
        "    train_losses.append(running_loss)\n",
        "    print(f'Epoch {epoch+1} loss: {running_loss}')\n",
        "\n",
        "\n",
        "\n",
        "# plot loss across epoch\n",
        "plt.plot(train_losses)\n",
        "plt.xlabel('Epoch')\n",
        "plt.ylabel('Training Loss')\n",
        "plt.title('Training Loss vs Epoch')\n",
        "plt.show()\n",
        "\n",
        "# report model accuracy on T2P test set\n",
        "model.eval()\n",
        "\n",
        "# Compute the model accuracy on the test set\n",
        "ncorrect = 0\n",
        "ntotal = 0\n",
        "with torch.no_grad():\n",
        "    for data in testloader:\n",
        "        inputs, labels = data\n",
        "        outputs = model(inputs)\n",
        "        _, predicted = torch.max(outputs.data, 1)\n",
        "        ncorrect += (predicted == labels).sum().item()\n",
        "        ntotal += len(labels)\n",
        "\n",
        "neural_test_acc_T2P = (100.0 * ncorrect) / ntotal\n",
        "print('Test Accuracy: %2.2f %%' % ((100.0 * ncorrect) / ntotal))"
      ]
    },
    {
      "cell_type": "markdown",
      "metadata": {
        "id": "RTqgz0nNvVlU"
      },
      "source": [
        "**iv) Make a bar plot showing the test accuracy across all four models that you built. (10 points)**\n",
        "\n",
        "You can use https://matplotlib.org/stable/api/_as_gen/matplotlib.pyplot.bar.html \n",
        "\n",
        "1.   logistic regression using alveolar macrophage \n",
        "2.   logistic regression using type II pneumocytes \n",
        "3.   neural network using alveolar macrophage\n",
        "4.   neural network using type II pneumocytes"
      ]
    },
    {
      "cell_type": "code",
      "execution_count": 34,
      "metadata": {
        "id": "qjnqOknNvV9z"
      },
      "outputs": [
        {
          "data": {
            "text/plain": [
              "Text(0.5, 1.0, 'Test Acc of models')"
            ]
          },
          "execution_count": 34,
          "metadata": {},
          "output_type": "execute_result"
        },
        {
          "data": {
            "image/png": "[encoded data removed]",
            "text/plain": [
              "<Figure size 432x288 with 1 Axes>"
            ]
          },
          "metadata": {
            "needs_background": "light"
          },
          "output_type": "display_data"
        }
      ],
      "source": [
        "# make bar plot\n",
        "# ENTER CODE HERE\n",
        "accs = [AM_lr_score*100,T2P_lr_score*100, neural_test_acc_AM, neural_test_acc_T2P]\n",
        "names = ['AM LR', 'T2P LR', 'neural AM', 'neural T2P']\n",
        "\n",
        "plt.bar(names, accs)  \n",
        "plt.ylabel(\"test_acc\")\n",
        "plt.title(\"Test Acc of models\")\n"
      ]
    }
  ],
  "metadata": {
    "colab": {
      "include_colab_link": true,
      "provenance": []
    },
    "kernelspec": {
      "display_name": "bi183",
      "language": "python",
      "name": "bi183"
    },
    "language_info": {
      "codemirror_mode": {
        "name": "ipython",
        "version": 3
      },
      "file_extension": ".py",
      "mimetype": "text/x-python",
      "name": "python",
      "nbconvert_exporter": "python",
      "pygments_lexer": "ipython3",
      "version": "3.10.4"
    }
  },
  "nbformat": 4,
  "nbformat_minor": 0
}
