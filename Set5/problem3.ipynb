{
  "cells": [
    {
      "cell_type": "markdown",
      "metadata": {
        "colab_type": "text",
        "id": "view-in-github"
      },
      "source": [
        "<a href=\"https://colab.research.google.com/github/pachterlab/BI-BE-CS-183-2023/blob/main/HW5/Problem3c.ipynb\" target=\"_parent\"><img src=\"https://colab.research.google.com/assets/colab-badge.svg\" alt=\"Open In Colab\"/></a>"
      ]
    },
    {
      "cell_type": "markdown",
      "metadata": {
        "id": "JPUswnzT0EZG"
      },
      "source": [
        "Bi/Be/Cs 183 2022-2023: Intro to Computational Biology\n",
        "TAs: Meichen Fang, Tara Chari, Zitong (Jerry) Wang\n",
        "\n",
        "**Submit your notebooks by sharing a clickable link with Viewer access. Link must be accessible from submitted assignment document.**\n",
        "\n",
        "Make sure Runtime $\\rightarrow$ Restart and run all works without error"
      ]
    },
    {
      "cell_type": "markdown",
      "metadata": {
        "id": "VthQpDn4tt96"
      },
      "source": [
        "**HW 5 (Midterm) Problem 3c. (8 points)**"
      ]
    },
    {
      "cell_type": "markdown",
      "metadata": {
        "id": "f7gjgkundKkZ"
      },
      "source": [
        "The sum of $n$ i.i.d. geometric random variables with parameter $p$ has a negative binomial distribution with parameters $r=n$ and $p$.\n",
        "\n",
        "Draw 10,000 samples from a negative binomial distribution with $r=10$, $p=0.5$ and plot your sampled values in the form of a histogram. \n",
        "\n",
        "You may **not** use functions that directly generate samples from a negative binomial distribution such as `numpy.random.negative_binomial`. (Hint: a useful function is  `numpy.random.geometric`)"
      ]
    },
    {
      "cell_type": "code",
      "execution_count": 1,
      "metadata": {
        "id": "HeFoMEu3dbrl"
      },
      "outputs": [],
      "source": [
        "import numpy as np\n",
        "import matplotlib.pyplot as plt"
      ]
    },
    {
      "cell_type": "code",
      "execution_count": 2,
      "metadata": {
        "id": "dWJJHF6ld6m-"
      },
      "outputs": [],
      "source": [
        "n = 10000\n",
        "r = 10\n",
        "p = 0.5"
      ]
    },
    {
      "cell_type": "code",
      "execution_count": 3,
      "metadata": {},
      "outputs": [
        {
          "data": {
            "text/plain": [
              "(array([ 468., 1901., 3564., 2116., 1379.,  373.,  157.,   28.,   10.,\n",
              "           4.]),\n",
              " array([10. , 13.5, 17. , 20.5, 24. , 27.5, 31. , 34.5, 38. , 41.5, 45. ]),\n",
              " <BarContainer object of 10 artists>)"
            ]
          },
          "execution_count": 3,
          "metadata": {},
          "output_type": "execute_result"
        },
        {
          "data": {
            "image/png": "[encoded data removed]",
            "text/plain": [
              "<Figure size 432x288 with 1 Axes>"
            ]
          },
          "metadata": {
            "needs_background": "light"
          },
          "output_type": "display_data"
        }
      ],
      "source": [
        "samples = np.sum(np.random.geometric(p, (r, n)), axis=0)\n",
        "plt.hist(samples)"
      ]
    }
  ],
  "metadata": {
    "colab": {
      "include_colab_link": true,
      "provenance": []
    },
    "kernelspec": {
      "display_name": "bi183",
      "language": "python",
      "name": "bi183"
    },
    "language_info": {
      "codemirror_mode": {
        "name": "ipython",
        "version": 3
      },
      "file_extension": ".py",
      "mimetype": "text/x-python",
      "name": "python",
      "nbconvert_exporter": "python",
      "pygments_lexer": "ipython3",
      "version": "3.10.4"
    }
  },
  "nbformat": 4,
  "nbformat_minor": 0
}
