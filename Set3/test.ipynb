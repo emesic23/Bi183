{
 "cells": [
  {
   "cell_type": "code",
   "execution_count": 1,
   "metadata": {},
   "outputs": [],
   "source": [
    "import numpy as np"
   ]
  },
  {
   "cell_type": "code",
   "execution_count": null,
   "metadata": {},
   "outputs": [],
   "source": [
    "[(0 ,0)\n",
    "(1 ,0)\n",
    "(0 ,1)\n",
    "(-1,0)\n",
    "(0 ,-1)\n",
    "(1 ,1)\n",
    "(-1,-1)\n",
    "(-1,1)"
   ]
  },
  {
   "cell_type": "code",
   "execution_count": 10,
   "metadata": {},
   "outputs": [],
   "source": [
    "x = np.array(\n",
    "[[1, 1],\n",
    "[-1, -1],\n",
    "[1, -1],\n",
    "[-1, 1],\n",
    "[2, 2],\n",
    "[-2, -2],\n",
    "[-2, 2],\n",
    "[2, -2]\n",
    "])"
   ]
  },
  {
   "cell_type": "code",
   "execution_count": 13,
   "metadata": {},
   "outputs": [
    {
     "name": "stdout",
     "output_type": "stream",
     "text": [
      "Eigen values: [2.85714286 2.85714286]\n"
     ]
    }
   ],
   "source": [
    "eig_vals = np.linalg.eig(np.cov(x.T))[0]\n",
    "print(\"Eigen values: {}\".format(eig_vals))"
   ]
  },
  {
   "cell_type": "code",
   "execution_count": 14,
   "metadata": {},
   "outputs": [
    {
     "data": {
      "text/plain": [
       "array([[2.85714286, 0.        ],\n",
       "       [0.        , 2.85714286]])"
      ]
     },
     "execution_count": 14,
     "metadata": {},
     "output_type": "execute_result"
    }
   ],
   "source": [
    "np.cov(x.T)"
   ]
  }
 ],
 "metadata": {
  "kernelspec": {
   "display_name": "bi183",
   "language": "python",
   "name": "bi183"
  },
  "language_info": {
   "codemirror_mode": {
    "name": "ipython",
    "version": 3
   },
   "file_extension": ".py",
   "mimetype": "text/x-python",
   "name": "python",
   "nbconvert_exporter": "python",
   "pygments_lexer": "ipython3",
   "version": "3.10.4"
  },
  "orig_nbformat": 4
 },
 "nbformat": 4,
 "nbformat_minor": 2
}
