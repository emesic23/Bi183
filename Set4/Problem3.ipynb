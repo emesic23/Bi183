{
  "cells": [
    {
      "cell_type": "markdown",
      "metadata": {
        "colab_type": "text",
        "id": "view-in-github"
      },
      "source": [
        "<a href=\"https://colab.research.google.com/github/pachterlab/BI-BE-CS-183-2023/blob/main/HW4/Problem3.ipynb\" target=\"_parent\"><img src=\"https://colab.research.google.com/assets/colab-badge.svg\" alt=\"Open In Colab\"/></a>"
      ]
    },
    {
      "cell_type": "markdown",
      "metadata": {
        "id": "MozW3XxY8ezr"
      },
      "source": [
        "Bi/Be/Cs 183 2022-2023: Intro to Computational Biology\n",
        "TAs: Meichen Fang, Tara Chari, Zitong (Jerry) Wang\n",
        "\n",
        "**Submit your notebooks by sharing a clickable link with Viewer access. Link must be accessible from submitted assignment document.**\n",
        "\n",
        "Make sure Runtime $\\rightarrow$ Restart and run all works without error"
      ]
    },
    {
      "cell_type": "markdown",
      "metadata": {
        "id": "Mu4obGyqS8fh"
      },
      "source": [
        "**HW 4 Problem 3**\n",
        "\n",
        "In this problem you will develop code for running the EM algorithm to fit a Gaussian Mixture Model (GMM). You will learn the mixture weights for a set of (multivariate) Gaussian distributions, which describe the input, single-cell data. This is a common approach to determine clusters within a dataset.\n"
      ]
    },
    {
      "cell_type": "markdown",
      "metadata": {
        "id": "fJ8J92ntz2rk"
      },
      "source": [
        "##**Import data and install packages**"
      ]
    },
    {
      "cell_type": "code",
      "execution_count": 1,
      "metadata": {
        "id": "rjy8W5hly24q"
      },
      "outputs": [],
      "source": [
        "import numpy as np\n",
        "import scipy.io as sio\n",
        "import pandas as pd\n",
        "import matplotlib.pyplot as plt #Can use other plotting packages like seaborn"
      ]
    },
    {
      "cell_type": "code",
      "execution_count": 2,
      "metadata": {
        "colab": {
          "base_uri": "https://localhost:8080/"
        },
        "id": "yH-EpSmB9Y_x",
        "outputId": "72ebeafe-e0d1-4bb3-fe55-e223e4c88f96"
      },
      "outputs": [
        {
          "name": "stderr",
          "output_type": "stream",
          "text": [
            "/tmp/ipykernel_326/3302388002.py:24: TqdmDeprecationWarning: Please use `tqdm.notebook.trange` instead of `tqdm.tnrange`\n",
            "  pbar = tnrange(int(total_length/1024), unit=\"B\")\n"
          ]
        },
        {
          "data": {
            "application/vnd.jupyter.widget-view+json": {
              "model_id": "fc9dad54b96a4f479415af6fc3a8e86f",
              "version_major": 2,
              "version_minor": 0
            },
            "text/plain": [
              "  0%|          | 0/94578 [00:00<?, ?B/s]"
            ]
          },
          "metadata": {},
          "output_type": "display_data"
        },
        {
          "data": {
            "text/plain": [
              "'D1.2315.gz'"
            ]
          },
          "execution_count": 2,
          "metadata": {},
          "output_type": "execute_result"
        }
      ],
      "source": [
        "#Download count matrix of cell by gene counts and metadata files, DOI: 10.22002/D1.2315\n",
        "#tar.gz file which has:\n",
        "#(1) count matrix \n",
        "#(2) metadata for cells (cell type, date of experimental run) \n",
        "#(3) metadata for genes (gene names)\n",
        "\n",
        "import requests\n",
        "from tqdm import tnrange, tqdm_notebook\n",
        "def download_file(doi,ext):\n",
        "    url = 'https://api.datacite.org/dois/'+doi+'/media'\n",
        "    r = requests.get(url).json()\n",
        "    netcdf_url = r['data'][0]['attributes']['url']\n",
        "    r = requests.get(netcdf_url,stream=True)\n",
        "    #Set file name\n",
        "    fname = doi.split('/')[-1]+ext\n",
        "    #Download file with progress bar\n",
        "    if r.status_code == 403:\n",
        "        print(\"File Unavailable\")\n",
        "    if 'content-length' not in r.headers:\n",
        "        print(\"Did not get file\")\n",
        "    else:\n",
        "        with open(fname, 'wb') as f:\n",
        "            total_length = int(r.headers.get('content-length'))\n",
        "            pbar = tnrange(int(total_length/1024), unit=\"B\")\n",
        "            for chunk in r.iter_content(chunk_size=1024):\n",
        "                if chunk:\n",
        "                    pbar.update()\n",
        "                    f.write(chunk)\n",
        "        return fname\n",
        "\n",
        "download_file('10.22002/D1.2315','.gz')\n"
      ]
    },
    {
      "cell_type": "code",
      "execution_count": 3,
      "metadata": {
        "id": "0nQzPlDyndlY"
      },
      "outputs": [
        {
          "name": "stdout",
          "output_type": "stream",
          "text": [
            "biccnGeneMeta.csv\n",
            "biccnMeta.csv\n",
            "biccn.mtx\n"
          ]
        }
      ],
      "source": [
        "!mv D1.2315.gz biccn.tar.gz\n",
        "!tar -xvf biccn.tar.gz"
      ]
    },
    {
      "cell_type": "markdown",
      "metadata": {
        "id": "PpeuucqgiDPx"
      },
      "source": [
        "## **Read in data for analysis**"
      ]
    },
    {
      "cell_type": "markdown",
      "metadata": {
        "id": "swY2nSDukmXg"
      },
      "source": [
        "**The dataset**"
      ]
    },
    {
      "cell_type": "markdown",
      "metadata": {
        "id": "NKSN3bu8cQ3O"
      },
      "source": [
        "This dataset maps the cells in the mouse primary cortex (MOp), including neuronal and non-neuronal cell types, for a total of 10 cell types ([Yao et al., 2021](https://www.nature.com/articles/s41586-021-03500-8)). We will be dealing with the 10x sequenced data only.\n"
      ]
    },
    {
      "cell_type": "markdown",
      "metadata": {
        "id": "58nQkH9eko4-"
      },
      "source": [
        "**The count matrix**\n",
        "\n",
        "This matrix is 18,744 cells by 5,000 genes. The full dataset contains 71,365 cells, however we will work with a randomly subsetted version to facilitate calculations within the Colab environment.\n",
        "\n",
        "1.   For each cell, gene counts were normalized to have the same number of total counts (usually 1e5 or 1e6), with cell-gene counts thus scaled accordingly.\n",
        "\n",
        "2.   Counts were then log-normalized, using the log(1+x), where x is each cell's gene count. The 1 accounts for 0 count genes. \n",
        "\n",
        "3. The ~5000 genes were selected for those that displayed large variance in expression amongst the cells ('highly variable genes').\n",
        "\n"
      ]
    },
    {
      "cell_type": "code",
      "execution_count": 4,
      "metadata": {
        "colab": {
          "base_uri": "https://localhost:8080/"
        },
        "id": "tZ1h_dME8vJb",
        "outputId": "051cc06d-f3a6-41d0-cc21-4c4e6bc79d96"
      },
      "outputs": [
        {
          "data": {
            "text/plain": [
              "(18744, 5000)"
            ]
          },
          "execution_count": 4,
          "metadata": {},
          "output_type": "execute_result"
        }
      ],
      "source": [
        "#Get gene count matrix\n",
        "count_mat = sio.mmread('biccn.mtx')\n",
        "\n",
        "count_mat = count_mat.todense() #Make dense since most functions we'll use don't work with sparse matrices\n",
        "count_mat.shape"
      ]
    },
    {
      "cell_type": "code",
      "execution_count": 5,
      "metadata": {
        "colab": {
          "base_uri": "https://localhost:8080/",
          "height": 238
        },
        "id": "NFissu8VB92P",
        "outputId": "876ed02b-42bd-48de-aae5-15d46bd789af"
      },
      "outputs": [
        {
          "data": {
            "text/html": [
              "<div>\n",
              "<style scoped>\n",
              "    .dataframe tbody tr th:only-of-type {\n",
              "        vertical-align: middle;\n",
              "    }\n",
              "\n",
              "    .dataframe tbody tr th {\n",
              "        vertical-align: top;\n",
              "    }\n",
              "\n",
              "    .dataframe thead th {\n",
              "        text-align: right;\n",
              "    }\n",
              "</style>\n",
              "<table border=\"1\" class=\"dataframe\">\n",
              "  <thead>\n",
              "    <tr style=\"text-align: right;\">\n",
              "      <th></th>\n",
              "      <th>cell_type</th>\n",
              "    </tr>\n",
              "    <tr>\n",
              "      <th>barcode</th>\n",
              "      <th></th>\n",
              "    </tr>\n",
              "  </thead>\n",
              "  <tbody>\n",
              "    <tr>\n",
              "      <th>AAACGAAGTGGATTTC-3L8TX_181211_01_A01</th>\n",
              "      <td>L2/3 IT</td>\n",
              "    </tr>\n",
              "    <tr>\n",
              "      <th>AAACGCTCAATGCTCA-3L8TX_181211_01_A01</th>\n",
              "      <td>L2/3 IT</td>\n",
              "    </tr>\n",
              "    <tr>\n",
              "      <th>AAAGTCCGTGTATCCA-3L8TX_181211_01_A01</th>\n",
              "      <td>L6 CT Cpa6_1</td>\n",
              "    </tr>\n",
              "    <tr>\n",
              "      <th>AAAGTGAGTCGCCACA-3L8TX_181211_01_A01</th>\n",
              "      <td>L2/3 IT</td>\n",
              "    </tr>\n",
              "    <tr>\n",
              "      <th>AAAGTGATCGTCTACC-3L8TX_181211_01_A01</th>\n",
              "      <td>L2/3 IT</td>\n",
              "    </tr>\n",
              "  </tbody>\n",
              "</table>\n",
              "</div>"
            ],
            "text/plain": [
              "                                         cell_type\n",
              "barcode                                           \n",
              "AAACGAAGTGGATTTC-3L8TX_181211_01_A01       L2/3 IT\n",
              "AAACGCTCAATGCTCA-3L8TX_181211_01_A01       L2/3 IT\n",
              "AAAGTCCGTGTATCCA-3L8TX_181211_01_A01  L6 CT Cpa6_1\n",
              "AAAGTGAGTCGCCACA-3L8TX_181211_01_A01       L2/3 IT\n",
              "AAAGTGATCGTCTACC-3L8TX_181211_01_A01       L2/3 IT"
            ]
          },
          "execution_count": 5,
          "metadata": {},
          "output_type": "execute_result"
        }
      ],
      "source": [
        "#Get metadata dataframe for the 18,744 cells (rows of the matrix)\n",
        "meta = pd.read_csv('biccnMeta.csv',index_col = 0)\n",
        "meta.head()"
      ]
    },
    {
      "cell_type": "code",
      "execution_count": 6,
      "metadata": {
        "colab": {
          "base_uri": "https://localhost:8080/",
          "height": 206
        },
        "id": "M5je0CyVN4DN",
        "outputId": "7ba66b5f-c947-436f-fd05-8bbcfb2bd7cc"
      },
      "outputs": [
        {
          "data": {
            "text/html": [
              "<div>\n",
              "<style scoped>\n",
              "    .dataframe tbody tr th:only-of-type {\n",
              "        vertical-align: middle;\n",
              "    }\n",
              "\n",
              "    .dataframe tbody tr th {\n",
              "        vertical-align: top;\n",
              "    }\n",
              "\n",
              "    .dataframe thead th {\n",
              "        text-align: right;\n",
              "    }\n",
              "</style>\n",
              "<table border=\"1\" class=\"dataframe\">\n",
              "  <thead>\n",
              "    <tr style=\"text-align: right;\">\n",
              "      <th></th>\n",
              "      <th>gene_name</th>\n",
              "    </tr>\n",
              "  </thead>\n",
              "  <tbody>\n",
              "    <tr>\n",
              "      <th>Rp1_ENSMUSG00000025900</th>\n",
              "      <td>Rp1_ENSMUSG00000025900</td>\n",
              "    </tr>\n",
              "    <tr>\n",
              "      <th>Sox17_ENSMUSG00000025902</th>\n",
              "      <td>Sox17_ENSMUSG00000025902</td>\n",
              "    </tr>\n",
              "    <tr>\n",
              "      <th>Oprk1_ENSMUSG00000025905</th>\n",
              "      <td>Oprk1_ENSMUSG00000025905</td>\n",
              "    </tr>\n",
              "    <tr>\n",
              "      <th>St18_ENSMUSG00000033740</th>\n",
              "      <td>St18_ENSMUSG00000033740</td>\n",
              "    </tr>\n",
              "    <tr>\n",
              "      <th>Sntg1_ENSMUSG00000025909</th>\n",
              "      <td>Sntg1_ENSMUSG00000025909</td>\n",
              "    </tr>\n",
              "  </tbody>\n",
              "</table>\n",
              "</div>"
            ],
            "text/plain": [
              "                                         gene_name\n",
              "Rp1_ENSMUSG00000025900      Rp1_ENSMUSG00000025900\n",
              "Sox17_ENSMUSG00000025902  Sox17_ENSMUSG00000025902\n",
              "Oprk1_ENSMUSG00000025905  Oprk1_ENSMUSG00000025905\n",
              "St18_ENSMUSG00000033740    St18_ENSMUSG00000033740\n",
              "Sntg1_ENSMUSG00000025909  Sntg1_ENSMUSG00000025909"
            ]
          },
          "execution_count": 6,
          "metadata": {},
          "output_type": "execute_result"
        }
      ],
      "source": [
        "#Get metadata dataframe for the 5,000 genes (columns of the matrix)\n",
        "\n",
        "meta_gene = pd.read_csv('biccnGeneMeta.csv',index_col = 0)\n",
        "meta_gene.head()\n"
      ]
    },
    {
      "cell_type": "markdown",
      "metadata": {
        "id": "u2DFUfz9OGGd"
      },
      "source": [
        "## **Problem 3 (30 points)**"
      ]
    },
    {
      "cell_type": "markdown",
      "metadata": {
        "id": "Jtx3LM4-Skv8"
      },
      "source": [
        "Gaussian mixture model (GMM) is as defined below:\n",
        "\n",
        "\\begin{align}\n",
        "f_{GMM}(\\mathbf{x})=\\sum_{j=1}^k \\phi_j f(\\mathbf {x};{\\boldsymbol{\\mu }}_{j},\\mathbf{\\Sigma}_{j})\n",
        "\\end{align}\n",
        "subject to $\\sum_{j=1}^k \\phi_j = 1$.\n",
        "\n",
        "$\\boldsymbol{\\phi}$ denotes the weights for each Gaussian pdf $f$, and together the GMM is defined as the weighted sum of these Gaussians. $\\boldsymbol{\\mu} \\text{ and } \\mathbf{\\Sigma}$ represent the mean (vector) and covariance (matrix) for each of the $k$ multivariate Gaussians. This model can then describe data with multiple modes/areas of high density i.e. $k$ cell types which shared distinct gene expression signatures."
      ]
    },
    {
      "cell_type": "markdown",
      "metadata": {
        "id": "cuXYuplhT87h"
      },
      "source": [
        "Let $\\mathbf{x} = (\\mathbf{x}_1, \\mathbf{x}_2, \\ldots \\mathbf{x}_n)$ be $n$ independent observations (e.g. cells) which come from a mixture of Gaussians. They are $d$ dimensional, where $d$ is the number of gene measurements. We will define $\\mathbf{z} = (z_1, z_2, \\ldots z_n)$ as the latent variable which represents the mixture component (of the $k$ components) which a cell comes from. Thus $\\phi_j = P(Z = j)$."
      ]
    },
    {
      "cell_type": "markdown",
      "metadata": {
        "id": "O130zlbuVrjz"
      },
      "source": [
        "The parameters to be fit, $\\theta = (\\boldsymbol{\\mu}_1,\\ldots \\boldsymbol{\\mu}_k, \\mathbf{\\Sigma_1}, \\ldots \\mathbf{\\Sigma_k}, \\mathbf{\\phi}_1, \\ldots \\mathbf{\\phi}_k)$ (the parameters of the GMM)."
      ]
    },
    {
      "cell_type": "markdown",
      "metadata": {
        "id": "1TE_28ohWNUh"
      },
      "source": [
        "The (complete) likelihood for maximization is defined as \n",
        "\\begin{align}\n",
        "p(\\mathbf {x},\\mathbf {z};\\theta) =\\prod _{i=1}^{n}\\prod _{j=1}^{k}\\ [f(\\mathbf {x} _{i};{\\boldsymbol{\\mu }}_{j},\\mathbf{\\Sigma}_{j})\\phi_{j}]^{\\mathbb {I} (z_{i}=j)}\n",
        "\\end{align}\n",
        "\n",
        "where $\\mathbb {I}$ is the indicator function.\n",
        "\n",
        "As described in Problem 1, we will use the $Q$ function to maximize, where \n",
        "\\begin{align}\n",
        "Q(\\theta|\\theta_t) = E_{\\mathbf {z}|\\mathbf {x},\\theta_t} [\\log(p(\\mathbf {x},\\mathbf {z};\\theta))].\n",
        "\\end{align}\n"
      ]
    },
    {
      "cell_type": "markdown",
      "metadata": {
        "id": "F5yfl4XG1KWh"
      },
      "source": [
        "Dimensions of variables ($n$ cells, $d$ genes):\n",
        "\n",
        "$\\mathbf{X}: n\\times d$ matrix\n",
        "\n",
        "$\\boldsymbol{\\mu}: k \\times d$ matrix\n",
        "\n",
        "$\\boldsymbol{\\Sigma}: k\\times d \\times d$ matrix\n",
        "\n",
        "$\\boldsymbol{\\phi}:$ 1d array of length $k$"
      ]
    },
    {
      "cell_type": "markdown",
      "metadata": {
        "id": "9X5uTrNgSrVU"
      },
      "source": [
        "### **a) Often covariance matrices of single-cell datasets are singular (non-invertible). Subset the input matrix X to create a 'regularized'-non-singular matrix to use. (5 points)**"
      ]
    },
    {
      "cell_type": "markdown",
      "metadata": {
        "id": "S14pcM1aTAyt"
      },
      "source": [
        "Remove the bottom half of genes based on variance i.e. calculate the variance of expression for *each* gene and remove any genes below the mean variance (from across all genes). In this sense we are further removing 'redundancy' from the matrix.\n",
        "\n",
        "Remember that the counts of the matrix are log1p() of the original counts.\n",
        "\n",
        "**Report how many genes remain after this subsetting, and use this subsetted matrix for all downstream calculations.**"
      ]
    },
    {
      "cell_type": "code",
      "execution_count": 7,
      "metadata": {
        "id": "h63VPYXeTARQ"
      },
      "outputs": [],
      "source": [
        "count_mat_exp = np.exp(count_mat) - 1\n",
        "variances = np.var(count_mat_exp, axis=0)\n",
        "mean_variance = np.mean(variances)\n",
        "high_variance_genes = np.array(variances >= mean_variance).tolist()[0]\n",
        "reg_count_mat = count_mat[:, high_variance_genes]"
      ]
    },
    {
      "cell_type": "code",
      "execution_count": 8,
      "metadata": {},
      "outputs": [
        {
          "data": {
            "text/plain": [
              "(18744, 97)"
            ]
          },
          "execution_count": 8,
          "metadata": {},
          "output_type": "execute_result"
        }
      ],
      "source": [
        "reg_count_mat.shape"
      ]
    },
    {
      "attachments": {},
      "cell_type": "markdown",
      "metadata": {},
      "source": [
        "There are 97 genes remaining."
      ]
    },
    {
      "cell_type": "markdown",
      "metadata": {
        "id": "y8oMK4OkOVGZ"
      },
      "source": [
        "### **b) Implement the E step (5 points)**"
      ]
    },
    {
      "cell_type": "markdown",
      "metadata": {
        "id": "Plo-CevdOXeb"
      },
      "source": [
        "For the E step we assume a set of (randomly initialized) $\\theta_t$.\n",
        "Then:\n",
        "\\begin{align}\n",
        "Q(\\theta|\\theta_t) &= \\sum_{i=1}^{n} \\sum_{j=1}^{k} P(Z_i = j | X_i = \\mathbf{x}_i; \\theta_t) \\log(p(\\mathbf {x}_i,j;\\theta_j)) \\\\\n",
        " &= \\sum_{i=1}^{n} \\sum_{j=1}^{k} T_{i,j}^t[\\log \\phi _{j}-{\\tfrac {1}{2}}\\log |\\mathbf{\\Sigma} _{j}|-{\\tfrac {1}{2}}(\\mathbf {x} _{i}-{\\boldsymbol {\\mu }}_{j})^{\\top }\\mathbf{\\Sigma} _{j}^{-1}(\\mathbf {x} _{i}-{\\boldsymbol {\\mu }}_{j})-{\\tfrac {d}{2}}\\log(2\\pi )]\n",
        "\\end{align}\n",
        "\n",
        "\n"
      ]
    },
    {
      "cell_type": "markdown",
      "metadata": {
        "id": "SeA2jtM-n_v9"
      },
      "source": [
        "$T_{i,j}^t$ represents $P(Z_i = j | X_i = \\mathbf{x}_i; \\theta_t)$ and $p(\\mathbf {x}_i,j;\\theta_j) = f(\\mathbf {x} _{i};{\\boldsymbol{\\mu }}_{j},\\mathbf{\\Sigma}_{j})\\phi_{j}$.\n",
        "\n",
        "$T_{i,j}^t$ needs to be calculated given the current $\\theta_t$ for every $\\mathbf{x}_i$ in the E step.\n",
        "\n",
        "Using Bayes theorem we can get that \n",
        "\\begin{align}\n",
        "T_{i,j}^t = \\frac {\\phi _{j}^{t}\\ f(\\mathbf {x} _{i};{\\boldsymbol {\\mu }}_{j}^{t},\\mathbf{\\Sigma} _{j}^{t})}{\\sum_{r=1}^k \\phi _{r}^{t}\\ f(\\mathbf {x} _{i};{\\boldsymbol {\\mu }}_{r}^{t},\\mathbf{\\Sigma} _{r}^{t})}\n",
        "\\end{align}\n",
        "\n"
      ]
    },
    {
      "cell_type": "markdown",
      "metadata": {
        "id": "soHVlU_sRKAe"
      },
      "source": [
        "You can use [scipy.stats multivariate_normal.pdf](https://docs.scipy.org/doc/scipy/reference/generated/scipy.stats.multivariate_normal.html) to calculate $f$ and [numpy cov](https://numpy.org/doc/stable/reference/generated/numpy.cov.html) to calculate covariances."
      ]
    },
    {
      "cell_type": "markdown",
      "metadata": {
        "id": "FBdvGVNqsv-e"
      },
      "source": [
        "**Fill in the e_step() function and calculate the matrix $\\mathbf{T}$ given inputs $\\mathbf{X}, \\boldsymbol{\\mu^t}, \\mathbf{\\Sigma^t}, \\textbf{ and } \\boldsymbol{\\phi^t}$. $\\mathbf{X}$  represents our cell x genes data matrix.**\n",
        "\n",
        "Note: You may need to add a small epsilon ($\\approx$ 1e-100) to $f$ values, to avoid divide by zero errors."
      ]
    },
    {
      "cell_type": "code",
      "execution_count": 9,
      "metadata": {
        "id": "HfisvYTyODwK"
      },
      "outputs": [],
      "source": [
        "from scipy.stats import multivariate_normal\n",
        "def e_step(X, mu, cov, phi):\n",
        "    k = len(phi)\n",
        "    n = X.shape[0]\n",
        "    T = np.zeros((n, k))\n",
        "\n",
        "    eps = 1e-100\n",
        "\n",
        "    for j in range(k):\n",
        "        cov_j = cov[j]\n",
        "        mu_j = mu[j]\n",
        "        T[:, j] = phi[j] * (multivariate_normal.pdf(X, mean=mu_j.ravel(), cov=cov_j) + eps)\n",
        "\n",
        "    T /= T.sum(axis=1, keepdims=True)\n",
        "    return T\n"
      ]
    },
    {
      "cell_type": "code",
      "execution_count": 48,
      "metadata": {},
      "outputs": [
        {
          "name": "stdout",
          "output_type": "stream",
          "text": [
            "(10, 1, 97) (10, 97, 97)\n"
          ]
        }
      ],
      "source": [
        "n, d = reg_count_mat.shape\n",
        "k = 10\n",
        "phi = np.full(k, 1/k)\n",
        "np.random.seed(2022)\n",
        "rand_rows=np.random.choice(n,k,replace=False)\n",
        "mus = np.array(reg_count_mat[rand_rows])\n",
        "sigmas = np.repeat(np.array(np.cov(reg_count_mat.T))[np.newaxis, :, :], 10, axis=0)\n",
        "mus = mus.reshape(k, 1, d)\n",
        "print(mus.shape, sigmas.shape)"
      ]
    },
    {
      "cell_type": "code",
      "execution_count": 49,
      "metadata": {},
      "outputs": [
        {
          "data": {
            "text/plain": [
              "array([[1.83604150e-04, 3.98736641e-03, 4.25399172e-09, ...,\n",
              "        8.17133582e-01, 3.18134927e-09, 1.37126559e-03],\n",
              "       [1.31863036e-09, 2.81434798e-02, 4.36442158e-06, ...,\n",
              "        2.20341895e-01, 9.94818187e-06, 5.27710927e-04],\n",
              "       [1.17017153e-12, 1.30603159e-01, 3.65231261e-11, ...,\n",
              "        3.03041005e-04, 1.12164240e-08, 4.27600819e-08],\n",
              "       ...,\n",
              "       [1.64082737e-10, 4.43692224e-01, 9.84065859e-09, ...,\n",
              "        8.48238205e-04, 6.56333706e-12, 5.98581632e-04],\n",
              "       [7.64793241e-13, 4.97073183e-08, 9.99911858e-01, ...,\n",
              "        5.80076405e-05, 7.09552101e-07, 1.40166490e-08],\n",
              "       [7.86462807e-08, 6.95117468e-05, 7.05157308e-08, ...,\n",
              "        9.44168824e-02, 1.88423582e-08, 3.78256998e-08]])"
            ]
          },
          "execution_count": 49,
          "metadata": {},
          "output_type": "execute_result"
        }
      ],
      "source": [
        "T = e_step(reg_count_mat, mus, sigmas, phi)\n",
        "T"
      ]
    },
    {
      "cell_type": "markdown",
      "metadata": {
        "id": "u1QLdU6rhB6A"
      },
      "source": []
    },
    {
      "cell_type": "markdown",
      "metadata": {
        "id": "4kqrqo5GOkEp"
      },
      "source": [
        "### **c) Implement the M step (5 points)**"
      ]
    },
    {
      "cell_type": "markdown",
      "metadata": {
        "id": "JPme3tp7qRo4"
      },
      "source": [
        "In the maximization (M) step, we then (re-)calculate the MLE values for $\\theta$ or $(\\boldsymbol{\\mu}_1,\\ldots \\boldsymbol{\\mu}_k, \\mathbf{\\Sigma}_1, \\ldots \\mathbf{\\Sigma}_k, \\mathbf{\\phi}_1, \\ldots \\mathbf{\\phi}_k)$ at this $t+1$ step.\n",
        "\n",
        "Here $j$ is from 1 to k."
      ]
    },
    {
      "cell_type": "markdown",
      "metadata": {
        "id": "bvVv0qwjqqqy"
      },
      "source": [
        "For $\\boldsymbol{\\phi}$\n",
        "\\begin{align}\n",
        "\\phi _{j} ={\\frac {1}{n}}\\sum _{i=1}^{n}T_{i,j}^{t}.\n",
        "\\end{align}\n",
        "\n",
        "\n",
        "For $\\boldsymbol{\\mu}$\n",
        "\\begin{align}\n",
        "\\boldsymbol{\\mu}_j = \\frac{\\sum_{i=1}^n T_{i,j}^{t} \\mathbf{x}_i}{\\sum_{i=1}^n T_{i,j}^{t}}.\n",
        "\\end{align}\n",
        "\n",
        "And for $\\boldsymbol{\\Sigma}$\n",
        "\\begin{align}\n",
        "\\mathbf{\\Sigma}_j = \\frac{\\sum_{i=1}^n T_{i,j}^{t} (\\mathbf{x}_i - \\boldsymbol{\\mu}_j)^\\top (\\mathbf{x}_i - \\boldsymbol{\\mu}_j) }{\\sum_{i=1}^n T_{i,j}^{t}}\n",
        "\\end{align}"
      ]
    },
    {
      "cell_type": "markdown",
      "metadata": {
        "id": "typSX-yJsyWw"
      },
      "source": [
        "**Fill in the m_step() function to calculate the updated $\\boldsymbol{\\mu}, \\mathbf{\\Sigma}, \\textbf{ and } \\boldsymbol{\\phi}$ values given $\\mathbf{T}$.**\n",
        "\n",
        "Note: To calculate the new covariance matrices you can use the aweights input option for [np.cov](https://numpy.org/doc/stable/reference/generated/numpy.cov.html), where the $T^t_{i,j}$ values are the weights."
      ]
    },
    {
      "cell_type": "code",
      "execution_count": 10,
      "metadata": {
        "id": "CyFM88e7Ok7J"
      },
      "outputs": [],
      "source": [
        "def m_step(X, T):\n",
        "  n, p = X.shape\n",
        "  k = T.shape[1]\n",
        "  \n",
        "  phi = np.mean(T, axis=0)\n",
        "  \n",
        "  mu = np.zeros((k, p))\n",
        "  sigma = np.zeros((k, p, p))\n",
        "  for j in range(k):\n",
        "      t = T[:, j]\n",
        "      mu[j] = np.sum(t * X, axis=0) / np.sum(t)\n",
        "      sigma[j] = np.cov(X.T, aweights=t, bias=True)\n",
        "  \n",
        "  return mu, sigma, phi\n"
      ]
    },
    {
      "cell_type": "code",
      "execution_count": 50,
      "metadata": {},
      "outputs": [],
      "source": [
        "mus, sigmas, phi = m_step(reg_count_mat, T)"
      ]
    },
    {
      "cell_type": "code",
      "execution_count": 53,
      "metadata": {},
      "outputs": [
        {
          "name": "stdout",
          "output_type": "stream",
          "text": [
            "[[ 4.24871959  4.86116991  5.82441841  4.22679207  2.64997245  6.03980325\n",
            "   4.38428132  2.79219894  4.22368928  6.72887478  3.10995058  1.03929741\n",
            "   2.76974016  4.70469043  5.43078208  4.8714954   6.06543615  5.03057101\n",
            "   4.58333249  1.55528062  7.69964797  4.96340823  3.67266221  8.33689653\n",
            "   0.77486288  2.06924949  5.16605312  5.52073954  4.93745142  3.65951962\n",
            "   6.57528222  1.63073955  4.91800631  5.97352384  4.72780833  5.07886003\n",
            "   5.33621317  1.44257997  5.36254305  1.31114589  4.77582399  6.77743709\n",
            "   4.76134301  5.76663518  6.49449485  5.89089117  3.45972479  6.15742561\n",
            "   7.07970362  4.33072774  6.10008875  4.80628567  5.56184543  7.11805968\n",
            "   5.15024549  5.96918553  5.29211373  4.68931488  6.35658915  2.6984929\n",
            "   5.34186498  4.28151007  5.82277248  4.00478155  4.11306445  4.79157273\n",
            "   6.17734794  5.96195495  4.97766432  5.22128932  5.59853191  4.11853062\n",
            "   5.55876952  8.07372543  2.53982569  5.030826    4.28161772  5.7064085\n",
            "   5.45862402  6.57141882  4.81909931  2.76446582  4.16527665  5.47356115\n",
            "   6.46595399  5.1241794   4.93380765  5.3292399   6.96076807 10.11138068\n",
            "   5.31266819  7.89560643  7.51112889  7.39693627  8.45767172  6.16549785\n",
            "   5.94581847]\n",
            " [ 6.08467653  4.71922061  6.38519024  5.20963189  3.433088    6.8271797\n",
            "   5.45412149  1.05979356  5.94421391  7.22592783  3.39230057  1.14097345\n",
            "   3.38623915  5.88215923  6.51734714  6.02684723  6.52531683  6.43249975\n",
            "   5.35003803  0.20007311  7.60584636  6.09341004  3.21371406  7.85812262\n",
            "   1.95463097  0.58362089  3.66534739  5.4064223   6.28226022  4.42914407\n",
            "   7.08081636  0.33904522  6.67879836  6.73789568  5.37549887  6.56337977\n",
            "   6.64262838  1.05468879  6.05178847  0.4174016   5.81000765  6.70186155\n",
            "   5.08167618  5.89864238  7.56977949  6.25888986  2.95010593  6.45384623\n",
            "   7.28652668  5.57382974  6.31536712  6.25341028  5.65577253  8.168468\n",
            "   6.32422364  6.25768792  6.37037234  6.17289622  6.73824307  4.17262661\n",
            "   6.62323542  5.58393772  6.15836891  5.99616766  6.22454169  6.35866263\n",
            "   7.33467666  7.18815148  6.23998582  6.46571214  6.59564491  5.11483352\n",
            "   6.55430671  8.92775693  1.33723692  6.39429777  5.04849115  6.45335328\n",
            "   5.95635283  6.83734323  4.34101803  5.27879075  3.45939893  5.88192257\n",
            "   6.76777804  6.61299484  5.96495507  6.75381139  6.66996042 10.12088572\n",
            "   5.67560117  8.06752135  7.54508543  7.59533592  8.35668699  6.43269178\n",
            "   6.0550737 ]\n",
            " [ 5.84585681  3.67439921  5.88839419  4.93852908  4.17136935  6.44849048\n",
            "   4.22015683  1.25325451  5.5298392   7.32686765  3.88587575  2.00161252\n",
            "   3.08389872  5.06765394  5.76381095  5.83797596  6.65824723  5.97053424\n",
            "   5.61742017  0.87530326  6.79216039  5.83703872  1.31799505  7.85430281\n",
            "   0.70992402  1.42193425  3.57171233  5.20855253  6.25044217  3.8673205\n",
            "   6.68219009  0.99725987  5.90384406  6.51386838  5.04767724  5.97778176\n",
            "   6.17758559  1.34137459  5.70225508  0.88459042  5.78523923  6.78722831\n",
            "   5.00632795  5.90922005  7.0088605   6.04061929  2.47071366  6.44367953\n",
            "   7.00323832  4.61065748  6.13607545  5.62488773  4.89459947  7.5632539\n",
            "   5.63701901  6.17775659  5.64669837  5.24715859  6.65115515  4.19963151\n",
            "   5.77546143  4.3881009   6.11766931  5.57437569  5.59310362  5.65479903\n",
            "   6.83837981  6.31803322  5.52335368  5.54790827  5.91633719  0.87665577\n",
            "   6.14795668  8.53984422  1.09356168  6.17259177  3.59553242  6.23500694\n",
            "   5.79957944  6.62985794  4.19356042  5.9046044   4.2095283   5.9353184\n",
            "   6.45539272  6.17654373  5.6947684   6.06411523  6.7520162  10.17318007\n",
            "   5.65033843  7.87353147  7.45784098  7.62016285  8.44576565  6.4237142\n",
            "   6.01635741]\n",
            " [ 4.25399496  4.74793465  6.02282947  4.71958244  3.05762283  6.42345694\n",
            "   5.1219141   2.28658921  4.81213837  7.02790708  4.00314474  1.68130196\n",
            "   3.93146376  5.06706749  5.66462948  5.40910358  6.00281441  5.68106191\n",
            "   4.80985204  3.76063334  7.78672946  5.37681199  3.52394302  7.72190467\n",
            "   0.75610033  1.56622542  4.72137951  5.19149307  5.55637151  4.06619092\n",
            "   6.6371871   1.19299131  5.58812951  5.91211987  4.99696891  5.6826158\n",
            "   5.49999499  1.36595679  5.85439676  1.20473554  5.45559009  6.83646261\n",
            "   4.9412356   5.93246724  6.79640357  5.94589138  2.99698291  6.26512618\n",
            "   7.02686674  4.21685393  6.26500284  5.15537555  5.68454158  7.36457437\n",
            "   5.51251542  6.00655163  5.81681922  5.09965694  6.49767495  4.56286863\n",
            "   5.92352261  4.58701606  6.04353767  4.62120963  4.75203401  5.28730229\n",
            "   6.59721896  6.51280909  5.28909004  5.73709973  5.99754731  4.60207473\n",
            "   5.85439386  8.62159565  1.4360373   5.56967954  5.03822939  5.98581987\n",
            "   5.87439459  6.53535494  4.8612105   4.15459895  3.99622715  5.9331756\n",
            "   6.66056657  5.7844649   4.85903181  5.73677256  6.86875172 10.28003172\n",
            "   5.44833168  7.88527695  7.44455217  7.58260739  8.32939466  6.29356214\n",
            "   5.98286182]\n",
            " [ 2.24823291  3.15929392  4.60576593  3.03826516  4.6157      4.47509154\n",
            "   1.64729563  4.55592858  2.06283629  6.47948836  5.34858929  1.40542398\n",
            "   4.39657134  2.7784548   3.456139    3.48479007  5.76655081  2.9029629\n",
            "   4.98939781  3.77695646  6.59860533  3.18878433  1.51733055  7.6461087\n",
            "   1.65676389  4.52808362  4.8847007   4.40687584  3.84888033  2.82450552\n",
            "   5.50084914  3.86771334  2.28703638  4.60667588  3.88747795  2.92989375\n",
            "   3.3721171   2.40881265  4.19418462  2.94957675  4.2306328   6.95349037\n",
            "   4.64363878  5.72304023  4.5827139   5.19226973  4.54967385  5.84797806\n",
            "   6.27610522  1.51718819  5.84645247  2.57224647  5.19194787  5.11663174\n",
            "   2.88539948  5.2850356   2.70102306  1.69808972  5.95067546  4.71412866\n",
            "   3.26532057  1.98357854  5.49788965  1.5921662   1.15037127  2.22890384\n",
            "   4.22928764  3.86654752  2.57367231  2.69777242  3.73026482  1.56513148\n",
            "   3.7988065   6.79370215  3.71751647  3.32670248  2.33713573  4.76727036\n",
            "   5.20153764  5.68515085  6.17547381  2.17529061  5.59959957  5.83544833\n",
            "   5.76523104  3.044757    2.89059782  3.01868128  7.32078867 10.68788021\n",
            "   4.93812951  7.21564692  7.37655463  7.71284345  8.67840183  6.34072735\n",
            "   5.95598923]\n",
            " [ 5.47691871  5.52504306  6.6796472   5.04438492  1.86931341  6.80292033\n",
            "   5.89184438  2.3537983   5.5155671   6.89297202  3.67117485  1.11335582\n",
            "   3.55768924  5.89248427  6.35518828  5.42533226  6.10141995  6.15951642\n",
            "   4.73224614  0.33986003  8.17824685  5.76444496  5.12056399  8.28342106\n",
            "   0.54772866  0.78993199  5.22849492  5.79578623  5.34874421  4.48244285\n",
            "   7.04076229  0.48998524  6.43930716  6.52724273  5.00268367  6.34540092\n",
            "   6.3554617   1.08854414  5.97351763  2.05204399  5.62974771  6.8420187\n",
            "   4.88410261  5.96894922  7.52450627  6.16026396  2.03895476  6.20904822\n",
            "   7.37765437  5.95396457  6.3321093   6.14757543  5.85109542  8.10368067\n",
            "   6.13195402  6.1430194   6.52636549  6.18830618  6.49060142  4.18708844\n",
            "   6.67122428  5.90050679  6.03561094  5.50197553  5.6318553   6.11901742\n",
            "   7.17720623  7.23475938  6.31086437  6.65416234  6.61609982  5.43502494\n",
            "   6.56962045  8.88428621  0.54652252  6.09579673  5.83240373  6.08182805\n",
            "   5.83604976  6.85029245  4.45696987  2.9872703   3.70409821  5.67169736\n",
            "   6.81878606  6.24583264  6.2017181   6.70702313  6.81640531 10.26987121\n",
            "   5.70721049  8.03731331  7.46402435  7.42281436  8.18851807  6.23780014\n",
            "   6.00600372]\n",
            " [ 6.21629251  4.80917787  6.47261113  5.12821408  3.14430242  6.88253168\n",
            "   5.78546877  1.63987683  6.02964691  7.35878032  3.7973099   2.26856889\n",
            "   3.425637    6.06038905  6.56386507  6.12731022  6.48868246  6.51182464\n",
            "   5.00848122  0.11102473  7.54958925  6.15396056  3.40642975  7.80807581\n",
            "   0.39900643  0.47183515  3.74732261  5.44107325  6.17385663  4.3127583\n",
            "   7.02198143  0.22177841  6.82152158  6.73444514  5.42172034  6.6777658\n",
            "   6.65253026  0.98208587  6.08371018  0.34219687  6.02843633  6.9372847\n",
            "   5.07225945  6.16891559  7.64913122  6.25033217  1.89639853  6.38306733\n",
            "   7.19014241  5.79077383  6.3842907   6.18898896  5.30036471  8.34848035\n",
            "   6.26995313  6.2310309   6.49012932  6.20841973  6.6789561   4.24615106\n",
            "   6.75201638  5.86250951  6.42305196  6.13906319  6.28375483  6.45480012\n",
            "   7.48521522  7.2739596   6.3922432   6.66550963  6.66732116  5.21293972\n",
            "   6.60168686  9.0352902   1.01636435  6.51595308  5.04144992  6.38737712\n",
            "   6.13135096  6.79581333  4.37392224  5.38138189  3.72409835  6.33634035\n",
            "   6.82798884  6.70780527  6.31142469  6.87390172  6.64835078 10.28619928\n",
            "   5.76261765  7.97256318  7.52323331  7.65907523  8.27458797  6.39911701\n",
            "   5.98899844]\n",
            " [ 5.77826235  5.23695182  6.80004984  5.11236208  1.86871611  6.94250474\n",
            "   6.26754233  1.00206206  5.69933154  6.95834529  3.42906308  1.19155231\n",
            "   4.00947092  6.19486435  6.76726057  5.90235956  6.09917216  6.41067691\n",
            "   4.76649777  0.09703884  8.435498    5.81509067  5.09926505  8.00364803\n",
            "   0.3438152   0.51776389  5.29441045  5.5853482   5.63323044  4.57258444\n",
            "   7.22962107  0.25598932  6.70844286  6.69551747  5.35386859  6.57998006\n",
            "   6.59078324  0.92804136  6.07372875  0.33945477  5.74924343  6.69430787\n",
            "   4.98313077  5.84220548  7.75897652  6.14846639  2.73024341  6.20840925\n",
            "   7.40004589  6.01937727  6.32661653  6.1822916   5.95748558  8.4412365\n",
            "   6.417552    6.05029493  6.89265434  6.42441904  6.5445868   4.35348144\n",
            "   6.93467692  6.09107098  6.06560637  5.72316756  5.97720778  6.47134416\n",
            "   7.37523759  7.50295891  6.54068822  6.98629963  6.87370951  5.72812494\n",
            "   6.48335806  9.07867932  0.4183486   6.14289012  5.91778514  6.30484202\n",
            "   5.93192481  6.89714572  4.04533349  3.25477954  3.31442629  5.66364409\n",
            "   7.01377076  6.37646111  6.33935776  7.00496959  6.74122003 10.16039134\n",
            "   5.38666293  8.2186015   7.41439288  7.43722435  8.2188969   6.05902722\n",
            "   5.98331812]\n",
            " [ 5.45606635  4.06543449  5.92032401  4.78662722  4.00854968  6.40739768\n",
            "   4.33398159  1.34479027  5.34505883  7.23423663  4.0349281   0.99635241\n",
            "   2.24544852  4.49937392  5.76459317  5.77856307  6.57456245  5.84035849\n",
            "   5.38517068  0.92617484  6.97820479  5.7072695   1.88227558  7.82526458\n",
            "   0.51044148  1.44310252  2.9831022   5.34878155  6.14050682  3.70603322\n",
            "   6.76994367  1.01763115  5.80320185  6.45616582  5.04672971  5.9134186\n",
            "   6.01551882  1.27988627  5.79923152  0.93209937  5.68278253  6.64129203\n",
            "   5.03215432  5.54736246  6.91331879  6.12856982  2.22669639  6.49126597\n",
            "   7.09693245  4.43486987  6.14309423  5.39826013  5.1350963   7.52448825\n",
            "   5.74026182  6.1477545   5.65934419  5.22226211  6.71725769  2.36782406\n",
            "   5.79335351  4.26091015  6.03387016  5.30930227  5.36557308  5.59728562\n",
            "   6.74426201  6.36364499  5.34532714  5.54943334  5.92864123  3.7337782\n",
            "   6.01985921  8.48360032  1.05663098  6.01680814  2.33282993  6.26832618\n",
            "   5.75621104  6.71955158  4.30651904  5.4990257   4.21762913  5.09259726\n",
            "   6.48934371  6.08667167  5.59001556  5.95262044  6.78356877 10.08311203\n",
            "   5.55224079  7.92274417  7.49843686  7.53019838  8.41780458  6.34706457\n",
            "   6.0800985 ]\n",
            " [ 5.55477173  5.23466697  6.68076757  4.96382908  2.87702812  6.84181829\n",
            "   6.07502977  2.42930036  5.54534603  6.99195352  2.39193388  1.12848414\n",
            "   3.49605947  6.07763692  6.65531881  5.77085601  6.18972876  6.1033771\n",
            "   4.61383633  0.26164382  8.45502818  5.59275903  4.94151803  7.95076609\n",
            "   0.42234408  0.62014539  5.36918976  5.52617564  5.72413707  4.64506943\n",
            "   7.16647017  0.36945491  6.50487733  6.60803123  5.24606774  6.38642658\n",
            "   6.38310709  0.94402551  6.10531294  0.4303707   5.69153402  6.70836694\n",
            "   5.00226415  5.83482572  7.57595322  6.1882667   1.8223524   6.181469\n",
            "   7.39461029  5.75495812  6.19015836  6.06347902  6.0125666   8.36043017\n",
            "   6.31773088  6.17453819  6.80042975  6.19998158  6.46987159  4.36587939\n",
            "   6.74313614  5.95590771  6.0678044   5.24142991  5.73752928  6.26231283\n",
            "   7.24910198  7.36787448  6.31942884  6.77386022  6.6890233   5.58170259\n",
            "   6.30598846  8.94529507  0.47643007  5.95851387  5.83798988  6.18137506\n",
            "   5.50188863  6.85723026  3.87751166  3.00061823  2.35903154  5.73024475\n",
            "   6.9860874   6.21767735  6.12564018  6.8029782   6.71603108 10.048308\n",
            "   5.48206453  8.17672899  7.35224633  7.324868    8.00389775  6.16490408\n",
            "   5.92094002]]\n"
          ]
        }
      ],
      "source": [
        "print(mus)"
      ]
    },
    {
      "cell_type": "code",
      "execution_count": 54,
      "metadata": {},
      "outputs": [
        {
          "name": "stdout",
          "output_type": "stream",
          "text": [
            "[[[ 7.66973740e+00  2.12279026e+00  2.00221877e+00 ... -3.87613548e-01\n",
            "   -1.77090536e-01 -1.64188475e-01]\n",
            "  [ 2.12279026e+00  6.30582051e+00  1.99209897e+00 ... -5.37280838e-01\n",
            "   -5.44662094e-01 -2.77882132e-01]\n",
            "  [ 2.00221877e+00  1.99209897e+00  3.91142381e+00 ... -3.61474348e-01\n",
            "   -2.19528679e-01 -5.88166882e-02]\n",
            "  ...\n",
            "  [-3.87613548e-01 -5.37280838e-01 -3.61474348e-01 ...  3.96173966e-01\n",
            "    4.04267411e-01  3.86141103e-01]\n",
            "  [-1.77090536e-01 -5.44662094e-01 -2.19528679e-01 ...  4.04267411e-01\n",
            "    1.72968953e+00  5.20282713e-01]\n",
            "  [-1.64188475e-01 -2.77882132e-01 -5.88166882e-02 ...  3.86141103e-01\n",
            "    5.20282713e-01  2.08995426e+00]]\n",
            "\n",
            " [[ 3.04133566e+00 -4.30657518e-01  3.29356398e-01 ... -4.62259755e-02\n",
            "    7.63605303e-02 -2.57375544e-02]\n",
            "  [-4.30657518e-01  2.79379225e+00  4.85763124e-01 ... -1.02727049e-01\n",
            "   -8.59449906e-02 -1.04758255e-02]\n",
            "  [ 3.29356398e-01  4.85763124e-01  8.33023008e-01 ... -7.45520592e-02\n",
            "   -1.26358062e-02 -7.99804859e-03]\n",
            "  ...\n",
            "  [-4.62259755e-02 -1.02727049e-01 -7.45520592e-02 ...  2.36378522e-01\n",
            "    1.95524851e-01  1.94357732e-01]\n",
            "  [ 7.63605303e-02 -8.59449906e-02 -1.26358062e-02 ...  1.95524851e-01\n",
            "    4.44990222e-01  1.94468183e-01]\n",
            "  [-2.57375544e-02 -1.04758255e-02 -7.99804859e-03 ...  1.94357732e-01\n",
            "    1.94468183e-01  5.49616172e-01]]\n",
            "\n",
            " [[ 6.42117338e+00  4.08363797e-02  1.30855687e+00 ... -2.73218774e-01\n",
            "    6.97683388e-02  4.15107118e-02]\n",
            "  [ 4.08363797e-02  4.76167009e+00  5.98959291e-01 ... -2.16646991e-01\n",
            "   -1.66741334e-01 -1.55885532e-01]\n",
            "  [ 1.30855687e+00  5.98959291e-01  2.10642899e+00 ... -2.00610453e-01\n",
            "   -5.82261082e-02 -3.38398872e-02]\n",
            "  ...\n",
            "  [-2.73218774e-01 -2.16646991e-01 -2.00610453e-01 ...  3.49003430e-01\n",
            "    3.04436611e-01  3.45692396e-01]\n",
            "  [ 6.97683388e-02 -1.66741334e-01 -5.82261082e-02 ...  3.04436611e-01\n",
            "    1.00662038e+00  4.10978700e-01]\n",
            "  [ 4.15107118e-02 -1.55885532e-01 -3.38398872e-02 ...  3.45692396e-01\n",
            "    4.10978700e-01  1.52842259e+00]]\n",
            "\n",
            " ...\n",
            "\n",
            " [[ 1.80092511e+00 -2.99475114e-01  2.15506819e-01 ...  4.58478578e-04\n",
            "    3.11378648e-02  5.43615428e-03]\n",
            "  [-2.99475114e-01  2.57518095e+00  4.26469451e-01 ... -1.11371254e-01\n",
            "   -1.35317799e-01 -3.90172958e-02]\n",
            "  [ 2.15506819e-01  4.26469451e-01  5.34797560e-01 ... -6.64166274e-02\n",
            "   -5.01750295e-02 -2.82202461e-02]\n",
            "  ...\n",
            "  [ 4.58478578e-04 -1.11371254e-01 -6.64166274e-02 ...  2.37167670e-01\n",
            "    2.41643740e-01  1.90482688e-01]\n",
            "  [ 3.11378648e-02 -1.35317799e-01 -5.01750295e-02 ...  2.41643740e-01\n",
            "    7.36928182e-01  2.29096962e-01]\n",
            "  [ 5.43615428e-03 -3.90172958e-02 -2.82202461e-02 ...  1.90482688e-01\n",
            "    2.29096962e-01  4.58655178e-01]]\n",
            "\n",
            " [[ 7.60546894e+00  1.38834067e-01  1.42759540e+00 ... -2.80796692e-01\n",
            "    3.17930943e-02  1.94965058e-03]\n",
            "  [ 1.38834067e-01  4.25540949e+00  7.44212442e-01 ... -2.65568773e-01\n",
            "   -1.84370186e-01 -1.43037922e-01]\n",
            "  [ 1.42759540e+00  7.44212442e-01  2.29547396e+00 ... -2.10287571e-01\n",
            "   -7.91779040e-02  1.79872412e-02]\n",
            "  ...\n",
            "  [-2.80796692e-01 -2.65568773e-01 -2.10287571e-01 ...  3.31166014e-01\n",
            "    2.90222593e-01  2.79232913e-01]\n",
            "  [ 3.17930943e-02 -1.84370186e-01 -7.91779040e-02 ...  2.90222593e-01\n",
            "    1.01625161e+00  3.29624160e-01]\n",
            "  [ 1.94965058e-03 -1.43037922e-01  1.79872412e-02 ...  2.79232913e-01\n",
            "    3.29624160e-01  1.20747117e+00]]\n",
            "\n",
            " [[ 2.77026325e+00  1.94201782e-01  6.23172269e-01 ... -1.19221644e-01\n",
            "   -1.91715649e-03  3.48685972e-02]\n",
            "  [ 1.94201782e-01  2.41526615e+00  5.48516556e-01 ... -1.65864814e-01\n",
            "   -1.46605800e-01 -5.44659583e-02]\n",
            "  [ 6.23172269e-01  5.48516556e-01  9.68627604e-01 ... -1.54586406e-01\n",
            "   -7.01183282e-02 -4.30014571e-02]\n",
            "  ...\n",
            "  [-1.19221644e-01 -1.65864814e-01 -1.54586406e-01 ...  4.27512401e-01\n",
            "    2.92922975e-01  2.93148468e-01]\n",
            "  [-1.91715649e-03 -1.46605800e-01 -7.01183282e-02 ...  2.92922975e-01\n",
            "    5.49515472e-01  2.45862598e-01]\n",
            "  [ 3.48685972e-02 -5.44659583e-02 -4.30014571e-02 ...  2.93148468e-01\n",
            "    2.45862598e-01  6.33150388e-01]]]\n"
          ]
        }
      ],
      "source": [
        "print(sigmas)"
      ]
    },
    {
      "cell_type": "code",
      "execution_count": 55,
      "metadata": {},
      "outputs": [
        {
          "name": "stdout",
          "output_type": "stream",
          "text": [
            "[0.01413737 0.1204727  0.02686431 0.02330654 0.00581768 0.07143668\n",
            " 0.2994296  0.31985824 0.02480487 0.09387201]\n"
          ]
        }
      ],
      "source": [
        "print(phi)"
      ]
    },
    {
      "cell_type": "markdown",
      "metadata": {
        "id": "HYJQW5CROmPC"
      },
      "source": [
        "### **d) Run EM steps for 100 iterations, get mixture (cluster) assignments for the cells, at plot the Q function over the iterations. (10 points)**"
      ]
    },
    {
      "attachments": {},
      "cell_type": "markdown",
      "metadata": {
        "id": "mjxCPu_6s28W"
      },
      "source": [
        "To initialize the EM process we will (1) let $k = 10$ (also the number of labeled cell types), (2) assume $\\boldsymbol{\\phi}$ has a uniform probability for each $k$, (3) choose random rows from the data to represent each of the $k \\boldsymbol{\\mu}$ s, and (4) use the covariance matrix for $\\mathbf{X}$ (the cell x genes matrix) to intialize the $k$ $\\mathbf{\\Sigma}$ s.\n",
        "\n",
        "Run the EM algorithm for 100 iterations.\n",
        "\n",
        "** **"
      ]
    },
    {
      "cell_type": "markdown",
      "metadata": {
        "id": "1nT6tKWTvL_P"
      },
      "source": [
        "Determine the final cluster assignment for each cell $i$ by finding which $k$ (mixture component) has the max $T_{i,j}$ value."
      ]
    },
    {
      "cell_type": "markdown",
      "metadata": {
        "id": "RV2NAmy3s6yM"
      },
      "source": [
        "**Plot Q over the iterations, and report $\\boldsymbol{\\phi}$ and the cluster (k) assignments for the first 10 cells after 100 iterations.**\n",
        "\n",
        "**You can use the initialization provided below.**"
      ]
    },
    {
      "cell_type": "code",
      "execution_count": 11,
      "metadata": {},
      "outputs": [],
      "source": [
        "from tqdm import tqdm"
      ]
    },
    {
      "cell_type": "code",
      "execution_count": 25,
      "metadata": {},
      "outputs": [],
      "source": [
        "T = e_step(reg_count_mat, mus, sigmas, phi)"
      ]
    },
    {
      "cell_type": "code",
      "execution_count": 26,
      "metadata": {
        "id": "cMgjqMV1PSlF"
      },
      "outputs": [
        {
          "name": "stderr",
          "output_type": "stream",
          "text": [
            "100%|██████████| 100/100 [03:05<00:00,  1.86s/it]\n"
          ]
        }
      ],
      "source": [
        "def run_em(X, k):\n",
        "    n, d = X.shape\n",
        "    phi = np.full(k, 1/k)\n",
        "    np.random.seed(2022)\n",
        "    rand_rows=np.random.choice(n,k,replace=False)\n",
        "    mus = np.array(reg_count_mat[rand_rows])\n",
        "    sigmas = np.repeat(np.array(np.cov(reg_count_mat.T))[np.newaxis, :, :], 10, axis=0)\n",
        "    mus = mus.reshape(k, 1, d)\n",
        "    T = np.zeros((n, k))\n",
        "    qs = []\n",
        "    for i in tqdm(range(100)):\n",
        "        T = e_step(X, mus, sigmas, phi)\n",
        "        mus, sigmas, phi = m_step(X, T)\n",
        "        q = q_function(X, mus, sigmas, phi, T)\n",
        "        qs.append(q)\n",
        "    return mus, sigmas, phi, T, qs\n",
        "\n",
        "def q_function(X, mus, sigmas, phi, T):\n",
        "    n, d = X.shape\n",
        "    q = 0\n",
        "    eps = 1e-100\n",
        "    for j in range(k):\n",
        "        q += np.sum(T[:, j] * np.log(phi[j] * (multivariate_normal.pdf(X, mus[j].ravel(), sigmas[j]) + eps)))\n",
        "    return q\n",
        "\n",
        "mus, sigmas, phi, T, qs = run_em(reg_count_mat, k=10)"
      ]
    },
    {
      "cell_type": "code",
      "execution_count": 27,
      "metadata": {},
      "outputs": [
        {
          "data": {
            "text/plain": [
              "[<matplotlib.lines.Line2D at 0x7fd2dee51750>]"
            ]
          },
          "execution_count": 27,
          "metadata": {},
          "output_type": "execute_result"
        },
        {
          "data": {
            "image/png": "[encoded data removed]",
            "text/plain": [
              "<Figure size 432x288 with 1 Axes>"
            ]
          },
          "metadata": {
            "needs_background": "light"
          },
          "output_type": "display_data"
        }
      ],
      "source": [
        "plt.plot(qs)"
      ]
    },
    {
      "cell_type": "code",
      "execution_count": 28,
      "metadata": {},
      "outputs": [
        {
          "name": "stdout",
          "output_type": "stream",
          "text": [
            "phi:  [0.01930765 0.04043582 0.00924819 0.03619432 0.03506034 0.07537443\n",
            " 0.27738782 0.34770524 0.01344514 0.14584106]\n",
            "cluster assignments first 10:  [7 7 6 7 7 7 3 5 9 9]\n"
          ]
        }
      ],
      "source": [
        "cluster_assignments = np.argmax(T, axis=1)\n",
        "print(\"phi: \", phi)\n",
        "print(\"cluster assignments first 10: \", cluster_assignments[:10])"
      ]
    },
    {
      "cell_type": "markdown",
      "metadata": {
        "id": "s6YAyezbPTgp"
      },
      "source": [
        "### **e) Calculate correspondence of generated clusters and given cell type labels. (5 points)**"
      ]
    },
    {
      "cell_type": "markdown",
      "metadata": {
        "id": "IIr-6MaXUyLQ"
      },
      "source": [
        "For each mixture componet/cluster of cells, find the majority cell type label and the percent of cells with that label.\n",
        "\n",
        "**Report the percent of cells with the majority label for each cluster and what that majority label is.**\n",
        "\n"
      ]
    },
    {
      "cell_type": "code",
      "execution_count": 43,
      "metadata": {},
      "outputs": [],
      "source": [
        "unique_cell_types = meta['cell_type'].unique()\n",
        "cell_types = meta['cell_type'].to_numpy()\n",
        "cluster_sums = np.zeros((k, len(cell_types)))\n",
        "\n",
        "for cell in range(reg_count_mat.shape[0]):\n",
        "    for cluster in range(10):\n",
        "        curr_cell = cell_types[cell]\n",
        "        cluster_sums[cluster, np.where(unique_cell_types == cell_types[cell])] += T[cell, cluster]\n",
        "\n",
        "majority_labels = np.zeros(k)\n",
        "majority_percent = np.zeros(k)\n",
        "for i in range(k):\n",
        "  majority_labels[i] = np.argmax(cluster_sums[i, :])\n",
        "  majority_percent[i] = np.max(cluster_sums[i, :]) / np.sum(T[:, i]) * 100\n",
        "majority_labels = majority_labels.astype(int)\n"
      ]
    },
    {
      "cell_type": "code",
      "execution_count": 45,
      "metadata": {
        "id": "35m709X_QRre"
      },
      "outputs": [
        {
          "name": "stdout",
          "output_type": "stream",
          "text": [
            "Cluster 0 has majority label Vip Chat with 50.31371075615775 % cells.\n",
            "Cluster 1 has majority label L6 CT Cpa6_1 with 70.05631026510967 % cells.\n",
            "Cluster 2 has majority label Vip Chat with 52.50476287720277 % cells.\n",
            "Cluster 3 has majority label L5 NP Slc17a8_1 with 86.67340052144675 % cells.\n",
            "Cluster 4 has majority label Astro Aqp4 with 50.046415578367075 % cells.\n",
            "Cluster 5 has majority label L2/3 IT with 99.20482777775523 % cells.\n",
            "Cluster 6 has majority label L6 CT Cpa6_1 with 99.20482676624535 % cells.\n",
            "Cluster 7 has majority label L2/3 IT with 99.20482605129341 % cells.\n",
            "Cluster 8 has majority label Vip Chat with 67.08879371924077 % cells.\n",
            "Cluster 9 has majority label L2/3 IT with 99.20482795002444 % cells.\n"
          ]
        }
      ],
      "source": [
        "for j in range(k):\n",
        "  print(\"Cluster\", j, \"has majority label\", unique_cell_types[majority_labels[j]], \"with\", majority_percent[j], \"% cells.\")"
      ]
    }
  ],
  "metadata": {
    "colab": {
      "include_colab_link": true,
      "provenance": []
    },
    "kernelspec": {
      "display_name": "bi183",
      "language": "python",
      "name": "bi183"
    },
    "language_info": {
      "codemirror_mode": {
        "name": "ipython",
        "version": 3
      },
      "file_extension": ".py",
      "mimetype": "text/x-python",
      "name": "python",
      "nbconvert_exporter": "python",
      "pygments_lexer": "ipython3",
      "version": "3.10.4"
    }
  },
  "nbformat": 4,
  "nbformat_minor": 0
}
