{
  "cells": [
    {
      "cell_type": "markdown",
      "metadata": {
        "colab_type": "text",
        "id": "view-in-github"
      },
      "source": [
        "<a href=\"https://colab.research.google.com/github/pachterlab/BI-BE-CS-183-2023/blob/main/HW4/Problem2.ipynb\" target=\"_parent\"><img src=\"https://colab.research.google.com/assets/colab-badge.svg\" alt=\"Open In Colab\"/></a>"
      ]
    },
    {
      "cell_type": "markdown",
      "metadata": {
        "id": "MozW3XxY8ezr"
      },
      "source": [
        "Bi/Be/Cs 183 2022-2023: Intro to Computational Biology\n",
        "TAs: Meichen Fang, Tara Chari, Zitong (Jerry) Wang\n",
        "\n",
        "**Submit your notebooks by sharing a clickable link with Viewer access. Link must be accessible from submitted assignment document.**\n",
        "\n",
        "Make sure Runtime $\\rightarrow$ Restart and run all works without error"
      ]
    },
    {
      "cell_type": "markdown",
      "metadata": {
        "id": "Mu4obGyqS8fh"
      },
      "source": [
        "**HW 4 Problem 2**\n",
        "\n",
        "In this problem you will develop code for running the EM algorithm on a small toy example of transcripts, by iteratively estimating the read counts per transcript and approximating the relative transcript abundances from those counts.\n"
      ]
    },
    {
      "cell_type": "markdown",
      "metadata": {
        "id": "fJ8J92ntz2rk"
      },
      "source": [
        "##**Import data and install packages**"
      ]
    },
    {
      "cell_type": "code",
      "execution_count": 4,
      "metadata": {
        "id": "rjy8W5hly24q"
      },
      "outputs": [],
      "source": [
        "import numpy as np\n",
        "import scipy.io as sio\n",
        "import pandas as pd\n",
        "import matplotlib.pyplot as plt #Can use other plotting packages like seaborn"
      ]
    },
    {
      "cell_type": "markdown",
      "metadata": {
        "id": "jF7jC36yz_uL"
      },
      "source": [
        "## **Problem 2 (30 points)**\n",
        "This contains parts b-d of for Problem 2. "
      ]
    },
    {
      "cell_type": "markdown",
      "metadata": {
        "id": "q8H8aKLsgaxv"
      },
      "source": [
        "Below you can see an example of the first few steps of the EM procedure with this toy example. This begins with an initial, uniform guess for the Transcript abundances $\\alpha$, which is then iteratively updated by running the expecation (E) and maximization (M) steps. We are assuming transcripts of the same length here."
      ]
    },
    {
      "cell_type": "markdown",
      "metadata": {
        "id": "9s3f2TXp10sA"
      },
      "source": [
        "<img src=\"https://drive.google.com/uc?export=view&id=1C6U4n4hNS7WCPzB8yNdSGb2rovuaf0M4\" alt=\"EMFigure\" width=\"500\" height=\"500\">"
      ]
    },
    {
      "cell_type": "markdown",
      "metadata": {
        "id": "1OYzoakF1E2a"
      },
      "source": [
        "From the compatibility matrix $\\mathbf{Y}$ we can see the alignment of the $N$ Reads to the $K$ Transcripts. For example, Read $c$ does not align to any sequence in Transcript $green$ (the value at Y[1,2] = 0).\n",
        "\n"
      ]
    },
    {
      "cell_type": "code",
      "execution_count": 5,
      "metadata": {
        "colab": {
          "base_uri": "https://localhost:8080/"
        },
        "id": "yKjBOBya1bG5",
        "outputId": "f4794b63-a613-4020-823e-459d9081e54e"
      },
      "outputs": [
        {
          "name": "stdout",
          "output_type": "stream",
          "text": [
            "[[1 0 1 1 1]\n",
            " [1 1 0 0 1]\n",
            " [1 1 1 0 0]]\n",
            "       a  b  c  d  e\n",
            "red    1  0  1  1  1\n",
            "green  1  1  0  0  1\n",
            "blue   1  1  1  0  0\n"
          ]
        }
      ],
      "source": [
        "#Compatibility Matrix for the diagram\n",
        "\n",
        "Y = np.array([[1,0,1,1,1],[1,1,0,0,1],[1, 1, 1 ,0 ,0]])\n",
        "\n",
        "YLabeled = pd.DataFrame(Y, index=['red','green','blue'], columns=['a','b','c','d','e'])\n",
        "\n",
        "print(Y)\n",
        "print(YLabeled)"
      ]
    },
    {
      "cell_type": "markdown",
      "metadata": {
        "id": "EtLoPTKlhVDv"
      },
      "source": [
        "Let $\\alpha$ represent transcript abundance estimates ($\\alpha_{red}, \\alpha_{blue}, \\alpha_{green} $), start at all $\\alpha = 0.33$ (all transcripts equally represented/counted). \n",
        "\n",
        "The Q function for optimization is $\\sum_{n=1}^N \\sum_{k=1}^K \\frac{ y_{k,n} \\alpha^{(t)}_{k} }{ \\sum_{l=1}^K  y_{ln} \\alpha^{(t)}_{l}} \\log ( y_{k,n} \\alpha_{k})$."
      ]
    },
    {
      "attachments": {},
      "cell_type": "markdown",
      "metadata": {
        "id": "-MipaFP21gp9"
      },
      "source": [
        "### **b) Implement the expectation (E) step as a function (5 points)**\n",
        "\n",
        "In the E step we will calculate the posterior $\\begin{align}\n",
        "p(Z_n=k|Y_n;\\alpha^{(t)}) = \\frac{  y_{k,n} \\alpha^{(t)}_{k}}{ \\sum_{l=1}^K y_{l,n} \\alpha^{(t)}_{l}}\\end{align}$\n",
        "for each pair of the $n$ reads and $k$ transcripts given a set of transcript abundances $\\alpha$.\n",
        "\n",
        "\n"
      ]
    },
    {
      "cell_type": "markdown",
      "metadata": {
        "id": "rpr69ao2eKj1"
      },
      "source": [
        "**Fill in the e_step() function below to accept a given vector of transcript abundances ($\\alpha^{(t)}$) and the compatibility matrix, and return the values of the posterior.**"
      ]
    },
    {
      "cell_type": "code",
      "execution_count": 30,
      "metadata": {
        "id": "ERJTnw-y1bKJ"
      },
      "outputs": [],
      "source": [
        "#Implement expectation step as function given transcript abundance estimates alpha and the compatibility matrix Y\n",
        "def e_step(a, com):\n",
        "  num = com * a\n",
        "  den = np.sum(com * a, axis=0)\n",
        "  return num / den\n"
      ]
    },
    {
      "cell_type": "markdown",
      "metadata": {
        "id": "BKCczmsn1hUL"
      },
      "source": [
        "### **c) Implement the maximization (M) step as a function (5 points)**\n",
        "\n",
        "During the maximization step we re-calculate the values for $\\alpha$, given the posterior values and the previously determined $\\alpha^{(t)}$ values. The formula for the new $\\alpha$ values which maximize the $Q$ function is\n",
        "\\begin{align}\n",
        " \\alpha_k^{(t+1)}= \\frac{1}{N}\\sum_{n=1}^N  \\frac{ y_{k,n} \\alpha^{(t)}_{k}}{\\sum_{l=1}^K  y_{l,n} \\alpha^{(t)}_{l}} \\quad.\n",
        "\\end{align}"
      ]
    },
    {
      "cell_type": "markdown",
      "metadata": {
        "id": "e8NYDC9Ke2dT"
      },
      "source": [
        "**Fill in the m_step() function below to accept the posterior values and to return a vector of updated abundance estimates $\\alpha$ for each transcript.**"
      ]
    },
    {
      "cell_type": "code",
      "execution_count": 43,
      "metadata": {
        "id": "s0zYUMtj1dWJ"
      },
      "outputs": [],
      "source": [
        "#Implement maximization step as function taking in Read counts for each transcript\n",
        "def m_step(posterior, y):\n",
        "  num = np.sum(posterior * y, axis=1)\n",
        "  den = np.sum(np.sum(y * posterior, axis=1))\n",
        "  return num / den"
      ]
    },
    {
      "cell_type": "markdown",
      "metadata": {
        "id": "xQTS_yXn1iZR"
      },
      "source": [
        "### **d) Run the EM algorithm to produce estimated abundaces for $\\alpha_{red}, \\alpha_{blue}, \\alpha_{green}$ and plot the log likelihood at each iteration. (10 points)**\n",
        "\n",
        "Begin with $\\alpha_{red} = \\alpha_{blue} = \\alpha_{green} = 0.33$, successively call the E then M functions until the $\\alpha$ values from the current M step are within .0001 of the previous M step estimates."
      ]
    },
    {
      "cell_type": "markdown",
      "metadata": {
        "id": "QDTc8aHbfeEh"
      },
      "source": [
        "**Implement the EM algorithm as described and (1) report the final $\\alpha$ abundance values and (2) plot the log likelihood (not the Q-function) at each iteration.**"
      ]
    },
    {
      "cell_type": "code",
      "execution_count": 61,
      "metadata": {},
      "outputs": [],
      "source": [
        "def likelihood(a):\n",
        "    red = a[0, 0]\n",
        "    green = a[1, 0]\n",
        "    blue = a[2, 0]\n",
        "    return np.log((red + blue) * (red + green) * (blue + green) * red)"
      ]
    },
    {
      "cell_type": "code",
      "execution_count": 62,
      "metadata": {
        "id": "38DVCE_x1gWl"
      },
      "outputs": [],
      "source": [
        "#Call both until < .0001 difference in estimated abundances\n",
        "a = np.array([0.33, 0.33, 0.33]).reshape(3, 1)\n",
        "a1 = None\n",
        "likelihoods = [likelihood(a)]\n",
        "while True:\n",
        "    post = e_step(a, Y)\n",
        "    a1 = m_step(post, Y).reshape(3, 1)\n",
        "    likelihoods.append(likelihood(a1))\n",
        "    if np.allclose(a, a1, atol=0.0001):\n",
        "        a = a1\n",
        "        break\n",
        "    a = a1"
      ]
    },
    {
      "cell_type": "code",
      "execution_count": 63,
      "metadata": {},
      "outputs": [
        {
          "data": {
            "text/plain": [
              "[<matplotlib.lines.Line2D at 0x7f98da736500>]"
            ]
          },
          "execution_count": 63,
          "metadata": {},
          "output_type": "execute_result"
        },
        {
          "data": {
            "image/png": "[encoded data removed]",
            "text/plain": [
              "<Figure size 432x288 with 1 Axes>"
            ]
          },
          "metadata": {
            "needs_background": "light"
          },
          "output_type": "display_data"
        }
      ],
      "source": [
        "plt.plot(likelihoods)"
      ]
    },
    {
      "cell_type": "markdown",
      "metadata": {
        "id": "BLZ7QTyQ7kn9"
      },
      "source": [
        "### **e) Comment on the behavior of the likelihood plot i.e. monotonicity, plateaus, etc, and if it is expected behavior. (5 points)**"
      ]
    },
    {
      "attachments": {},
      "cell_type": "markdown",
      "metadata": {
        "id": "qaTg7ZdH7xez"
      },
      "source": [
        "It seems to be monotone increasing, with a plateau that it hits really starting around 5 iterations. This is the expected behavior, because as we see in question 1, as we iterate our likelihood will increase asymptotically. It is expected to plateau after it converges. "
      ]
    }
  ],
  "metadata": {
    "colab": {
      "include_colab_link": true,
      "provenance": []
    },
    "kernelspec": {
      "display_name": "bi183",
      "language": "python",
      "name": "bi183"
    },
    "language_info": {
      "codemirror_mode": {
        "name": "ipython",
        "version": 3
      },
      "file_extension": ".py",
      "mimetype": "text/x-python",
      "name": "python",
      "nbconvert_exporter": "python",
      "pygments_lexer": "ipython3",
      "version": "3.10.4"
    }
  },
  "nbformat": 4,
  "nbformat_minor": 0
}
