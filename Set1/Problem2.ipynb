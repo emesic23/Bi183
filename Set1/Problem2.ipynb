{
 "cells": [
  {
   "cell_type": "code",
   "execution_count": 108,
   "metadata": {},
   "outputs": [],
   "source": [
    "import time\n",
    "start_time = time.time()"
   ]
  },
  {
   "cell_type": "code",
   "execution_count": 109,
   "metadata": {},
   "outputs": [],
   "source": [
    "import numpy as np"
   ]
  },
  {
   "cell_type": "code",
   "execution_count": 110,
   "metadata": {},
   "outputs": [
    {
     "data": {
      "text/plain": [
       "array([[1, 2, 3, 3],\n",
       "       [3, 1, 9, 4],\n",
       "       [1, 4, 3, 5]])"
      ]
     },
     "execution_count": 110,
     "metadata": {},
     "output_type": "execute_result"
    }
   ],
   "source": [
    "#gene expression matrix\n",
    "G = np.array([[1,2,3,3],[3,1,9,4],[1,4,3,5]])\n",
    "G"
   ]
  },
  {
   "attachments": {},
   "cell_type": "markdown",
   "metadata": {},
   "source": [
    "# Part a\n",
    "Cell 3 has the highest expression.\n",
    "\n",
    "# Part b\n",
    "Gene 3 is the most highly expressed gene in cell 2.\n",
    "\n",
    "# Part c\n",
    "In reduced row echelon form, we have \n",
    "```python\n",
    "[[1 0 3 1],\n",
    " [0 1 0 1],\n",
    " [0 0 0 0]]\n",
    "```\n",
    "Which gives us 2 non-zero rows, i.e. rank of 2.\n",
    "\n",
    "The rank of G suggests that the expression of genes in 2 of the cells are correlated.\n",
    "\n",
    "# Part d\n",
    "## i.\n",
    "setting v to be a row vector of length m (number of columns) where each element of v is 1/n (number of rows)\n",
    "gives us v^T * G to be a vector containing the mean expression of each gene. "
   ]
  },
  {
   "cell_type": "code",
   "execution_count": 111,
   "metadata": {},
   "outputs": [
    {
     "data": {
      "text/plain": [
       "array([1.66666667, 2.33333333, 5.        , 4.        ])"
      ]
     },
     "execution_count": 111,
     "metadata": {},
     "output_type": "execute_result"
    }
   ],
   "source": [
    "v = np.array([1/3, 1/3, 1/3])\n",
    "np.dot(v.T, G)"
   ]
  },
  {
   "attachments": {},
   "cell_type": "markdown",
   "metadata": {},
   "source": [
    "## ii.\n",
    "The mean expression levels are [5/3, 7/3, 5, 4] for the genes.\n"
   ]
  },
  {
   "attachments": {},
   "cell_type": "markdown",
   "metadata": {},
   "source": [
    "## iii.\n",
    "Matrix P that accomplishes this is:\n",
    "```python\n",
    "[[0, 0, 0, 0], \n",
    " [0, 0, 0, 0], \n",
    " [0, 0, 1, 0], \n",
    " [0, 0, 0, 1]]\n",
    "```\n"
   ]
  },
  {
   "cell_type": "code",
   "execution_count": 112,
   "metadata": {},
   "outputs": [
    {
     "data": {
      "text/plain": [
       "array([[0, 0, 3, 3],\n",
       "       [0, 0, 9, 4],\n",
       "       [0, 0, 3, 5]])"
      ]
     },
     "execution_count": 112,
     "metadata": {},
     "output_type": "execute_result"
    }
   ],
   "source": [
    "P = np.array([[0, 0, 0, 0], [0, 0, 0, 0], [0, 0, 1, 0], [0, 0, 0, 1]])\n",
    "np.dot(G, P)"
   ]
  },
  {
   "attachments": {},
   "cell_type": "markdown",
   "metadata": {},
   "source": [
    "# Part E.\n",
    "## i."
   ]
  },
  {
   "cell_type": "code",
   "execution_count": 113,
   "metadata": {},
   "outputs": [],
   "source": [
    "nrows, _ = G.shape\n",
    "\n",
    "l1dist = np.zeros((nrows, nrows))\n",
    "for i in range(nrows):\n",
    "    for j in range(nrows):\n",
    "        l1dist[i, j] = sum(abs(G[i] - G[j]))\n",
    "\n",
    "l2dist = np.zeros((nrows, nrows))\n",
    "for i in range(nrows):\n",
    "    for j in range(nrows):\n",
    "        l2dist[i, j] = np.sqrt(sum((G[i] - G[j])**2))\n",
    "\n",
    "cossim = np.zeros((nrows, nrows))\n",
    "for i in range(nrows):\n",
    "    for j in range(nrows):\n",
    "        cossim[i, j] = sum(G[i] * G[j])/ (np.sqrt(sum(G[i]**2)) * np.sqrt(sum(G[j]**2)))\n",
    "\n"
   ]
  },
  {
   "cell_type": "code",
   "execution_count": 114,
   "metadata": {},
   "outputs": [
    {
     "data": {
      "text/plain": [
       "array([[ 0., 10.,  4.],\n",
       "       [10.,  0., 12.],\n",
       "       [ 4., 12.,  0.]])"
      ]
     },
     "execution_count": 114,
     "metadata": {},
     "output_type": "execute_result"
    }
   ],
   "source": [
    "l1dist"
   ]
  },
  {
   "cell_type": "code",
   "execution_count": 115,
   "metadata": {},
   "outputs": [
    {
     "data": {
      "text/plain": [
       "array([[0.        , 6.4807407 , 2.82842712],\n",
       "       [6.4807407 , 0.        , 7.07106781],\n",
       "       [2.82842712, 7.07106781, 0.        ]])"
      ]
     },
     "execution_count": 115,
     "metadata": {},
     "output_type": "execute_result"
    }
   ],
   "source": [
    "l2dist"
   ]
  },
  {
   "cell_type": "code",
   "execution_count": 116,
   "metadata": {},
   "outputs": [
    {
     "data": {
      "text/plain": [
       "array([[1.        , 0.88694537, 0.96352932],\n",
       "       [0.88694537, 1.        , 0.730999  ],\n",
       "       [0.96352932, 0.730999  , 1.        ]])"
      ]
     },
     "execution_count": 116,
     "metadata": {},
     "output_type": "execute_result"
    }
   ],
   "source": [
    "cossim"
   ]
  },
  {
   "attachments": {},
   "cell_type": "markdown",
   "metadata": {},
   "source": [
    "## ii.\n",
    "for all distance measures, cell 1 and 3 are the most similar.\n"
   ]
  },
  {
   "cell_type": "code",
   "execution_count": 117,
   "metadata": {},
   "outputs": [],
   "source": [
    "G_contam = G + 1\n",
    "\n",
    "l1dist_contam = np.zeros((nrows, nrows))\n",
    "for i in range(nrows):\n",
    "    for j in range(nrows):\n",
    "        l1dist_contam[i, j] = sum(abs(G_contam[i] - G_contam[j]))\n",
    "\n",
    "l2dist_contam = np.zeros((nrows, nrows))\n",
    "for i in range(nrows):\n",
    "    for j in range(nrows):\n",
    "        l2dist_contam[i, j] = np.sqrt(sum((G_contam[i] - G_contam[j])**2))\n",
    "\n",
    "cossim_contam = np.zeros((nrows, nrows))\n",
    "for i in range(nrows):\n",
    "    for j in range(nrows):\n",
    "        cossim_contam[i, j] = sum(G_contam[i] * G_contam[j])/ (np.sqrt(sum(G_contam[i]**2)) * np.sqrt(sum(G_contam[j]**2)))\n"
   ]
  },
  {
   "cell_type": "code",
   "execution_count": 118,
   "metadata": {},
   "outputs": [
    {
     "data": {
      "text/plain": [
       "array([[ 0., 10.,  4.],\n",
       "       [10.,  0., 12.],\n",
       "       [ 4., 12.,  0.]])"
      ]
     },
     "execution_count": 118,
     "metadata": {},
     "output_type": "execute_result"
    }
   ],
   "source": [
    "l1dist_contam"
   ]
  },
  {
   "cell_type": "code",
   "execution_count": 119,
   "metadata": {},
   "outputs": [
    {
     "data": {
      "text/plain": [
       "array([[0.        , 6.4807407 , 2.82842712],\n",
       "       [6.4807407 , 0.        , 7.07106781],\n",
       "       [2.82842712, 7.07106781, 0.        ]])"
      ]
     },
     "execution_count": 119,
     "metadata": {},
     "output_type": "execute_result"
    }
   ],
   "source": [
    "l2dist_contam"
   ]
  },
  {
   "cell_type": "code",
   "execution_count": 121,
   "metadata": {},
   "outputs": [
    {
     "data": {
      "text/plain": [
       "array([[1.        , 0.916097  , 0.97724452],\n",
       "       [0.916097  , 1.        , 0.81200025],\n",
       "       [0.97724452, 0.81200025, 1.        ]])"
      ]
     },
     "execution_count": 121,
     "metadata": {},
     "output_type": "execute_result"
    }
   ],
   "source": [
    "cossim_contam"
   ]
  },
  {
   "attachments": {},
   "cell_type": "markdown",
   "metadata": {},
   "source": [
    "emperically, we see that the only one that changes is the cossim measure. \n",
    "\n",
    "In both the L1 and L2 dist, we are doing $x_i - y_i$. If the cells are contaminated, we would then have $x_i+c - y_i-c$, which is just $x_i-y_i$, thus no difference. For cossim, we are instead multiplying things together, meaning we get extra terms in the numerator and denominator that contain c, affecting the similarity scores. Specifically, we get an $(x_i+c)(y_i+c) = x_i^2 + cy_i + cx_i + c^2$ term in the numerator, and $(x_i + c)^2$ and $(y_i + c)^2$ terms in the denominator. The c, thus, stays in the final calculation, leaving us a different measure."
   ]
  },
  {
   "attachments": {},
   "cell_type": "markdown",
   "metadata": {},
   "source": [
    "# Part F\n",
    "For L1 distance, we have $\\sum_{i=1}^n|x_i-y_i|$. If we scale this, we instead have $\\sum_{i=1}^n|ax_i-by_i|$, which obviously means we would have an a and b term as it does not cancel out.\n",
    "\n",
    "For L2 distance, we have $\\sqrt{\\sum_{i=1}^n(x_i-y_i)^2}$. If we scale this, we have $\\sqrt{\\sum_{i=1}^n(ax_i-by_i)^2}$, or $\\sqrt{\\sum_{i=1}^n((a^2x_i^2 - 2abx_iy_i + b^2y_i^2))}$, again leaving a and b terms that do not cancel out, not meeting the requirement.\n",
    "\n",
    "For cossim, we have a scaled version of $\\frac{\\sum_{i=1}^nax_iby_i}{\\sqrt{\\sum_{i=1}^na^2x_i^2}\\sqrt{\\sum_{i=1}^nb^2y_i^2}}$. Rearranging a bit, we have $\\frac{ab\\sum_{i=1}^nx_iy_i}{ab\\sqrt{\\sum_{i=1}^nx_i^2}\\sqrt{\\sum_{i=1}^ny_i^2}}$, giving us the original version $\\frac{\\sum_{i=1}^nx_iy_i}{\\sqrt{\\sum_{i=1}^nx_i^2}\\sqrt{\\sum_{i=1}^ny_i^2}}$"
   ]
  },
  {
   "cell_type": "code",
   "execution_count": 120,
   "metadata": {},
   "outputs": [
    {
     "name": "stdout",
     "output_type": "stream",
     "text": [
      "0.03 minutes\n"
     ]
    }
   ],
   "source": [
    "l2dist\n",
    "# Running time of the notebook\n",
    "print(\"{:.2f} minutes\".format((time.time()-start_time)/60))"
   ]
  },
  {
   "cell_type": "code",
   "execution_count": null,
   "metadata": {},
   "outputs": [],
   "source": []
  }
 ],
 "metadata": {
  "kernelspec": {
   "display_name": "bi183",
   "language": "python",
   "name": "bi183"
  },
  "language_info": {
   "codemirror_mode": {
    "name": "ipython",
    "version": 3
   },
   "file_extension": ".py",
   "mimetype": "text/x-python",
   "name": "python",
   "nbconvert_exporter": "python",
   "pygments_lexer": "ipython3",
   "version": "3.10.4"
  },
  "orig_nbformat": 4,
  "vscode": {
   "interpreter": {
    "hash": "63a5e91e4f940181b196fa5865590b256e7b2b68491c83ca1d0fa9f353523f03"
   }
  }
 },
 "nbformat": 4,
 "nbformat_minor": 2
}
