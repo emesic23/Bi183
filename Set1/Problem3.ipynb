{
  "cells": [
    {
      "cell_type": "markdown",
      "metadata": {
        "colab_type": "text",
        "id": "view-in-github"
      },
      "source": [
        "<a href=\"https://colab.research.google.com/github/pachterlab/BI-BE-CS-183-2023/blob/main/HW1/Problem3.ipynb\" target=\"_parent\"><img src=\"https://colab.research.google.com/assets/colab-badge.svg\" alt=\"Open In Colab\"/></a>"
      ]
    },
    {
      "cell_type": "markdown",
      "metadata": {
        "id": "JPUswnzT0EZG"
      },
      "source": [
        "Bi/Be/Cs 183 2022-2023: Intro to Computational Biology\n",
        "TAs: Meichen Fang, Tara Chari, Zitong (Jerry) Wang\n",
        "\n",
        "**Submit your notebooks by sharing a clickable link with Viewer access. Link must be accessible from submitted assignment document.**\n",
        "\n",
        "Make sure Runtime $\\rightarrow$ Restart and run all works without error"
      ]
    },
    {
      "cell_type": "markdown",
      "metadata": {
        "id": "VthQpDn4tt96"
      },
      "source": [
        "**HW 1 Problem 3**\n",
        "\n",
        "For this problem you will be exploring the phenomenon known as Simpson's Reversal in a single-cell sequencing dataset.\n",
        " \n",
        "As described in Lecture, Simpson's Reversal describes the phenomenon where a certain trend appears within certain groups of the data, but disappears or is reversed when the groupings are changed. One of the advantages of single-cell RNA sequencing as opposed to bulk RNA sequencing (where all reads from all cells are pooled together) is that it provides the opportunity, in principle, to avoid incorrect inferences about correlation between pairs of genes.\n",
        "\n",
        "For this problem you will mine a single-cell RNA-seq dataset to see if this phenomenon occurs in practice."
      ]
    },
    {
      "cell_type": "code",
      "execution_count": 1,
      "metadata": {
        "id": "_tty4AYi77ys"
      },
      "outputs": [],
      "source": [
        "#To run a code cell, select the cell and hit Command/Ctrl+Enter or click the run/play symbol\n",
        "#Click Insert --> Code Cell or the '+ Code' option to insert a new code cell"
      ]
    },
    {
      "cell_type": "code",
      "execution_count": 2,
      "metadata": {
        "id": "BAjFr_0y8Sxb"
      },
      "outputs": [],
      "source": [
        "#Click Insert --> Text Cell or the '+ Text' option to insert a cell for text as below"
      ]
    },
    {
      "cell_type": "code",
      "execution_count": 3,
      "metadata": {
        "id": "Nj7fi7kx05Mu"
      },
      "outputs": [],
      "source": [
        "# This is  used to time the running of the notebook\n",
        "import time\n",
        "start_time = time.time()"
      ]
    },
    {
      "cell_type": "markdown",
      "metadata": {
        "id": "MozW3XxY8ezr"
      },
      "source": [
        "Text here for descriptions, explanations, etc"
      ]
    },
    {
      "cell_type": "markdown",
      "metadata": {
        "id": "fJ8J92ntz2rk"
      },
      "source": [
        "##**Import data and install packages**"
      ]
    },
    {
      "cell_type": "code",
      "execution_count": 4,
      "metadata": {
        "id": "rjy8W5hly24q"
      },
      "outputs": [],
      "source": [
        "import numpy as np\n",
        "import scipy.io as sio\n",
        "import pandas as pd\n",
        "import matplotlib.pyplot as plt #Can use other plotting packages like seaborn\n",
        "from ipywidgets import FloatProgress\n",
        "from tqdm import tqdm\n"
      ]
    },
    {
      "cell_type": "code",
      "execution_count": 5,
      "metadata": {
        "colab": {
          "base_uri": "https://localhost:8080/",
          "height": 192,
          "referenced_widgets": [
            "771c28933b634f7084c67c33c27ae71c",
            "87cfa13f85e04f98839ebe367f041571",
            "0edff7be2f9044d4aba920862849c29d",
            "e26920dd0c5843e7bd148ca24a8b5e60",
            "4896c8cb86f9468e86cb0652ff5aa3a6",
            "514b3ea050e641aab387355b2eba458e",
            "2cfcb172c7b543cea3656e6d1ee2beb6",
            "201db467f1524cb7bb1d59b8254315f3",
            "5da146bd9663437c8885973eca1d749b",
            "b75bd57d486c464a8a52e862f195c055",
            "07594f5288884e85b522d521159a158b"
          ]
        },
        "id": "yH-EpSmB9Y_x",
        "outputId": "4c011361-5fce-4c1c-b3ee-cdf82fa5d9a8"
      },
      "outputs": [
        {
          "name": "stderr",
          "output_type": "stream",
          "text": [
            "/tmp/ipykernel_282/51245975.py:20: TqdmDeprecationWarning: Please use `tqdm.notebook.trange` instead of `tqdm.tnrange`\n",
            "  pbar = tnrange(int(total_length/1024), unit=\"B\")\n"
          ]
        },
        {
          "data": {
            "application/vnd.jupyter.widget-view+json": {
              "model_id": "c04c726a15134f6987f82bdab65538f9",
              "version_major": 2,
              "version_minor": 0
            },
            "text/plain": [
              "  0%|          | 0/6617 [00:00<?, ?B/s]"
            ]
          },
          "metadata": {},
          "output_type": "display_data"
        },
        {
          "name": "stdout",
          "output_type": "stream",
          "text": [
            "._cell_metadata.csv\n",
            "cell_metadata.csv\n",
            "._gene_metadata.csv\n",
            "gene_metadata.csv\n",
            "._exutero.mtx\n",
            "exutero.mtx\n"
          ]
        }
      ],
      "source": [
        "#Download count matrix of cell by gene counts and metadata files, DOI: 10.22002/D1.20031\n",
        "\n",
        "import requests\n",
        "from tqdm import tnrange, tqdm_notebook\n",
        "def download_file(doi,ext):\n",
        "    url = 'https://api.datacite.org/dois/'+doi+'/media'\n",
        "    r = requests.get(url).json()\n",
        "    netcdf_url = r['data'][0]['attributes']['url']\n",
        "    r = requests.get(netcdf_url,stream=True)\n",
        "    #Set file name\n",
        "    fname = doi.split('/')[-1]+ext\n",
        "    #Download file with progress bar\n",
        "    if r.status_code == 403:\n",
        "        print(\"File Unavailable\")\n",
        "    if 'content-length' not in r.headers:\n",
        "        print(\"Did not get file\")\n",
        "    else:\n",
        "        with open(fname, 'wb') as f:\n",
        "            total_length = int(r.headers.get('content-length'))\n",
        "            pbar = tnrange(int(total_length/1024), unit=\"B\")\n",
        "            for chunk in r.iter_content(chunk_size=1024):\n",
        "                if chunk:\n",
        "                    pbar.update()\n",
        "                    f.write(chunk)\n",
        "        return fname\n",
        "\n",
        "download_file('10.22002/D1.20031','.tar.gz')\n",
        "\n",
        "!tar -xvf D1.20031.tar.gz"
      ]
    },
    {
      "cell_type": "markdown",
      "metadata": {
        "id": "PpeuucqgiDPx"
      },
      "source": [
        "## **Read in data for analysis**"
      ]
    },
    {
      "cell_type": "markdown",
      "metadata": {
        "id": "swY2nSDukmXg"
      },
      "source": [
        "**The dataset**"
      ]
    },
    {
      "cell_type": "markdown",
      "metadata": {
        "id": "NKSN3bu8cQ3O"
      },
      "source": [
        "Much of mammalian embryo development occurs after the embryo implants in the uterus, however this makes the embryo relatively inaccessible and thus hard to study. In [Aguilera-Castrejon et al., 2021](https://www.nature.com/articles/s41586-021-03416-3#Sec7), a cell culture platform was established to culture post-implantation embryos ex utero (outside the uterus) from pre-gastrulation until himdlimb formation (organogenesis).  Single-cell sequencing was done for both in utero and ex utero cultured mouse embryos, to compare development of the externally cultured cells.\n",
        "\n",
        "<center><img src=\"https://drive.google.com/uc?export=view&id=1b6BM_W5Nk2r31RdGE7-bKDuObQq279qh\" alt=\"EMFigure\" width=\"800\" height=\"350\"><center>\n"
      ]
    },
    {
      "cell_type": "markdown",
      "metadata": {
        "id": "58nQkH9eko4-"
      },
      "source": [
        "**The count matrix**\n",
        "\n",
        "This matrix is 6,205 cells by 2,000 genes. We are only working with the ex-utero cultured mouse embryo cells here.\n",
        "\n",
        "1.   For each cell, gene counts were normalized to have the same number of total counts (usually 1e5 or 1e6), with cell-gene counts thus scaled accordingly.\n",
        "\n",
        "2.   Counts were then log-normalized, using the log(1+x), where x is each cell's gene count. The 1 accounts for 0 count genes. \n",
        "\n",
        "3. The top ~2000 genes were selected for those that displayed large variance in expression amongst the cells ('highly variable genes').\n",
        "\n"
      ]
    },
    {
      "cell_type": "code",
      "execution_count": 6,
      "metadata": {
        "colab": {
          "base_uri": "https://localhost:8080/",
          "height": 35
        },
        "id": "tZ1h_dME8vJb",
        "outputId": "a4bfa5f2-8001-42c0-bde7-b6482f4bc220"
      },
      "outputs": [
        {
          "data": {
            "text/plain": [
              "(6205, 2000)"
            ]
          },
          "execution_count": 6,
          "metadata": {},
          "output_type": "execute_result"
        }
      ],
      "source": [
        "#Get gene count matrix\n",
        "count_mat = sio.mmread('exutero.mtx')\n",
        "\n",
        "count_mat.shape"
      ]
    },
    {
      "cell_type": "code",
      "execution_count": 7,
      "metadata": {
        "colab": {
          "base_uri": "https://localhost:8080/",
          "height": 206
        },
        "id": "NFissu8VB92P",
        "outputId": "e65e60b2-bcd3-47c1-d895-e208fe23e4eb"
      },
      "outputs": [
        {
          "data": {
            "text/html": [
              "<div>\n",
              "<style scoped>\n",
              "    .dataframe tbody tr th:only-of-type {\n",
              "        vertical-align: middle;\n",
              "    }\n",
              "\n",
              "    .dataframe tbody tr th {\n",
              "        vertical-align: top;\n",
              "    }\n",
              "\n",
              "    .dataframe thead th {\n",
              "        text-align: right;\n",
              "    }\n",
              "</style>\n",
              "<table border=\"1\" class=\"dataframe\">\n",
              "  <thead>\n",
              "    <tr style=\"text-align: right;\">\n",
              "      <th></th>\n",
              "      <th>cell_type</th>\n",
              "    </tr>\n",
              "  </thead>\n",
              "  <tbody>\n",
              "    <tr>\n",
              "      <th>AAACCCAAGTACAACA-3</th>\n",
              "      <td>Mixed Mesoderm</td>\n",
              "    </tr>\n",
              "    <tr>\n",
              "      <th>AAACCCAGTACACTCA-3</th>\n",
              "      <td>Blood</td>\n",
              "    </tr>\n",
              "    <tr>\n",
              "      <th>AAACCCATCGAAGCAG-3</th>\n",
              "      <td>Neural Tube</td>\n",
              "    </tr>\n",
              "    <tr>\n",
              "      <th>AAACGAAAGGAAACGA-3</th>\n",
              "      <td>Mixed Mesoderm</td>\n",
              "    </tr>\n",
              "    <tr>\n",
              "      <th>AAACGAACACATGGTT-3</th>\n",
              "      <td>Pharyngeal Mesoderm</td>\n",
              "    </tr>\n",
              "  </tbody>\n",
              "</table>\n",
              "</div>"
            ],
            "text/plain": [
              "                              cell_type\n",
              "AAACCCAAGTACAACA-3       Mixed Mesoderm\n",
              "AAACCCAGTACACTCA-3                Blood\n",
              "AAACCCATCGAAGCAG-3          Neural Tube\n",
              "AAACGAAAGGAAACGA-3       Mixed Mesoderm\n",
              "AAACGAACACATGGTT-3  Pharyngeal Mesoderm"
            ]
          },
          "execution_count": 7,
          "metadata": {},
          "output_type": "execute_result"
        }
      ],
      "source": [
        "#Get metadata dataframe for the 6,205 cells (rows of the matrix)\n",
        "meta = pd.read_csv('cell_metadata.csv',index_col = 0)\n",
        "meta.head()"
      ]
    },
    {
      "cell_type": "code",
      "execution_count": 8,
      "metadata": {
        "colab": {
          "base_uri": "https://localhost:8080/",
          "height": 206
        },
        "id": "M5je0CyVN4DN",
        "outputId": "7fe935a2-c98c-4be9-cfff-8da0d15bddf0"
      },
      "outputs": [
        {
          "data": {
            "text/html": [
              "<div>\n",
              "<style scoped>\n",
              "    .dataframe tbody tr th:only-of-type {\n",
              "        vertical-align: middle;\n",
              "    }\n",
              "\n",
              "    .dataframe tbody tr th {\n",
              "        vertical-align: top;\n",
              "    }\n",
              "\n",
              "    .dataframe thead th {\n",
              "        text-align: right;\n",
              "    }\n",
              "</style>\n",
              "<table border=\"1\" class=\"dataframe\">\n",
              "  <thead>\n",
              "    <tr style=\"text-align: right;\">\n",
              "      <th></th>\n",
              "      <th>gene_name</th>\n",
              "    </tr>\n",
              "  </thead>\n",
              "  <tbody>\n",
              "    <tr>\n",
              "      <th>0</th>\n",
              "      <td>Sox17</td>\n",
              "    </tr>\n",
              "    <tr>\n",
              "      <th>1</th>\n",
              "      <td>Lypla1</td>\n",
              "    </tr>\n",
              "    <tr>\n",
              "      <th>2</th>\n",
              "      <td>Sgk3</td>\n",
              "    </tr>\n",
              "    <tr>\n",
              "      <th>3</th>\n",
              "      <td>Xkr9</td>\n",
              "    </tr>\n",
              "    <tr>\n",
              "      <th>4</th>\n",
              "      <td>Bag2</td>\n",
              "    </tr>\n",
              "  </tbody>\n",
              "</table>\n",
              "</div>"
            ],
            "text/plain": [
              "  gene_name\n",
              "0     Sox17\n",
              "1    Lypla1\n",
              "2      Sgk3\n",
              "3      Xkr9\n",
              "4      Bag2"
            ]
          },
          "execution_count": 8,
          "metadata": {},
          "output_type": "execute_result"
        }
      ],
      "source": [
        "#Get metadata dataframe for the 2,000 genes (columns of the matrix)\n",
        "\n",
        "meta_gene = pd.read_csv('gene_metadata.csv',index_col = 0)\n",
        "meta_gene.head()\n"
      ]
    },
    {
      "cell_type": "markdown",
      "metadata": {
        "id": "gPKnb4VNEJE9"
      },
      "source": [
        "## **Problem 3 (36 points)** \n",
        "Find an example of Simpson's reversal."
      ]
    },
    {
      "cell_type": "markdown",
      "metadata": {
        "id": "AfyMXQRkE32t"
      },
      "source": [
        "Generally Simpson's reversal describes how a trend may appear in several groups of data, but not exist or be reversed when groups are combined.\n",
        "\n",
        "Here we will focus on trends of correlation, where two variables (genes) appear correlated in one direction (e.g. **positively**) given one set of groupings, but display **no or negative** correlation in another set of groupings."
      ]
    },
    {
      "cell_type": "markdown",
      "metadata": {
        "id": "z28ojhm7HIEl"
      },
      "source": [
        "For the purposes of this homework, we will be using the common Pearson correlation coefficient to measure correlation between variables.\n",
        "\n",
        "This can be calculated using numpy's corrcoef() function in python, where correlation values are between -1 and 1."
      ]
    },
    {
      "cell_type": "code",
      "execution_count": 9,
      "metadata": {
        "colab": {
          "base_uri": "https://localhost:8080/"
        },
        "id": "NkHBhRNOEP5X",
        "outputId": "5449446b-6caf-418c-9d71-f103c04d96a9"
      },
      "outputs": [
        {
          "name": "stdout",
          "output_type": "stream",
          "text": [
            "Correlation matrix: \n",
            " [[1.         0.22677868]\n",
            " [0.22677868 1.        ]]\n",
            "Corr in first row, second column:  0.22677868380553634\n"
          ]
        }
      ],
      "source": [
        "#Use np.corrcoef()\n",
        "\n",
        "#Given two lists/vectors of values x and y, np.corrcoef(x,y) will return a \n",
        "#pairwise correlation matrix where the diagonal represent correlation between\n",
        "#x with x or y with y, (which are 1) and the off-diagonals which both represent  \n",
        "#correlation of x with y. \n",
        "\n",
        "#The off-diagonal value is the value we are interested in\n",
        "\n",
        "x = [1.0,2.0,3.0,4.0]\n",
        "y = [4.0,5.0,2.0,6.0]\n",
        "\n",
        "corrs = np.corrcoef(x,y)\n",
        "print('Correlation matrix: \\n', corrs)\n",
        "\n",
        "print('Corr in first row, second column: ', corrs[0,1])"
      ]
    },
    {
      "cell_type": "markdown",
      "metadata": {
        "id": "WSk8kc65MhXR"
      },
      "source": [
        "**Problem:** Find two genes which display a Simpson's reversal in their correlations depending on how they are grouped. We are calculating correlation between the genes' expression vectors i.e. their values across cells.\n",
        "\n",
        "Examples of grouping comparison include, but are not limited to:\n",
        "\n",
        "*   Correlation of two genes within each one of two cell types versus their correlations within the two cell types (no cell type grouping)\n",
        "*   Correlation of two genes within one cell type versus their correlation across all cells (no cell type grouping)\n",
        "\n",
        "\n",
        "*Try to report the most extreme difference in correlation you can find*"
      ]
    },
    {
      "cell_type": "markdown",
      "metadata": {
        "id": "03eGGOJeNRc9"
      },
      "source": [
        "Show:\n",
        "\n",
        "a.   All code for subsetting the count matrix and calculating correlation values for a pair of genes. (12 points)\n",
        "\n",
        "Code can be added to code cells below. Feel free to add more code cells if necessary.\n",
        "\n",
        "\n",
        "\n",
        "\n"
      ]
    },
    {
      "cell_type": "code",
      "execution_count": 11,
      "metadata": {},
      "outputs": [],
      "source": []
    },
    {
      "cell_type": "code",
      "execution_count": 17,
      "metadata": {},
      "outputs": [
        {
          "name": "stderr",
          "output_type": "stream",
          "text": [
            "  0%|          | 0/2000 [00:00<?, ?it/s]/home/fucko/anaconda3/envs/bi183/lib/python3.10/site-packages/numpy/lib/function_base.py:2853: RuntimeWarning: invalid value encountered in divide\n",
            "  c /= stddev[:, None]\n",
            "/home/fucko/anaconda3/envs/bi183/lib/python3.10/site-packages/numpy/lib/function_base.py:2854: RuntimeWarning: invalid value encountered in divide\n",
            "  c /= stddev[None, :]\n",
            "  4%|▍         | 80/2000 [23:15<8:50:02, 16.56s/it] "
          ]
        }
      ],
      "source": [
        "# Setup variables\n",
        "cell_types = meta['cell_type'].unique()\n",
        "max_diff = 0\n",
        "max_gene1 = ''\n",
        "max_gene2 = ''\n",
        "max_type = ''\n",
        "gene_names = meta_gene['gene_name'].tolist()\n",
        "\n",
        "# Loop through every gene combo\n",
        "for g1_index in tqdm(range(len(meta_gene['gene_name']))):\n",
        "    for g2_index in range(g1_index, len(meta_gene['gene_name']), 1):\n",
        "        # This shouldn't happen\n",
        "        if g1_index == g2_index:\n",
        "            continue\n",
        "        \n",
        "        # Loop through cell types and for each, get correlation within cell type and across all.\n",
        "        for cell_type in cell_types:\n",
        "            indices = meta['cell_type'].isin([cell_type])\n",
        "            #Correlation of counts within cell type\n",
        "            count_sub_g1 = count_mat[indices,g1_index] #Filter rows (cells) of matrix\n",
        "            count_sub_g2 = count_mat[indices,g2_index]\n",
        "\n",
        "            corrs_type = np.corrcoef(count_sub_g1,count_sub_g2)[0, 1]\n",
        "\n",
        "            #Correlation of counts within cell type\n",
        "            count_all_g1 = count_mat[:,g1_index] #Filter rows (cells) of matrix Sntg1\n",
        "            count_all_g2 = count_mat[:,g2_index]\n",
        "\n",
        "            corrs_all = np.corrcoef(count_all_g1,count_all_g2)[0, 1]\n",
        "\n",
        "            # Update max diff.\n",
        "            if abs(corrs_type - corrs_all) > max_diff:\n",
        "                max_diff = abs(corrs_type - corrs_all)\n",
        "                max_gene1 = gene_names[g1_index]\n",
        "                max_gene2 = gene_names[g2_index]\n",
        "                max_type = cell_type\n",
        "print(max_type)\n",
        "print(max_gene1)\n",
        "print(max_gene2)\n",
        "print(max_diff)"
      ]
    },
    {
      "cell_type": "code",
      "execution_count": null,
      "metadata": {
        "colab": {
          "base_uri": "https://localhost:8080/"
        },
        "id": "K4crXALfvCUu",
        "outputId": "a9eafdd6-a344-4a20-b322-30efc501ac25"
      },
      "outputs": [
        {
          "name": "stdout",
          "output_type": "stream",
          "text": [
            "Correlation within type:  0.43329374882242444\n",
            "Correlation across all cells:  0.07308318924730003\n"
          ]
        }
      ],
      "source": [
        "# ------- Example code for finding gene-pair correlations within a cell type versus across all cells -----------\n",
        "gene1 = 'Krt8' # Keratin 8 is a member of the type II keratin family\n",
        "gene2 = 'Hmgn5'  #High Mobility Group Nucleosome Binding Domain 5\n",
        "\n",
        "indices = meta['cell_type'].isin(['Mid Hind Gut']) #Get indices for where the cell_type is Blood only\n",
        "\n",
        "g1_indices = meta_gene['gene_name'].tolist().index(gene1) #Get exact index for where gene names are gene1 only\n",
        "g2_indices = meta_gene['gene_nahme'].tolist().index(gene2)\n",
        "\n",
        "#Correlation of counts within cell type\n",
        "count_sub_g1 = count_mat[indices,g1_indices] #Filter rows (cells) of matrix\n",
        "count_sub_g2 = count_mat[indices,g2_indices]\n",
        "\n",
        "corrs = np.corrcoef(count_sub_g1,count_sub_g2)\n",
        "print('Correlation within type: ', corrs[0,1])\n",
        "\n",
        "#Correlation of counts within cell type\n",
        "count_all_g1 = count_mat[:,g1_indices] #Filter rows (cells) of matrix Sntg1\n",
        "count_all_g2 = count_mat[:,g2_indices]\n",
        "\n",
        "corrs = np.corrcoef(count_all_g1,count_all_g2)\n",
        "print('Correlation across all cells: ',corrs[0,1])\n",
        "\n",
        "#We see positive correlation within the Mid Hind Gut cell type but small correlation across all cells"
      ]
    },
    {
      "cell_type": "code",
      "execution_count": null,
      "metadata": {
        "id": "p0qGbExH4gcg"
      },
      "outputs": [
        {
          "name": "stdout",
          "output_type": "stream",
          "text": [
            "38\n",
            "325\n",
            "1360\n",
            "Correlation within type:  0.9569814918404529\n",
            "Correlation across all cells:  -0.1150635298689782\n"
          ]
        }
      ],
      "source": [
        "# ------- Your code below ------- \n",
        "gene1 = 'Cited1' \n",
        "gene2 = 'Hand1' \n",
        "\n",
        "indices = meta['cell_type'].isin(['Mid Hind Gut']) #Get indices for where the cell_type is Blood only\n",
        "\n",
        "g1_indices = meta_gene['gene_name'].tolist().index(gene1) #Get exact index for where gene names are gene1 only\n",
        "g2_indices = meta_gene['gene_name'].tolist().index(gene2\n",
        "\n",
        "#Correlation of counts within cell type\n",
        "count_sub_g1 = count_mat[indices,g1_indices] #Filter rows (cells) of matrix\n",
        "count_sub_g2 = count_mat[indices,g2_indices]\n",
        "\n",
        "corrs = np.corrcoef(count_sub_g1,count_sub_g2)\n",
        "print('Correlation within type: ', corrs[0,1])\n",
        "\n",
        "#Correlation of counts within cell type\n",
        "count_all_g1 = count_mat[:,g1_indices] #Filter rows (cells) of matrix Sntg1\n",
        "count_all_g2 = count_mat[:,g2_indices]\n",
        "\n",
        "corrs = np.corrcoef(count_all_g1,count_all_g2)\n",
        "print('Correlation across all cells: ',corrs[0,1])\n",
        "\n",
        "#We see positive correlation within the Mid Hind Gut cell type but small correlation across all cells"
      ]
    },
    {
      "cell_type": "code",
      "execution_count": null,
      "metadata": {
        "id": "4tIii_pT4gjS"
      },
      "outputs": [
        {
          "name": "stdout",
          "output_type": "stream",
          "text": [
            "38\n",
            "1098\n",
            "1372\n",
            "Correlation within type:  1.0\n",
            "Correlation across all cells:  -0.11197707515843609\n"
          ]
        }
      ],
      "source": [
        "# ------- Your code below ------- \n",
        "gene1 = 'Car7' \n",
        "gene2 = 'Pmp22' \n",
        "\n",
        "indices = meta['cell_type'].isin(['Mid Hind Gut']) #Get indices for where the cell_type is Blood only\n",
        "\n",
        "g1_indices = meta_gene['gene_name'].tolist().index(gene1) #Get exact index for where gene names are gene1 only\n",
        "g2_indices = meta_gene['gene_name'].tolist().index(gene2)\n",
        "\n",
        "#Correlation of counts within cell type\n",
        "count_sub_g1 = count_mat[indices,g1_indices] #Filter rows (cells) of matrix\n",
        "count_sub_g2 = count_mat[indices,g2_indices]\n",
        "\n",
        "corrs = np.corrcoef(count_sub_g1,count_sub_g2)\n",
        "print('Correlation within type: ', corrs[0,1])\n",
        "\n",
        "#Correlation of counts within cell type\n",
        "count_all_g1 = count_mat[:,g1_indices] #Filter rows (cells) of matrix Sntg1\n",
        "count_all_g2 = count_mat[:,g2_indices]\n",
        "\n",
        "corrs = np.corrcoef(count_all_g1,count_all_g2)\n",
        "print('Correlation across all cells: ',corrs[0,1])\n",
        "\n",
        "#We see positive correlation within the Mid Hind Gut cell type but small correlation across all cells"
      ]
    },
    {
      "cell_type": "code",
      "execution_count": null,
      "metadata": {
        "id": "iKnihYR0kqCH"
      },
      "outputs": [],
      "source": []
    },
    {
      "cell_type": "code",
      "execution_count": null,
      "metadata": {
        "id": "SX70L58akqE2"
      },
      "outputs": [],
      "source": []
    },
    {
      "cell_type": "code",
      "execution_count": null,
      "metadata": {
        "id": "BQwrLBqHaQYp"
      },
      "outputs": [],
      "source": []
    },
    {
      "cell_type": "code",
      "execution_count": null,
      "metadata": {
        "id": "AaydHS8fYlq1"
      },
      "outputs": [],
      "source": []
    },
    {
      "cell_type": "code",
      "execution_count": null,
      "metadata": {
        "id": "bgnxu2laaqhq"
      },
      "outputs": [],
      "source": []
    },
    {
      "attachments": {},
      "cell_type": "markdown",
      "metadata": {
        "id": "zXIabplmuw-U"
      },
      "source": [
        "Report: \n",
        "\n",
        "b.   What the comparison groupings are (e.g. within one cell type versus across all cells) (6 points)\n",
        "\n",
        "My groupings are within one cell type versus across all cells. In my examples (2 examples), I used the mid hind gut for the cell type\n",
        "\n",
        "c.   Which two genes you are looking at (6 points)\n",
        "\n",
        "In example 1, I used Cited1 and Hand1. In example 2, I used Car7 and Pmp22.\n",
        "\n",
        "d.   What the gene-gene correlations are in each grouping (6 points)\n",
        "\n",
        "example 1: \n",
        "\n",
        "Correlation within type:  0.9569814918404529\n",
        "\n",
        "Correlation across all cells:  -0.1150635298689782\n",
        "\n",
        "\n",
        "example 2:\n",
        "\n",
        "Correlation within type:  1.0\n",
        "\n",
        "Correlation across all cells:  -0.11197707515843609\n",
        "\n",
        "e.   Qualitatively comment on how significant or relevant you think these correlation differences are, given the groupings you chose and the correlation values. (6 points)\n",
        "\n",
        "In both cases, the correlation difference is very drastic. The difference is over 1.0 in both cases, and in both cases, when looking at one cell type vs all the cells, the correlation reverses and goes from positive in one type to negative across all cells. It signifies the need to investigate your findings because what you might find across all cells doesn't hold up sometimes. \n",
        "\n",
        "*Answers b-e can be added directly to this text box*\n"
      ]
    },
    {
      "cell_type": "code",
      "execution_count": null,
      "metadata": {
        "colab": {
          "base_uri": "https://localhost:8080/"
        },
        "id": "U-KtIXUr09w1",
        "outputId": "84744e5a-4e88-4280-df4d-1d624ac10bf5"
      },
      "outputs": [],
      "source": [
        "# Running time of the notebook\n",
        "print(\"{:.2f} minutes\".format((time.time()-start_time)/60))"
      ]
    }
  ],
  "metadata": {
    "colab": {
      "include_colab_link": true,
      "provenance": []
    },
    "kernelspec": {
      "display_name": "bi183",
      "language": "python",
      "name": "bi183"
    },
    "language_info": {
      "codemirror_mode": {
        "name": "ipython",
        "version": 3
      },
      "file_extension": ".py",
      "mimetype": "text/x-python",
      "name": "python",
      "nbconvert_exporter": "python",
      "pygments_lexer": "ipython3",
      "version": "3.10.4"
    },
    "widgets": {
      "application/vnd.jupyter.widget-state+json": {
        "07594f5288884e85b522d521159a158b": {
          "model_module": "@jupyter-widgets/controls",
          "model_module_version": "1.5.0",
          "model_name": "DescriptionStyleModel",
          "state": {
            "_model_module": "@jupyter-widgets/controls",
            "_model_module_version": "1.5.0",
            "_model_name": "DescriptionStyleModel",
            "_view_count": null,
            "_view_module": "@jupyter-widgets/base",
            "_view_module_version": "1.2.0",
            "_view_name": "StyleView",
            "description_width": ""
          }
        },
        "0edff7be2f9044d4aba920862849c29d": {
          "model_module": "@jupyter-widgets/controls",
          "model_module_version": "1.5.0",
          "model_name": "FloatProgressModel",
          "state": {
            "_dom_classes": [],
            "_model_module": "@jupyter-widgets/controls",
            "_model_module_version": "1.5.0",
            "_model_name": "FloatProgressModel",
            "_view_count": null,
            "_view_module": "@jupyter-widgets/controls",
            "_view_module_version": "1.5.0",
            "_view_name": "ProgressView",
            "bar_style": "",
            "description": "",
            "description_tooltip": null,
            "layout": "IPY_MODEL_201db467f1524cb7bb1d59b8254315f3",
            "max": 6617,
            "min": 0,
            "orientation": "horizontal",
            "style": "IPY_MODEL_5da146bd9663437c8885973eca1d749b",
            "value": 6617
          }
        },
        "201db467f1524cb7bb1d59b8254315f3": {
          "model_module": "@jupyter-widgets/base",
          "model_module_version": "1.2.0",
          "model_name": "LayoutModel",
          "state": {
            "_model_module": "@jupyter-widgets/base",
            "_model_module_version": "1.2.0",
            "_model_name": "LayoutModel",
            "_view_count": null,
            "_view_module": "@jupyter-widgets/base",
            "_view_module_version": "1.2.0",
            "_view_name": "LayoutView",
            "align_content": null,
            "align_items": null,
            "align_self": null,
            "border": null,
            "bottom": null,
            "display": null,
            "flex": null,
            "flex_flow": null,
            "grid_area": null,
            "grid_auto_columns": null,
            "grid_auto_flow": null,
            "grid_auto_rows": null,
            "grid_column": null,
            "grid_gap": null,
            "grid_row": null,
            "grid_template_areas": null,
            "grid_template_columns": null,
            "grid_template_rows": null,
            "height": null,
            "justify_content": null,
            "justify_items": null,
            "left": null,
            "margin": null,
            "max_height": null,
            "max_width": null,
            "min_height": null,
            "min_width": null,
            "object_fit": null,
            "object_position": null,
            "order": null,
            "overflow": null,
            "overflow_x": null,
            "overflow_y": null,
            "padding": null,
            "right": null,
            "top": null,
            "visibility": null,
            "width": null
          }
        },
        "2cfcb172c7b543cea3656e6d1ee2beb6": {
          "model_module": "@jupyter-widgets/controls",
          "model_module_version": "1.5.0",
          "model_name": "DescriptionStyleModel",
          "state": {
            "_model_module": "@jupyter-widgets/controls",
            "_model_module_version": "1.5.0",
            "_model_name": "DescriptionStyleModel",
            "_view_count": null,
            "_view_module": "@jupyter-widgets/base",
            "_view_module_version": "1.2.0",
            "_view_name": "StyleView",
            "description_width": ""
          }
        },
        "4896c8cb86f9468e86cb0652ff5aa3a6": {
          "model_module": "@jupyter-widgets/base",
          "model_module_version": "1.2.0",
          "model_name": "LayoutModel",
          "state": {
            "_model_module": "@jupyter-widgets/base",
            "_model_module_version": "1.2.0",
            "_model_name": "LayoutModel",
            "_view_count": null,
            "_view_module": "@jupyter-widgets/base",
            "_view_module_version": "1.2.0",
            "_view_name": "LayoutView",
            "align_content": null,
            "align_items": null,
            "align_self": null,
            "border": null,
            "bottom": null,
            "display": null,
            "flex": null,
            "flex_flow": null,
            "grid_area": null,
            "grid_auto_columns": null,
            "grid_auto_flow": null,
            "grid_auto_rows": null,
            "grid_column": null,
            "grid_gap": null,
            "grid_row": null,
            "grid_template_areas": null,
            "grid_template_columns": null,
            "grid_template_rows": null,
            "height": null,
            "justify_content": null,
            "justify_items": null,
            "left": null,
            "margin": null,
            "max_height": null,
            "max_width": null,
            "min_height": null,
            "min_width": null,
            "object_fit": null,
            "object_position": null,
            "order": null,
            "overflow": null,
            "overflow_x": null,
            "overflow_y": null,
            "padding": null,
            "right": null,
            "top": null,
            "visibility": null,
            "width": null
          }
        },
        "514b3ea050e641aab387355b2eba458e": {
          "model_module": "@jupyter-widgets/base",
          "model_module_version": "1.2.0",
          "model_name": "LayoutModel",
          "state": {
            "_model_module": "@jupyter-widgets/base",
            "_model_module_version": "1.2.0",
            "_model_name": "LayoutModel",
            "_view_count": null,
            "_view_module": "@jupyter-widgets/base",
            "_view_module_version": "1.2.0",
            "_view_name": "LayoutView",
            "align_content": null,
            "align_items": null,
            "align_self": null,
            "border": null,
            "bottom": null,
            "display": null,
            "flex": null,
            "flex_flow": null,
            "grid_area": null,
            "grid_auto_columns": null,
            "grid_auto_flow": null,
            "grid_auto_rows": null,
            "grid_column": null,
            "grid_gap": null,
            "grid_row": null,
            "grid_template_areas": null,
            "grid_template_columns": null,
            "grid_template_rows": null,
            "height": null,
            "justify_content": null,
            "justify_items": null,
            "left": null,
            "margin": null,
            "max_height": null,
            "max_width": null,
            "min_height": null,
            "min_width": null,
            "object_fit": null,
            "object_position": null,
            "order": null,
            "overflow": null,
            "overflow_x": null,
            "overflow_y": null,
            "padding": null,
            "right": null,
            "top": null,
            "visibility": null,
            "width": null
          }
        },
        "5da146bd9663437c8885973eca1d749b": {
          "model_module": "@jupyter-widgets/controls",
          "model_module_version": "1.5.0",
          "model_name": "ProgressStyleModel",
          "state": {
            "_model_module": "@jupyter-widgets/controls",
            "_model_module_version": "1.5.0",
            "_model_name": "ProgressStyleModel",
            "_view_count": null,
            "_view_module": "@jupyter-widgets/base",
            "_view_module_version": "1.2.0",
            "_view_name": "StyleView",
            "bar_color": null,
            "description_width": ""
          }
        },
        "771c28933b634f7084c67c33c27ae71c": {
          "model_module": "@jupyter-widgets/controls",
          "model_module_version": "1.5.0",
          "model_name": "HBoxModel",
          "state": {
            "_dom_classes": [],
            "_model_module": "@jupyter-widgets/controls",
            "_model_module_version": "1.5.0",
            "_model_name": "HBoxModel",
            "_view_count": null,
            "_view_module": "@jupyter-widgets/controls",
            "_view_module_version": "1.5.0",
            "_view_name": "HBoxView",
            "box_style": "",
            "children": [
              "IPY_MODEL_87cfa13f85e04f98839ebe367f041571",
              "IPY_MODEL_0edff7be2f9044d4aba920862849c29d",
              "IPY_MODEL_e26920dd0c5843e7bd148ca24a8b5e60"
            ],
            "layout": "IPY_MODEL_4896c8cb86f9468e86cb0652ff5aa3a6"
          }
        },
        "87cfa13f85e04f98839ebe367f041571": {
          "model_module": "@jupyter-widgets/controls",
          "model_module_version": "1.5.0",
          "model_name": "HTMLModel",
          "state": {
            "_dom_classes": [],
            "_model_module": "@jupyter-widgets/controls",
            "_model_module_version": "1.5.0",
            "_model_name": "HTMLModel",
            "_view_count": null,
            "_view_module": "@jupyter-widgets/controls",
            "_view_module_version": "1.5.0",
            "_view_name": "HTMLView",
            "description": "",
            "description_tooltip": null,
            "layout": "IPY_MODEL_514b3ea050e641aab387355b2eba458e",
            "placeholder": "​",
            "style": "IPY_MODEL_2cfcb172c7b543cea3656e6d1ee2beb6",
            "value": ""
          }
        },
        "b75bd57d486c464a8a52e862f195c055": {
          "model_module": "@jupyter-widgets/base",
          "model_module_version": "1.2.0",
          "model_name": "LayoutModel",
          "state": {
            "_model_module": "@jupyter-widgets/base",
            "_model_module_version": "1.2.0",
            "_model_name": "LayoutModel",
            "_view_count": null,
            "_view_module": "@jupyter-widgets/base",
            "_view_module_version": "1.2.0",
            "_view_name": "LayoutView",
            "align_content": null,
            "align_items": null,
            "align_self": null,
            "border": null,
            "bottom": null,
            "display": null,
            "flex": null,
            "flex_flow": null,
            "grid_area": null,
            "grid_auto_columns": null,
            "grid_auto_flow": null,
            "grid_auto_rows": null,
            "grid_column": null,
            "grid_gap": null,
            "grid_row": null,
            "grid_template_areas": null,
            "grid_template_columns": null,
            "grid_template_rows": null,
            "height": null,
            "justify_content": null,
            "justify_items": null,
            "left": null,
            "margin": null,
            "max_height": null,
            "max_width": null,
            "min_height": null,
            "min_width": null,
            "object_fit": null,
            "object_position": null,
            "order": null,
            "overflow": null,
            "overflow_x": null,
            "overflow_y": null,
            "padding": null,
            "right": null,
            "top": null,
            "visibility": null,
            "width": null
          }
        },
        "e26920dd0c5843e7bd148ca24a8b5e60": {
          "model_module": "@jupyter-widgets/controls",
          "model_module_version": "1.5.0",
          "model_name": "HTMLModel",
          "state": {
            "_dom_classes": [],
            "_model_module": "@jupyter-widgets/controls",
            "_model_module_version": "1.5.0",
            "_model_name": "HTMLModel",
            "_view_count": null,
            "_view_module": "@jupyter-widgets/controls",
            "_view_module_version": "1.5.0",
            "_view_name": "HTMLView",
            "description": "",
            "description_tooltip": null,
            "layout": "IPY_MODEL_b75bd57d486c464a8a52e862f195c055",
            "placeholder": "​",
            "style": "IPY_MODEL_07594f5288884e85b522d521159a158b",
            "value": " 6618/? [00:20&lt;00:00, 7118.76B/s]"
          }
        }
      }
    }
  },
  "nbformat": 4,
  "nbformat_minor": 0
}
