{
 "cells": [
  {
   "cell_type": "code",
   "execution_count": 6,
   "metadata": {},
   "outputs": [],
   "source": [
    "import numpy as np\n",
    "from tqdm import tqdm"
   ]
  },
  {
   "cell_type": "code",
   "execution_count": 9,
   "metadata": {},
   "outputs": [
    {
     "name": "stderr",
     "output_type": "stream",
     "text": [
      "100%|██████████| 10000/10000 [00:04<00:00, 2387.30it/s]\n"
     ]
    },
    {
     "data": {
      "text/plain": [
       "5.8844"
      ]
     },
     "execution_count": 9,
     "metadata": {},
     "output_type": "execute_result"
    }
   ],
   "source": [
    "updatenums = []\n",
    "N = 200\n",
    "v = 10\n",
    "for i in tqdm(range(10000)):\n",
    "    X = np.random.uniform(0, v, (N, 1))\n",
    "    maxbid = -1\n",
    "    num_updates = 0\n",
    "    for j in range(N):\n",
    "        if maxbid < X[j]:\n",
    "            num_updates += 1\n",
    "            maxbid = X[j]\n",
    "    updatenums.append(num_updates)\n",
    "np.mean(updatenums)\n"
   ]
  },
  {
   "cell_type": "code",
   "execution_count": null,
   "metadata": {},
   "outputs": [],
   "source": []
  }
 ],
 "metadata": {
  "kernelspec": {
   "display_name": "bi183",
   "language": "python",
   "name": "bi183"
  },
  "language_info": {
   "codemirror_mode": {
    "name": "ipython",
    "version": 3
   },
   "file_extension": ".py",
   "mimetype": "text/x-python",
   "name": "python",
   "nbconvert_exporter": "python",
   "pygments_lexer": "ipython3",
   "version": "3.10.4"
  },
  "orig_nbformat": 4
 },
 "nbformat": 4,
 "nbformat_minor": 2
}
