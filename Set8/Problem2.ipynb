{
  "cells": [
    {
      "cell_type": "markdown",
      "metadata": {
        "colab_type": "text",
        "id": "view-in-github"
      },
      "source": [
        "<a href=\"https://colab.research.google.com/github/pachterlab/BI-BE-CS-183-2023/blob/main/HW8/Problem3.ipynb\" target=\"_parent\"><img src=\"https://colab.research.google.com/assets/colab-badge.svg\" alt=\"Open In Colab\"/></a>"
      ]
    },
    {
      "cell_type": "markdown",
      "metadata": {
        "id": "MozW3XxY8ezr"
      },
      "source": [
        "Bi/Be/Cs 183 2022-2023: Intro to Computational Biology\n",
        "TAs: Meichen Fang, Tara Chari, Zitong (Jerry) Wang\n",
        "\n",
        "**Submit your notebooks by sharing a clickable link with Viewer access. Link must be accessible from submitted assignment document.**\n",
        "\n",
        "Make sure Runtime $\\rightarrow$ Restart and run all works without error"
      ]
    },
    {
      "cell_type": "markdown",
      "metadata": {
        "id": "Mu4obGyqS8fh"
      },
      "source": [
        "# **HW 8 Problem 3**\n",
        "\n",
        "Chimpanzees are the closest living relatives to humans. Here we will be looking at differences between the two genomes. \n",
        "\n",
        "In this problem you will implement the Needleman-Wunsch algorithm for global alignment between a pair of sequences of human and chimpanzee FOXP2 genes [1]. You will be reading in a FASTA file of DNA sequences and run the algorithm to find their optimal alignment given a set of rewards and penalties for the possible nucleotide pairs. This algorithm allows for gaps in the alignment, and constructs the global optimal alignment by iteratively finding the solutions for sets of small subsequences and their alignments.\n",
        "\n",
        "FOXP2 is a gene that has been implicated in speech and language development in humans, where mutations in the gene can inhibit speech. Interestingly, FOXP2s sequence and function are different between chimpanzees and humans, and its mechanism(s) is an area of study for researchers in understanding how we process and develop language.\n",
        "\n",
        "[1] Enard W, Przeworski M, Fisher SE, Lai CS, Wiebe V, Kitano T, Monaco AP, Pääbo S. Molecular evolution of FOXP2, a gene involved in speech and language. Nature. 2002 Aug 22;418(6900):869-72. doi: 10.1038/nature01025. Epub 2002 Aug 14. PMID: 12192408.\n",
        "\n"
      ]
    },
    {
      "cell_type": "markdown",
      "metadata": {
        "id": "fJ8J92ntz2rk"
      },
      "source": [
        "##**Import data and install packages**"
      ]
    },
    {
      "cell_type": "code",
      "execution_count": 1,
      "metadata": {
        "id": "rjy8W5hly24q"
      },
      "outputs": [],
      "source": [
        "import numpy as np\n",
        "import scipy.io as sio\n",
        "import pandas as pd\n",
        "import matplotlib.pyplot as plt #Can use other plotting packages like seaborn"
      ]
    },
    {
      "cell_type": "code",
      "execution_count": 2,
      "metadata": {
        "colab": {
          "base_uri": "https://localhost:8080/"
        },
        "id": "yH-EpSmB9Y_x",
        "outputId": "37d69f70-3790-4928-87ba-3041d75b4bcb"
      },
      "outputs": [
        {
          "name": "stdout",
          "output_type": "stream",
          "text": [
            "--2023-03-06 01:12:02--  https://drive.google.com/uc?export=download&id=1GFYciWTl2Objrplb1XqNa0pWzTBvXbsm\n",
            "Resolving drive.google.com (drive.google.com)... 142.250.189.14, 2607:f8b0:4007:817::200e\n",
            "Connecting to drive.google.com (drive.google.com)|142.250.189.14|:443... connected.\n",
            "HTTP request sent, awaiting response... 303 See Other\n",
            "Location: https://doc-0k-3c-docs.googleusercontent.com/docs/securesc/ha0ro937gcuc7l7deffksulhg5h7mbp1/094g3d09r0r9noare6gsb8cfiet6sguh/1678093875000/14515314329444727017/*/1GFYciWTl2Objrplb1XqNa0pWzTBvXbsm?e=download&uuid=ea32a275-1a74-421f-a407-bd99b8f44162 [following]\n",
            "Warning: wildcards not supported in HTTP.\n",
            "--2023-03-06 01:12:02--  https://doc-0k-3c-docs.googleusercontent.com/docs/securesc/ha0ro937gcuc7l7deffksulhg5h7mbp1/094g3d09r0r9noare6gsb8cfiet6sguh/1678093875000/14515314329444727017/*/1GFYciWTl2Objrplb1XqNa0pWzTBvXbsm?e=download&uuid=ea32a275-1a74-421f-a407-bd99b8f44162\n",
            "Resolving doc-0k-3c-docs.googleusercontent.com (doc-0k-3c-docs.googleusercontent.com)... 142.250.189.1, 2607:f8b0:4007:817::2001\n",
            "Connecting to doc-0k-3c-docs.googleusercontent.com (doc-0k-3c-docs.googleusercontent.com)|142.250.189.1|:443... connected.\n",
            "HTTP request sent, awaiting response... 200 OK\n",
            "Length: 49 [application/octet-stream]\n",
            "Saving to: ‘seqs.fasta’\n",
            "\n",
            "seqs.fasta          100%[===================>]      49  --.-KB/s    in 0s      \n",
            "\n",
            "2023-03-06 01:12:03 (1.25 MB/s) - ‘seqs.fasta’ saved [49/49]\n",
            "\n"
          ]
        }
      ],
      "source": [
        "#Download the FASTA file with a pair of nucleotide sequences\n",
        "\n",
        "!wget --content-disposition 'https://drive.google.com/uc?export=download&id=1GFYciWTl2Objrplb1XqNa0pWzTBvXbsm'"
      ]
    },
    {
      "cell_type": "markdown",
      "metadata": {
        "id": "PpeuucqgiDPx"
      },
      "source": [
        "## **Read in data for analysis**"
      ]
    },
    {
      "cell_type": "markdown",
      "metadata": {
        "id": "swY2nSDukmXg"
      },
      "source": [
        "**The data**"
      ]
    },
    {
      "cell_type": "markdown",
      "metadata": {
        "id": "h9dCxq5twLUk"
      },
      "source": [
        "Here you will read in  a FASTA file of a pair of DNA sequences. FASTA is a common text file format in which nucleotide sequences are stored. Commonly, the name of the sequence follows a '>'. The following line then has the sequence itself, terminated by an '*'."
      ]
    },
    {
      "cell_type": "code",
      "execution_count": 3,
      "metadata": {
        "colab": {
          "base_uri": "https://localhost:8080/"
        },
        "id": "njnLSJehwurt",
        "outputId": "73485b91-4c51-4c23-a595-9b788b6a9a0e"
      },
      "outputs": [
        {
          "name": "stdout",
          "output_type": "stream",
          "text": [
            ">sequence1\n",
            "ACAACAACAG*\n",
            ">sequence2\n",
            "ACAACAGCAGCAG*\n"
          ]
        }
      ],
      "source": [
        "#Print the FASTA file we downloaded\n",
        "!cat seqs.fasta"
      ]
    },
    {
      "cell_type": "markdown",
      "metadata": {
        "id": "BSNL7Tr7g2z_"
      },
      "source": [
        "## **Problem 3 (40 points)**"
      ]
    },
    {
      "cell_type": "markdown",
      "metadata": {
        "id": "4SveJ1yfd5Ay"
      },
      "source": [
        "In the Needleman-Wunsch (NW) algorithm we will have two matrices: the score matrix and traceback matrix. \n",
        "\n",
        "###Score Matrix\n",
        "\n",
        "We begin by constructing a **score matrix** $\\mathbf{F}$, an $(m+1)\\times(n+1)$ matrix for two sequences $x,y$ of length $m$ and $n$ respectively. Each entry $i,j$ corresponds to the alignment score of the nucleotides in at $x_i \\text{ and } y_j$.\n",
        "\n",
        "Nucleotide pairs can either be aligned to eachother (e.g. $F(1,1)$ = 'G' mapped to 'G') or to a gap (e.g. $F(1,0)$ = 'G' mapped to '-'). Pairs can also be aligned if they do not match (e.g. $F(1,2)$ = 'G' mapped to 'A'). (See below for sequences $x$ = 'GATTACA', $y$ = 'GCATGCT')\n",
        "\n",
        "\n",
        "\n",
        "\n",
        "\n"
      ]
    },
    {
      "cell_type": "markdown",
      "metadata": {
        "id": "w9RtLXVrq07n"
      },
      "source": [
        "<center><img src=\"https://drive.google.com/uc?export=view&id=1Qfzs96bRkU2YJwx8Ss9VcjRN2EPUyLY4\" alt=\"exGrid\" width=\"300\" height=\"300\"><center>"
      ]
    },
    {
      "cell_type": "markdown",
      "metadata": {
        "id": "_rfy3lYVq2V5"
      },
      "source": [
        "To calculate a score/entry for $F_{i,j}$, we will use the scores of $F_{i-1,j-1},F_{i-1,j}$ and $F_{i,j-1}$. The score for $F_{i,j}$ is defined as the maximum score of (1) $x_i$ being aligned to $y_j$, (2) $x_i$ being aligned to a gap '-', and (3) $y_j$ being aligned to a gap '-'. Thus the score is calculated as:\n",
        "\n",
        "\\begin{align}\n",
        "F_{i,j} = max\\begin{cases} \n",
        "      F_{i-1,j-1} + s(x_i,y_j) & (1) \\\\\n",
        "      F_{i-1,j} - d & (2) \\\\\n",
        "      F_{i,j-1} - d & (3)\n",
        "   \\end{cases}\n",
        "\\end{align}\n",
        "\n",
        "$s()$ denotes a score function, which we will define below, that returns a reward for two matched nucleotides or a penalty for mismatched bases.\n",
        "We will also set a value for the 'gap penalty' $d$."
      ]
    },
    {
      "cell_type": "markdown",
      "metadata": {
        "id": "A7R6sTansoYU"
      },
      "source": [
        "We can draw this score calculation as:"
      ]
    },
    {
      "cell_type": "markdown",
      "metadata": {
        "id": "Uk_g9dIl1tHT"
      },
      "source": [
        "<center><img src=\"https://drive.google.com/uc?export=view&id=1MZf_hZ_7Tprj0hV0rpwsBWXBmrmFvWt_\" alt=\"exScore\" width=\"300\" height=\"160\"><center>"
      ]
    },
    {
      "cell_type": "markdown",
      "metadata": {
        "id": "TXZSWn_JJOyM"
      },
      "source": [
        "###Traceback Matrix\n",
        "\n",
        "After we find out the highest score, the previous cell which gave the highest candidate score must also be recorded. This information is recorded in the **traceback matrix** $\\mathbf{P}$. For example, if $F_{i-1,j-1} + s(x_i,y_j)$ gives the maximum score for $F_{i,j}$, then the corresponding cell of the traceback matrix $\\mathbf{P}_{ij}$ is ”diag”, which means the last cell is $F_{i-1,j-1}$. If it is the above cell $F_{i-1,j}$ that gives the maximum score , then the $\\mathbf{P}_{ij}$ is ”up”. If there are even scores, we can just record one of them for the problem."
      ]
    },
    {
      "cell_type": "markdown",
      "metadata": {
        "id": "wmesEKALUnfS"
      },
      "source": [
        "After filling all cells of the score matrix and traceback matrix, the score in the cell on the bottom right represents the alignment score for the best alignment. We then use the traceback matrix to construct the best alignment.\n",
        "\n",
        "The traceback begins with the bottom right cell. One moves according to the traceback value written in the cell. There are three possible moves: diagonally (toward the top-left corner of the matrix), up, or left.\n",
        "The traceback is completed when the first, top-left cell of\n",
        "the matrix is reached.\n",
        "\n",
        "Here is the bottom right corner of an example traceback matrix:\n",
        "<center><img src=\"https://drive.google.com/uc?export=view&id=183LAe4zPt2s8qsyfVmyScoWxyUBVC6uX\" alt=\"exScore\" width=\"250\" height=\"160\"><center>"
      ]
    },
    {
      "cell_type": "markdown",
      "metadata": {
        "id": "74oBMwZuRZP-"
      },
      "source": [
        "In summary, the Needleman-Wunsch algorithm consists of three steps:\n",
        "1. Initialisation of the score matrix\n",
        "2. Calculation of scores and filling the traceback matrix\n",
        "3. Deducing the alignment from the traceback matrix\n",
        "\n",
        "We will implement each step below."
      ]
    },
    {
      "cell_type": "markdown",
      "metadata": {
        "id": "49ekjwPBijRu"
      },
      "source": [
        "### **a) Read in the DNA sequences from the FASTA file. Extract just the sequence strings, *not including* the asterisk at the end, and print the two strings. (2 points)**"
      ]
    },
    {
      "cell_type": "code",
      "execution_count": 49,
      "metadata": {
        "id": "OS5HYKVjmeMq"
      },
      "outputs": [
        {
          "name": "stdout",
          "output_type": "stream",
          "text": [
            "Sequence 1: ACAACAACAG\n",
            "Sequence 2: ACAACAGCAGCAG\n"
          ]
        }
      ],
      "source": [
        "# open the FASTA file\n",
        "with open(\"seqs.fasta\", \"r\") as f:\n",
        "    # read in the file\n",
        "    data = f.readlines()\n",
        "\n",
        "# extract the sequence strings\n",
        "seq1 = data[1].rstrip(\"*\\n\")\n",
        "seq2 = data[3].rstrip(\"*\\n\")\n",
        "\n",
        "# print the sequences\n",
        "print(\"Sequence 1:\", seq1)\n",
        "print(\"Sequence 2:\", seq2)"
      ]
    },
    {
      "cell_type": "markdown",
      "metadata": {
        "id": "hMGOe1xHhP77"
      },
      "source": [
        "### **b) Initialisation of the score matrix: fill in the boundary conditions of $\\mathbf{F}$. (5 points)**\n",
        "The first column and row denote all bases in that column or row being mapped to gaps '-'. Assuming $F_{0,0} = 0$, fill in row 0 and column 0 accordingly, using a **gap penalty $\\mathbf{d = -1}$**. \n",
        "\n",
        "**Print your $\\mathbf{F}$ matrix after initialization.**"
      ]
    },
    {
      "cell_type": "code",
      "execution_count": 50,
      "metadata": {},
      "outputs": [],
      "source": [
        "m, n = len(seq1), len(seq2)\n",
        "d = -1\n",
        "F = np.zeros((m+1, n+1))\n",
        "F[0, 1:] = d * np.arange(1, n+1)\n",
        "F[1:, 0] = d * np.arange(1, m+1)"
      ]
    },
    {
      "cell_type": "code",
      "execution_count": 51,
      "metadata": {},
      "outputs": [
        {
          "name": "stdout",
          "output_type": "stream",
          "text": [
            "[[  0.  -1.  -2.  -3.  -4.  -5.  -6.  -7.  -8.  -9. -10. -11. -12. -13.]\n",
            " [ -1.   0.   0.   0.   0.   0.   0.   0.   0.   0.   0.   0.   0.   0.]\n",
            " [ -2.   0.   0.   0.   0.   0.   0.   0.   0.   0.   0.   0.   0.   0.]\n",
            " [ -3.   0.   0.   0.   0.   0.   0.   0.   0.   0.   0.   0.   0.   0.]\n",
            " [ -4.   0.   0.   0.   0.   0.   0.   0.   0.   0.   0.   0.   0.   0.]\n",
            " [ -5.   0.   0.   0.   0.   0.   0.   0.   0.   0.   0.   0.   0.   0.]\n",
            " [ -6.   0.   0.   0.   0.   0.   0.   0.   0.   0.   0.   0.   0.   0.]\n",
            " [ -7.   0.   0.   0.   0.   0.   0.   0.   0.   0.   0.   0.   0.   0.]\n",
            " [ -8.   0.   0.   0.   0.   0.   0.   0.   0.   0.   0.   0.   0.   0.]\n",
            " [ -9.   0.   0.   0.   0.   0.   0.   0.   0.   0.   0.   0.   0.   0.]\n",
            " [-10.   0.   0.   0.   0.   0.   0.   0.   0.   0.   0.   0.   0.   0.]]\n"
          ]
        }
      ],
      "source": [
        "print(F)"
      ]
    },
    {
      "cell_type": "markdown",
      "metadata": {
        "id": "7rbg1mgJhTYx"
      },
      "source": [
        "### **c) Implement the s() (score) function. (3 points)**\n",
        "\n",
        "Fill in the s() function below to take in two nucleotide bases and output a **reward of 2** if the bases match, and a **penalty of -2** for mismatched bases."
      ]
    },
    {
      "cell_type": "code",
      "execution_count": 52,
      "metadata": {
        "id": "ZSlLlmSnhS4A"
      },
      "outputs": [],
      "source": [
        "def s(x, y):\n",
        "    if x == y:\n",
        "        return 2\n",
        "    else:\n",
        "        return -2"
      ]
    },
    {
      "cell_type": "markdown",
      "metadata": {
        "id": "I8VzNwjHlFFf"
      },
      "source": [
        "### **d) Calculation of scores and filling the traceback matrix: fill in the rest of the $\\mathbf{F}$ matrix, row by row, and store the information in traceback matrix $\\mathbf{P}$. (10 points)**\n",
        "\n",
        "Fill in the $\\mathbf{F}$ matrix using the score function described in the main Problem statement, using the s() function from **c)** and a **gap penalty $\\mathbf{d = -1}$**\n",
        " \n",
        "Remember to store the arrow or the previous cells when we fill in the F. \n",
        "\n",
        "**Print your final $\\mathbf{F}$ matrix and $\\mathbf{P}$ matrix.**"
      ]
    },
    {
      "cell_type": "code",
      "execution_count": 53,
      "metadata": {
        "id": "5v07XqO34haj"
      },
      "outputs": [
        {
          "name": "stdout",
          "output_type": "stream",
          "text": [
            "F\n",
            "[[  0.  -1.  -2.  -3.  -4.  -5.  -6.  -7.  -8.  -9. -10. -11. -12. -13.]\n",
            " [ -1.   2.   1.   0.  -1.  -2.  -3.  -4.  -5.  -6.  -7.  -8.  -9. -10.]\n",
            " [ -2.   1.   4.   3.   2.   1.   0.  -1.  -2.  -3.  -4.  -5.  -6.  -7.]\n",
            " [ -3.   0.   3.   6.   5.   4.   3.   2.   1.   0.  -1.  -2.  -3.  -4.]\n",
            " [ -4.  -1.   2.   5.   8.   7.   6.   5.   4.   3.   2.   1.   0.  -1.]\n",
            " [ -5.  -2.   1.   4.   7.  10.   9.   8.   7.   6.   5.   4.   3.   2.]\n",
            " [ -6.  -3.   0.   3.   6.   9.  12.  11.  10.   9.   8.   7.   6.   5.]\n",
            " [ -7.  -4.  -1.   2.   5.   8.  11.  10.   9.  12.  11.  10.   9.   8.]\n",
            " [ -8.  -5.  -2.   1.   4.   7.  10.   9.  12.  11.  10.  13.  12.  11.]\n",
            " [ -9.  -6.  -3.   0.   3.   6.   9.   8.  11.  14.  13.  12.  15.  14.]\n",
            " [-10.  -7.  -4.  -1.   2.   5.   8.  11.  10.  13.  16.  15.  14.  17.]]\n",
            "\n",
            "P\n",
            "[[None None None None None None None None None None None None None None]\n",
            " [None 'd' 'l' 'd' 'd' 'l' 'd' 'l' 'l' 'd' 'l' 'l' 'd' 'l']\n",
            " [None 'u' 'd' 'l' 'l' 'd' 'l' 'l' 'd' 'l' 'l' 'd' 'l' 'l']\n",
            " [None 'd' 'u' 'd' 'd' 'l' 'd' 'l' 'l' 'd' 'l' 'l' 'd' 'l']\n",
            " [None 'd' 'u' 'd' 'd' 'l' 'd' 'l' 'l' 'd' 'l' 'l' 'd' 'l']\n",
            " [None 'u' 'd' 'u' 'u' 'd' 'l' 'l' 'd' 'l' 'l' 'd' 'l' 'l']\n",
            " [None 'd' 'u' 'd' 'd' 'u' 'd' 'l' 'l' 'd' 'l' 'l' 'd' 'l']\n",
            " [None 'd' 'u' 'd' 'd' 'u' 'd' 'd' 'd' 'd' 'l' 'l' 'd' 'l']\n",
            " [None 'u' 'd' 'u' 'u' 'd' 'u' 'd' 'd' 'u' 'd' 'd' 'l' 'l']\n",
            " [None 'd' 'u' 'd' 'd' 'u' 'd' 'd' 'u' 'd' 'l' 'u' 'd' 'l']\n",
            " [None 'u' 'u' 'u' 'u' 'u' 'u' 'd' 'u' 'u' 'd' 'l' 'u' 'd']]\n"
          ]
        }
      ],
      "source": [
        "P = np.empty((m+1, n+1), dtype=object)\n",
        "for i in range(1, m+1):\n",
        "    for j in range(1, n+1):\n",
        "        match_score = F[i-1, j-1] + s(seq1[i-1], seq2[j-1])\n",
        "        delete_score = F[i-1, j] + d\n",
        "        insert_score = F[i, j-1] + d\n",
        "        max_score = max(match_score, delete_score, insert_score)\n",
        "        F[i, j] = max_score\n",
        "        if match_score == max_score:\n",
        "            P[i, j] = \"d\"\n",
        "        elif delete_score == max_score:\n",
        "            P[i, j] = \"u\"\n",
        "        else: #insert\n",
        "            P[i, j] = \"l\"\n",
        "\n",
        "print(\"F\")\n",
        "print(F)\n",
        "print(\"\\nP\")\n",
        "print(P)"
      ]
    },
    {
      "cell_type": "markdown",
      "metadata": {
        "id": "eEz9p0zOlgSu"
      },
      "source": [
        "### **e) Beginning at bottom corner, traceback the alignment and output the final alignment of the two sequences (10 points)**"
      ]
    },
    {
      "attachments": {},
      "cell_type": "markdown",
      "metadata": {
        "id": "jqRSmq1Ry4Xf"
      },
      "source": [
        "At each step in the traceback we look at the entries of $\\mathbf{P}_{i,j}$ matrix which records which cell (among $F_{i-1,j-1}, F_{i-1,j} and F_{i,j-1}$) $F_{i,j}$ was derived from. We take a 'step' back to the recorded previous entry that gave the max score, and add a pair of symbols/nucleotides to the alignment accordingly.\n",
        "\n",
        "If $\\mathbf{P}_{i,j}$ is diag, the step is to $F_{i-1,j-1}$ (diagonal arrow), $x_i$ and $y_j$ are added to the alignment. \n",
        "\n",
        "If $\\mathbf{P}_{i,j}$ is up, the step is to $F_{i-1,j}$ (vertical arrow), and $x_i$ and '-' (gap character) are added.\n",
        "\n",
        "If $\\mathbf{P}_{i,j}$ is left, the step is to $F_{i,j-1}$ (horizontal arrow), and  '-' and $y_j$ are added."
      ]
    },
    {
      "cell_type": "markdown",
      "metadata": {
        "id": "GFnVPk3Nl_dC"
      },
      "source": [
        "\n",
        "If there is a tie for the max entry, choose any of the entries in that tie with equal probability. "
      ]
    },
    {
      "cell_type": "markdown",
      "metadata": {
        "id": "h8SXsKENV_8X"
      },
      "source": [
        "Example: here we combine the traceback and score matrix for visualization such that the numbers are the scores and the arrows represent the information in the traceback matrix.\n",
        "\n",
        "Starting at the right corner, according to our recorded arrow, this comes from the left cell, thus T from y and a gap '-' are aligned. In the next step, again based on the arrow, the top cell is selected, thus the A from x is aligned to a gap '-'."
      ]
    },
    {
      "cell_type": "markdown",
      "metadata": {
        "id": "SvI2J0E6vV_U"
      },
      "source": [
        "<center><img src=\"https://drive.google.com/uc?export=view&id=1mONEIOXBIBhTlYjevItK6dexR6V091cw\" alt=\"exScore\" width=\"450\" height=\"350\"><center>"
      ]
    },
    {
      "cell_type": "markdown",
      "metadata": {
        "id": "QbIQn3eGc_dr"
      },
      "source": [
        "The result alignment is:\n",
        "```\n",
        "G\t-\tA\tT\tT\tA\t-\tC\tA\t-\n",
        "G\tC\tA\tT\t-\t-\tG\tC\t-\tT\n",
        "```\n",
        "\n"
      ]
    },
    {
      "cell_type": "code",
      "execution_count": 54,
      "metadata": {
        "id": "fTg3dkgumraE"
      },
      "outputs": [],
      "source": [
        "i, j = m, n\n",
        "aligned_seq1, aligned_seq2 = \"\", \"\"\n",
        "while i > 0 or j > 0:\n",
        "    match P[i, j]:\n",
        "        case \"d\":\n",
        "            aligned_seq1 = seq1[i-1] + aligned_seq1\n",
        "            aligned_seq2 = seq2[j-1] + aligned_seq2\n",
        "            i -= 1\n",
        "            j -= 1\n",
        "        case \"u\":\n",
        "            aligned_seq1 = seq1[i-1] + aligned_seq1\n",
        "            aligned_seq2 = \"-\" + aligned_seq2\n",
        "            i -= 1\n",
        "        case _:\n",
        "            aligned_seq1 = \"-\" + aligned_seq1\n",
        "            aligned_seq2 = seq2[j-1] + aligned_seq2\n",
        "            j -= 1"
      ]
    },
    {
      "cell_type": "code",
      "execution_count": 55,
      "metadata": {},
      "outputs": [
        {
          "name": "stdout",
          "output_type": "stream",
          "text": [
            "Alignment: \n",
            "ACAACA--A-CAG\n",
            "ACAACAGCAGCAG\n"
          ]
        }
      ],
      "source": [
        "print(\"Alignment: \")\n",
        "print(aligned_seq1)\n",
        "print(aligned_seq2)"
      ]
    },
    {
      "cell_type": "markdown",
      "metadata": {
        "id": "JdE9-1Ormnw2"
      },
      "source": [
        "### **f) Change the score function to adapt the mismatch penalties to account for more or less likely nucleotide substitutions. (5 points)**\n",
        "\n",
        "Transitions within the purine class (A <--> G) or within the pyrimidine class (C <--> T) are more likely and thus have a **penalty of -1**. Transversions, across classes (e.g. A --> T) have a **penalty of -2** as they are less likely.\n",
        "\n",
        "**Define a new s() function to implement these penalty changes.**"
      ]
    },
    {
      "cell_type": "code",
      "execution_count": 56,
      "metadata": {
        "id": "dms3XZ4zmtHD"
      },
      "outputs": [],
      "source": [
        "def s(x, y):\n",
        "    if x == y:\n",
        "        return 1\n",
        "    elif x in \"AG\" and y in \"AG\" or x in \"CT\" and y in \"CT\":\n",
        "        return -1\n",
        "    else:\n",
        "        return -2"
      ]
    },
    {
      "cell_type": "markdown",
      "metadata": {
        "id": "vSdXasDvnaTY"
      },
      "source": [
        "### **g) Re-run the NW algorithm with new penalties, report your new final alignment with the penalty changes/new score function in f), and print the full (final) $\\mathbf{F}$ matrix. (5 points)**\n",
        "\n",
        "Use the adapted mismatch penalties. If there are multiple possible alignments, you just need to report one of them."
      ]
    },
    {
      "cell_type": "code",
      "execution_count": 57,
      "metadata": {
        "id": "u1qC7GUSFwGb"
      },
      "outputs": [
        {
          "name": "stdout",
          "output_type": "stream",
          "text": [
            "Final F matrix:\n",
            "[[  0.  -1.  -2.  -3.  -4.  -5.  -6.  -7.  -8.  -9. -10. -11. -12. -13.]\n",
            " [ -1.   1.   0.  -1.  -2.  -3.  -4.  -5.  -6.  -7.  -8.  -9. -10. -11.]\n",
            " [ -2.   0.   2.   1.   0.  -1.  -2.  -3.  -4.  -5.  -6.  -7.  -8.  -9.]\n",
            " [ -3.  -1.   1.   3.   2.   1.   0.  -1.  -2.  -3.  -4.  -5.  -6.  -7.]\n",
            " [ -4.  -2.   0.   2.   4.   3.   2.   1.   0.  -1.  -2.  -3.  -4.  -5.]\n",
            " [ -5.  -3.  -1.   1.   3.   5.   4.   3.   2.   1.   0.  -1.  -2.  -3.]\n",
            " [ -6.  -4.  -2.   0.   2.   4.   6.   5.   4.   3.   2.   1.   0.  -1.]\n",
            " [ -7.  -5.  -3.  -1.   1.   3.   5.   5.   4.   5.   4.   3.   2.   1.]\n",
            " [ -8.  -6.  -4.  -2.   0.   2.   4.   4.   6.   5.   4.   5.   4.   3.]\n",
            " [ -9.  -7.  -5.  -3.  -1.   1.   3.   3.   5.   7.   6.   5.   6.   5.]\n",
            " [-10.  -8.  -6.  -4.  -2.   0.   2.   4.   4.   6.   8.   7.   6.   7.]]\n"
          ]
        }
      ],
      "source": [
        "d = -1\n",
        "m, n = len(seq1), len(seq2)\n",
        "F = np.zeros((m+1, n+1))\n",
        "P = np.empty((m+1, n+1), dtype=object)\n",
        "F[0, 1:] = d * np.arange(1, n+1)\n",
        "F[1:, 0] = d * np.arange(1, m+1)\n",
        "\n",
        "for i in range(1, m+1):\n",
        "    for j in range(1, n+1):\n",
        "        match_score = F[i-1, j-1] + s(seq1[i-1], seq2[j-1])\n",
        "        delete_score = F[i-1, j] + d\n",
        "        insert_score = F[i, j-1] + d\n",
        "        max_score = max(match_score, delete_score, insert_score)\n",
        "        F[i, j] = max_score\n",
        "        if match_score == max_score:\n",
        "            P[i, j] = \"diag\"\n",
        "        elif delete_score == max_score:\n",
        "            P[i, j] = \"up\"\n",
        "        else:\n",
        "            P[i, j] = \"left\"\n",
        "\n",
        "i, j = m, n\n",
        "aligned_seq1, aligned_seq2 = \"\", \"\"\n",
        "while i > 0 or j > 0:\n",
        "    if P[i, j] == \"diag\":\n",
        "        aligned_seq1 = seq1[i-1] + aligned_seq1\n",
        "        aligned_seq2 = seq2[j-1] + aligned_seq2\n",
        "        i -= 1\n",
        "        j -= 1\n",
        "    elif P[i, j] == \"up\":\n",
        "        aligned_seq1 = seq1[i-1] + aligned_seq1\n",
        "        aligned_seq2 = \"-\" + aligned_seq2\n",
        "        i -= 1\n",
        "    else:\n",
        "        aligned_seq1 = \"-\" + aligned_seq1\n",
        "        aligned_seq2 = seq2[j-1] + aligned_seq2\n",
        "        j -= 1\n",
        "\n",
        "\n",
        "print(\"Final F matrix:\")\n",
        "print(F)"
      ]
    }
  ],
  "metadata": {
    "colab": {
      "include_colab_link": true,
      "provenance": []
    },
    "kernelspec": {
      "display_name": "bi183",
      "language": "python",
      "name": "bi183"
    },
    "language_info": {
      "codemirror_mode": {
        "name": "ipython",
        "version": 3
      },
      "file_extension": ".py",
      "mimetype": "text/x-python",
      "name": "python",
      "nbconvert_exporter": "python",
      "pygments_lexer": "ipython3",
      "version": "3.10.4"
    }
  },
  "nbformat": 4,
  "nbformat_minor": 0
}
