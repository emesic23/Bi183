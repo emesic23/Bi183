{
 "cells": [
  {
   "cell_type": "code",
   "execution_count": 17,
   "metadata": {},
   "outputs": [],
   "source": [
    "import numpy as np\n",
    "from hmmlearn import hmm\n",
    "\n"
   ]
  },
  {
   "attachments": {},
   "cell_type": "markdown",
   "metadata": {},
   "source": [
    "A"
   ]
  },
  {
   "cell_type": "code",
   "execution_count": 18,
   "metadata": {},
   "outputs": [
    {
     "name": "stdout",
     "output_type": "stream",
     "text": [
      "BBB\n",
      "GBB\n",
      "BGB\n",
      "GGB\n",
      "BBG\n",
      "GBG\n",
      "BGG\n",
      "GGG\n"
     ]
    }
   ],
   "source": [
    "# Define the HMM parameters\n",
    "n = 2  # number of hidden states\n",
    "m = 4  # number of observed states\n",
    "S = [[0.8, 0.2], [0.05, 0.95]]  # transition matrix\n",
    "T = [[0.2, 0.5, 0.1, 0.2], [0.1, 0.25, 0.25, 0.4]]  # emission matrix\n",
    "pi = [0.5, 0.5]  # initial state probabilities\n",
    "\n",
    "# Define the observed sequence\n",
    "obs = [0, 1, 2]  # ACG\n",
    "\n",
    "\n",
    "# Create an HMM model and fit it to the data\n",
    "model = hmm.CategoricalHMM(n_components=n, init_params='')\n",
    "model.startprob_ = pi\n",
    "model.transmat_ = S\n",
    "model.emissionprob_ = T\n",
    "\n",
    "for z in range(2**len(obs)):\n",
    "    hidden_state_seq = np.zeros(len(obs), dtype=int)\n",
    "    for i in range(len(obs)):\n",
    "        hidden_state_seq[i] = (z // 2**i) % 2\n",
    "    logprob = model.score(hidden_state_seq.reshape(-1, 1))\n",
    "    if np.exp(logprob) > 0:\n",
    "        print(''.join(['B' if s == 0 else 'G' for s in hidden_state_seq]))\n"
   ]
  },
  {
   "attachments": {},
   "cell_type": "markdown",
   "metadata": {},
   "source": [
    "B"
   ]
  },
  {
   "cell_type": "code",
   "execution_count": 19,
   "metadata": {},
   "outputs": [
    {
     "name": "stdout",
     "output_type": "stream",
     "text": [
      "BBB\n"
     ]
    }
   ],
   "source": [
    "# Use the Viterbi algorithm to find the most probable sequence of hidden states\n",
    "logprob, path = model.decode([obs], algorithm='viterbi')\n",
    "hidden_state_seq = path\n",
    "\n",
    "# Print the most probable sequence of hidden states\n",
    "print(''.join(['B' if s == 0 else 'G' for s in hidden_state_seq]))\n"
   ]
  },
  {
   "attachments": {},
   "cell_type": "markdown",
   "metadata": {},
   "source": [
    "C"
   ]
  },
  {
   "cell_type": "code",
   "execution_count": 20,
   "metadata": {},
   "outputs": [
    {
     "data": {
      "text/plain": [
       "0.15772640625000003"
      ]
     },
     "execution_count": 20,
     "metadata": {},
     "output_type": "execute_result"
    }
   ],
   "source": [
    "p_obs = 0\n",
    "for z in range(2**len(obs)):\n",
    "    hidden_state_seq = np.zeros(len(obs), dtype=int)\n",
    "    for i in range(len(obs)):\n",
    "        hidden_state_seq[i] = (z // 2**i) % 2\n",
    "    logprob = model.score(hidden_state_seq.reshape(-1, 1))\n",
    "    p_z = np.exp(model.score(hidden_state_seq.reshape(-1, 1)[0:1]))\n",
    "    p_obs_given_z = np.exp(logprob - np.log(p_z))\n",
    "    p_obs += p_z * p_obs_given_z\n",
    "p_obs"
   ]
  },
  {
   "attachments": {},
   "cell_type": "markdown",
   "metadata": {},
   "source": [
    "D"
   ]
  },
  {
   "cell_type": "code",
   "execution_count": 21,
   "metadata": {},
   "outputs": [
    {
     "name": "stdout",
     "output_type": "stream",
     "text": [
      "0.003200000000000002\n"
     ]
    }
   ],
   "source": [
    "# Use the Viterbi algorithm to find the most probable sequence of hidden states\n",
    "logprob, path = model.decode([obs], algorithm='viterbi')\n",
    "hidden_state_seq = path\n",
    "\n",
    "# Compute the probability of observing the sequence ACG via the most probable sequence of hidden states\n",
    "p_z = np.exp(model.score(hidden_state_seq.reshape(-1, 1)[0:1]))\n",
    "p_obs_given_z = np.exp(logprob - np.log(p_z))\n",
    "p_obs_star = p_z * p_obs_given_z\n",
    "\n",
    "# Print the probability of observing the sequence ACG via the most probable sequence of hidden states\n",
    "print(p_obs_star)"
   ]
  },
  {
   "attachments": {},
   "cell_type": "markdown",
   "metadata": {},
   "source": [
    "E."
   ]
  },
  {
   "attachments": {},
   "cell_type": "markdown",
   "metadata": {},
   "source": [
    "For all possible paths of hidden states we have approx 3x the probability vs just using the most probable sequence. Thus, this approximation is probably not great for this sequence. "
   ]
  },
  {
   "cell_type": "markdown",
   "metadata": {},
   "source": []
  }
 ],
 "metadata": {
  "kernelspec": {
   "display_name": "bi183",
   "language": "python",
   "name": "bi183"
  },
  "language_info": {
   "codemirror_mode": {
    "name": "ipython",
    "version": 3
   },
   "file_extension": ".py",
   "mimetype": "text/x-python",
   "name": "python",
   "nbconvert_exporter": "python",
   "pygments_lexer": "ipython3",
   "version": "3.10.4"
  },
  "orig_nbformat": 4
 },
 "nbformat": 4,
 "nbformat_minor": 2
}
